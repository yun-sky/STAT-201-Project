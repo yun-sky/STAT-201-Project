{
 "cells": [
  {
   "cell_type": "markdown",
   "id": "b09807a8-a5d5-4122-8f4a-a9d5025d5bd2",
   "metadata": {
    "tags": []
   },
   "source": [
    "# STAT 201 Group 47 Project\n"
   ]
  }
 ],
 "metadata": {
  "kernelspec": {
   "display_name": "R",
   "language": "R",
   "name": "ir"
  },
  "language_info": {
   "codemirror_mode": "r",
   "file_extension": ".r",
   "mimetype": "text/x-r-source",
   "name": "R",
   "pygments_lexer": "r",
   "version": "4.2.3"
  }
 },
 "nbformat": 4,
 "nbformat_minor": 5
}
