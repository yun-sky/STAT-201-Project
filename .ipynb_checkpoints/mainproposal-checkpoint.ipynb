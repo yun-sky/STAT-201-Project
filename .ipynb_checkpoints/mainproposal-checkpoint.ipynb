{
 "cells": [
  {
   "cell_type": "code",
   "execution_count": null,
   "id": "f6bc10e1-cb27-435d-9b29-4dc22a7e0210",
   "metadata": {
    "tags": []
   },
   "outputs": [],
   "source": [
    "# Library Dependencies\n",
    "library(tidyverse)\n",
    "library(ggplot2)\n",
    "library(gridExtra)\n",
    "library(grid)\n",
    "library(ggcorrplot)  #Allows to render correlation plot"
   ]
  },
  {
   "cell_type": "code",
   "execution_count": null,
   "id": "1b4b26fd-439d-4f6a-9d25-bc79dbee9b78",
   "metadata": {
    "tags": []
   },
   "outputs": [],
   "source": [
    "# Cleaning the data\n",
    "rice_data <- read.csv(\"Rice_Cammeo_Osmancik.arff\", header=FALSE, comment.char = \"@\")\n",
    "rice_data <- rice_data[-c(0, 1, 2, 3, 4), ] |> \n",
    "    type.convert(as.is= TRUE)\n",
    "colnames(rice_data) <- c(\"area\", \"perimeter\", \"major_axis_length\", \"minor_axis_length\", \"eccentricity\", \n",
    "                            \"convex_area\", \"extent\", \"class\")"
   ]
  },
  {
   "cell_type": "code",
   "execution_count": null,
   "id": "c353a16b-dc33-4983-9c4d-226657a96be7",
   "metadata": {
    "tags": []
   },
   "outputs": [],
   "source": [
    "binary_data <- rice_data |>\n",
    "     mutate(class = ifelse(class == \"Cammeo\",1,0))|>\n",
    "     cor(use=\"complete.obs\") \n",
    "\n",
    "ggcorrplot(binary_data, \n",
    "           hc.order = TRUE, \n",
    "           type = \"lower\",\n",
    "           lab = TRUE)"
   ]
  },
  {
   "cell_type": "code",
   "execution_count": null,
   "id": "f3c92f5a-2ba9-4a8d-8b44-df6b316a4f67",
   "metadata": {
    "tags": []
   },
   "outputs": [],
   "source": [
    "mal_plot <- ggplot(rice_data, aes(x = class, y = major_axis_length)) +\n",
    "    geom_boxplot(fill = \"lightblue\") +\n",
    "    xlab(\"Class of Rice\") +\n",
    "    ggtitle(\"Major Axis Length VS Rice Class\")\n",
    "\n",
    "peri_plot <- ggplot(rice_data, aes(x = class, y = perimeter)) +\n",
    "    geom_boxplot(fill = \"lightgreen\") +\n",
    "    xlab(\"Class of Rice\") +\n",
    "    ggtitle(\"Perimeter VS Rice Class\")\n",
    "\n",
    "grid.arrange(peri_plot, mal_plot, ncol = 2)"
   ]
  },
  {
   "cell_type": "code",
   "execution_count": 114,
   "id": "d6a2c18f-75d5-4ddb-8019-23c79782fe0b",
   "metadata": {
    "tags": []
   },
   "outputs": [
    {
     "data": {
      "text/html": [
       "<table class=\"dataframe\">\n",
       "<caption>A tibble: 2 × 5</caption>\n",
       "<thead>\n",
       "\t<tr><th scope=col>class</th><th scope=col>mean_perimeter</th><th scope=col>mean_mal</th><th scope=col>sd_perimeter</th><th scope=col>sd_mal</th></tr>\n",
       "\t<tr><th scope=col>&lt;chr&gt;</th><th scope=col>&lt;dbl&gt;</th><th scope=col>&lt;dbl&gt;</th><th scope=col>&lt;dbl&gt;</th><th scope=col>&lt;dbl&gt;</th></tr>\n",
       "</thead>\n",
       "<tbody>\n",
       "\t<tr><td>Cammeo  </td><td>487.4389</td><td>205.4786</td><td>22.18152</td><td>10.333854</td></tr>\n",
       "\t<tr><td>Osmancik</td><td>429.4155</td><td>176.2878</td><td>20.15439</td><td> 9.362405</td></tr>\n",
       "</tbody>\n",
       "</table>\n"
      ],
      "text/latex": [
       "A tibble: 2 × 5\n",
       "\\begin{tabular}{lllll}\n",
       " class & mean\\_perimeter & mean\\_mal & sd\\_perimeter & sd\\_mal\\\\\n",
       " <chr> & <dbl> & <dbl> & <dbl> & <dbl>\\\\\n",
       "\\hline\n",
       "\t Cammeo   & 487.4389 & 205.4786 & 22.18152 & 10.333854\\\\\n",
       "\t Osmancik & 429.4155 & 176.2878 & 20.15439 &  9.362405\\\\\n",
       "\\end{tabular}\n"
      ],
      "text/markdown": [
       "\n",
       "A tibble: 2 × 5\n",
       "\n",
       "| class &lt;chr&gt; | mean_perimeter &lt;dbl&gt; | mean_mal &lt;dbl&gt; | sd_perimeter &lt;dbl&gt; | sd_mal &lt;dbl&gt; |\n",
       "|---|---|---|---|---|\n",
       "| Cammeo   | 487.4389 | 205.4786 | 22.18152 | 10.333854 |\n",
       "| Osmancik | 429.4155 | 176.2878 | 20.15439 |  9.362405 |\n",
       "\n"
      ],
      "text/plain": [
       "  class    mean_perimeter mean_mal sd_perimeter sd_mal   \n",
       "1 Cammeo   487.4389       205.4786 22.18152     10.333854\n",
       "2 Osmancik 429.4155       176.2878 20.15439      9.362405"
      ]
     },
     "metadata": {},
     "output_type": "display_data"
    }
   ],
   "source": [
    "# Calculating the mean and standard deviation for each class\n",
    "summary_rice <- rice_data |>\n",
    "    group_by(class) |>\n",
    "    summarize(mean_perimeter = mean(perimeter), mean_mal = mean(major_axis_length), \n",
    "              sd_perimeter = sd(perimeter), sd_mal = sd(major_axis_length))\n",
    "\n",
    "summary_rice"
   ]
  }
 ],
 "metadata": {
  "kernelspec": {
   "display_name": "R",
   "language": "R",
   "name": "ir"
  },
  "language_info": {
   "codemirror_mode": "r",
   "file_extension": ".r",
   "mimetype": "text/x-r-source",
   "name": "R",
   "pygments_lexer": "r",
   "version": "4.2.3"
  }
 },
 "nbformat": 4,
 "nbformat_minor": 5
}
