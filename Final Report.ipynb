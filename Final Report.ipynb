{
 "cells": [
  {
   "cell_type": "markdown",
   "id": "69f590e2-af95-4609-8968-4626e9421576",
   "metadata": {
    "tags": []
   },
   "source": [
    "# Statistical Inference on Quantitative Characteristics of Cammeo & Osmancik Rice\n",
    "**Authors:** Nour Abdelfattah, Muhammad Shahbaz Murtaza, Sky Yun and Emiliano Hernández Castillo\n",
    "\n",
    "**Group:** 47"
   ]
  },
  {
   "cell_type": "markdown",
   "id": "8c152cc9-02eb-493f-b2b2-bd2daccc66d0",
   "metadata": {
    "tags": []
   },
   "source": [
    "## 1. Introduction\n",
    "The genetic varieties of rice are usually separated by specific features such as texture, shape and color. These sets of characteristics have been widely researched to be able to differentiate rice species from one another (Koklu, 2021). Most research attempts to classify different species of rice by taking a sample of rice grains and generating grain images, using a set of features and performing classification processes to predict rice species. This concept is necessary for agricultural practices and due to an increase in the world’s population and harmful environmental phenomenons such as global warming, it is important to be able to identify and use healthy, high quality seeds (Tugrul, 2022).\n",
    "\n"
   ]
  },
  {
   "cell_type": "markdown",
   "id": "92ee7b47-08ab-4710-a1a4-5e9930b8366b",
   "metadata": {
    "tags": []
   },
   "source": [
    "To analyze the features of rice species, our primary inferential question is: **Do the major axis length and perimeter in Cammeo rice differ from the major axis length and perimeter of Osmanick rice?**\n",
    "\n",
    "This data set, `Rice_Cammeo_Osmancik`,  was originally taken from the [UC Irvine Machine Learning Repository](https://archive.ics.uci.edu/dataset/545/rice+cammeo+and+osmancik). The dataset contains a total of 3810 observations of two species of rice, Cammeo and Osmancik, and their corresponding morphological characteristics. The variables of interest are described below:\n",
    "\n",
    "- `major_axis_length`: Describes the longest line that can be drawn on the grain of rice.\n",
    "- `perimeter`: Calculates the circumference on the grain of rice."
   ]
  },
  {
   "cell_type": "markdown",
   "id": "09af50ef-2930-429b-9f77-8618307c6a82",
   "metadata": {},
   "source": [
    "## 2. Preliminary Analysis"
   ]
  },
  {
   "cell_type": "markdown",
   "id": "c97b3870-e7e6-49db-8722-a16fe57870aa",
   "metadata": {
    "tags": []
   },
   "source": [
    "### 2.1 Loading Library Dependencies"
   ]
  },
  {
   "cell_type": "code",
   "execution_count": null,
   "id": "7550749e-31ef-434b-8a66-0f9f1b3f7e18",
   "metadata": {
    "tags": []
   },
   "outputs": [],
   "source": [
    "# Run this before continuing\n",
    "install.packages(\"ggcorrplot\")"
   ]
  },
  {
   "cell_type": "code",
   "execution_count": null,
   "id": "8dc8b5eb-572b-4200-8165-25d2baeaea20",
   "metadata": {
    "tags": []
   },
   "outputs": [],
   "source": [
    "# run this before continuing\n",
    "library(tidyverse)   #Allows to transform and present data\n",
    "library(ggplot2)     #Allows to present data vectors accordingly\n",
    "library(gridExtra)   #Allows to organize presented data graphs\n",
    "library(grid)        #Allows to organize presented data graphs\n",
    "library(ggcorrplot)  #Allows to render correlation plot w/ according vectors\n",
    "library(infer)       #Allows performance of statistical inference\n",
    "library(broom)       #Allows to create tidy data and dataframes from various outputs"
   ]
  },
  {
   "cell_type": "markdown",
   "id": "a4299647-0a4f-4445-81ce-ab23d3871856",
   "metadata": {
    "tags": []
   },
   "source": [
    "### 2.2 Reading and Wrangling Rice Data Set into R"
   ]
  },
  {
   "cell_type": "code",
   "execution_count": null,
   "id": "1b4b26fd-439d-4f6a-9d25-bc79dbee9b78",
   "metadata": {
    "tags": []
   },
   "outputs": [],
   "source": [
    "#Reading original Rice data set from Github repository to R\n",
    "url<- \"https://raw.githubusercontent.com/yun-sky/stat-201-project/main/Rice_Cammeo_Osmancik.arff\"\n",
    "rice_data <- read.csv(url, header=FALSE, comment.char = \"@\", skip = 4) |>\n",
    "                      type.convert(as.is= TRUE) #Converting character data type into double data type                  \n",
    "\n",
    "#Assigning correct column names\n",
    "colnames(rice_data) <- c(\"area\", \"perimeter\", \"major_axis_length\", \"minor_axis_length\", \"eccentricity\", \n",
    "                            \"convex_area\", \"extent\", \"class\")\n"
   ]
  },
  {
   "cell_type": "markdown",
   "id": "d72d933d-97a6-4414-9e6c-b6bd80e3b333",
   "metadata": {},
   "source": [
    "### 2.3 Exploratory Data Analysis"
   ]
  },
  {
   "cell_type": "markdown",
   "id": "aac66810-87e4-4692-8c94-1a0fed3b944a",
   "metadata": {},
   "source": [
    "We want to observe the correlation of class between variables. We will choose our variables accordingly by calculating the **point-biserial correlation** between the class of rice and all the continuous variables."
   ]
  },
  {
   "cell_type": "code",
   "execution_count": null,
   "id": "c353a16b-dc33-4983-9c4d-226657a96be7",
   "metadata": {
    "tags": []
   },
   "outputs": [],
   "source": [
    "options(repr.plot.width = 5, repr.plot.height = 5)\n",
    "\n",
    "#Converting Data set into binary class variable and correct vectors for Corr plot\n",
    "binary_data <- rice_data |>\n",
    "     mutate(class = ifelse(class == \"Cammeo\",1,0)) |>\n",
    "     cor(use=\"complete.obs\") \n",
    "\n",
    "#Plotting Corr plot\n",
    "ggcorrplot(binary_data, \n",
    "           hc.order = TRUE, \n",
    "           type = \"lower\",\n",
    "           lab = TRUE) +\n",
    "\n",
    "labs(title = \"Correlation Plot of Rice data\",\n",
    "     caption = \"\\n Figure 1\") +\n",
    "\n",
    "theme(text = element_text(size = 15),\n",
    "      plot.title = element_text(hjust = 0.5),\n",
    "      plot.caption = element_text(size = 10, hjust = 0.5))"
   ]
  },
  {
   "cell_type": "markdown",
   "id": "460950dd-dc11-4b72-89e7-b6101e6341e8",
   "metadata": {},
   "source": [
    "*Figure 1.0* indicates that the `major_axis_length` and the `perimeter` have the highest correlation with `class`. Thus we will analyze these variables to determine if  there are differences between properties of Cammeo and Osmancik Rice."
   ]
  },
  {
   "cell_type": "code",
   "execution_count": null,
   "id": "717f8d2e-4da7-4615-8af3-c1fa8deebf59",
   "metadata": {
    "tags": []
   },
   "outputs": [],
   "source": [
    "#Given Correlation plot we can select our variables from the data set\n",
    "cleaned_rice_data <- rice_data|>\n",
    "                     select(perimeter, major_axis_length, class) \n",
    "\n",
    "head(cleaned_rice_data) "
   ]
  },
  {
   "cell_type": "markdown",
   "id": "61068cf6-dfd5-4265-b385-ccfbe803fc4a",
   "metadata": {},
   "source": [
    " To further analyze this correlation, we will plot the side-by-side boxplots for each of our variables of interest. "
   ]
  },
  {
   "cell_type": "code",
   "execution_count": null,
   "id": "f3c92f5a-2ba9-4a8d-8b44-df6b316a4f67",
   "metadata": {
    "tags": []
   },
   "outputs": [],
   "source": [
    "options(repr.plot.width = 10, repr.plot.height = 7)\n",
    "\n",
    "#Plotting major_axis_length vs class box plot\n",
    "mal_plot <- ggplot(cleaned_rice_data, aes(x = class, y = major_axis_length)) +  \n",
    "    geom_boxplot(aes(fill = class)) +\n",
    "    xlab(\"Class of Rice\") +\n",
    "    ylab(\"Major Axis Length\") +\n",
    "    labs(title = \"Side-by-side Boxplot (Major Axis Length)\",\n",
    "         caption = \"\\n Figure 2b\") +\n",
    "    theme(text = element_text(size = 15),\n",
    "          plot.title = element_text(hjust = 0.5),\n",
    "          plot.caption = element_text(size = 10, hjust = 0.5))\n",
    "\n",
    "\n",
    "\n",
    "#Plotting perimeter vs class boxplot\n",
    "peri_plot <- ggplot(cleaned_rice_data, aes(x = class, y = perimeter)) +\n",
    "    geom_boxplot(aes(fill = class)) +\n",
    "    xlab(\"Class of Rice\") +\n",
    "    ylab(\"Perimeter\") +\n",
    "    labs(title = \"Side-by-side Boxplot (Perimeter)\",\n",
    "         caption = \"\\n Figure 2a\") +\n",
    "    theme(text = element_text(size = 15),\n",
    "          plot.title = element_text(hjust = 0.5),\n",
    "          plot.caption = element_text(size = 10, hjust = 0.5))\n",
    "\n",
    "\n",
    "\n",
    "#Arranges the plots in a neater format\n",
    "grid.arrange(peri_plot, mal_plot, ncol = 2)"
   ]
  },
  {
   "cell_type": "markdown",
   "id": "ce2f733d-f112-42ed-a1a8-1d484c267b5d",
   "metadata": {},
   "source": [
    "From our boxplots in *Figure 2a & 2b*, it can be inferred that the mean Cammeo rice has a larger perimeter and major axis length than Osmancik. However, to explore this quantitatively, we will do hypothesis testing. But first, we will calculate the data parameter estimates from our sample."
   ]
  },
  {
   "cell_type": "markdown",
   "id": "f1724c60-2042-4966-b439-b1b84a8a0052",
   "metadata": {},
   "source": [
    "### 2.4 Data Parameter Estimates"
   ]
  },
  {
   "cell_type": "code",
   "execution_count": null,
   "id": "d6a2c18f-75d5-4ddb-8019-23c79782fe0b",
   "metadata": {
    "tags": []
   },
   "outputs": [],
   "source": [
    "# Calculating the mean and standard deviation for each selected class\n",
    "summary_rice <- cleaned_rice_data |>\n",
    "    group_by(class) |>\n",
    "    summarize(mean_perimeter = mean(perimeter), mean_mal = mean(major_axis_length), \n",
    "              sd_perimeter = sd(perimeter), sd_mal = sd(major_axis_length))\n",
    "\n",
    "summary_rice"
   ]
  },
  {
   "cell_type": "code",
   "execution_count": null,
   "id": "19059b2e-eedc-4064-94ac-99c56c7504e8",
   "metadata": {
    "tags": []
   },
   "outputs": [],
   "source": [
    "# Calculating the parameters of interest: difference in means for the perimeter and major axis length\n",
    "rice_estimates <- summary_rice %>%\n",
    "    pivot_wider(names_from = class, values_from = c(mean_perimeter, mean_mal, sd_perimeter, sd_mal)) |>\n",
    "    mutate(mean_diff_perimeter = mean_perimeter_Cammeo - mean_perimeter_Osmancik,\n",
    "           mean_diff_mal       = mean_mal_Cammeo - mean_mal_Osmancik) |>\n",
    "    select(mean_diff_perimeter, mean_diff_mal)\n",
    "\n",
    "rice_estimates"
   ]
  },
  {
   "cell_type": "markdown",
   "id": "61c695b2-8ed6-4c44-998c-f6502aa61965",
   "metadata": {},
   "source": [
    "## 3. Methods: Plan\n"
   ]
  },
  {
   "cell_type": "markdown",
   "id": "2d22007a-8d52-40d5-bd52-4253ffd15e36",
   "metadata": {},
   "source": [
    "As our dataset was collected from a reputable source and the analysis done was peer-reviewed, we feel confident in our initial findings. Although our visualizations allow us to draw inferences about the relationships between our predictors and response, they do not prove anything. To do so, we hypothesize below and later test those claims:\n",
    "\n",
    "**Difference in means**\n",
    "- $H_0: \\mu_1 - \\mu_2 = 0$\n",
    "- $H_A: \\mu_1 - \\mu_2  > 0$\n",
    "\n",
    "Where $\\mu_1$ and $\\mu_2$ are the mean of the variables of interest of Cammeo and Osmanik rice respectively.\n",
    "\n",
    "The above hypothesis tests will be performed on both `major_axis_length` and `perimeter`. We will conduct bootstrapping and CLT to make conclusions about our hypotheses. From that, 95% confidence intervals will be drawn for the difference in means, and the analysis will conclude with a comparison of both methods.\n",
    "\n",
    "We can expect to reject our null for all of our hypothesis tests (refer to figure 2a, 2b). Due to the rejection of the null, we can also expect our 95% confidence intervals for difference in means to not contain 0. "
   ]
  },
  {
   "cell_type": "markdown",
   "id": "61815124-5305-400c-b7f0-167f47598b7b",
   "metadata": {
    "tags": []
   },
   "source": [
    "## 4. Methods: Hypothesis Testing and Confidence Intervals\n",
    "For all of our hypothesis tests, we will use a significance level of $\\alpha = 0.05$. We will use the bootstrapping and the $t$-test method for both of our variables in order to test our hypotheses. We chose to use the $t$-test over the $z$-test since the true variance of both populations, Cammeo and Osmancik rice, are unknown. The normality assumption of the $t$-test has been satisfied due to the results of the central limit theorem and having a large sample size from each population. We are also assuming that we have 2 independent random samples, one from each population of rice species, which aligns with the assumptions of CLT. Thus the difference in means of major axis length and perimeter follow the following distribution: \n",
    "\n",
    "$$\\bar{X}_1-\\bar{X}_2\\sim N\\left(\\mu_1 - \\mu_2, \\sqrt{\\frac{s^2_1}{n_1}+\\frac{s^2_2}{n_2}}\\right)$$\n",
    "\n",
    "Aside from that, we will be finding the 95% confidence intervals for each method and variable. "
   ]
  },
  {
   "cell_type": "markdown",
   "id": "4b254300-2e39-4bc7-86df-9fcb8bce9702",
   "metadata": {
    "tags": []
   },
   "source": [
    "### 4.1 Difference in Means for `perimeter`\n",
    "We will test the following hypotheses where $\\mu_1$ is the **perimeter** mean of Cammeo rice while $\\mu_2$ is the **perimeter** mean of Osmancik rice. \n",
    "\n",
    "> $H_0: \\mu_1 = \\mu_2 \\equiv \\mu_1 - \\mu_2 = 0$\\\n",
    "> $H_A: \\mu_1 > \\mu_2 \\equiv \\mu_1 - \\mu_2 > 0$"
   ]
  },
  {
   "cell_type": "code",
   "execution_count": null,
   "id": "079d84c7-6d68-44a1-a177-43297666fad3",
   "metadata": {
    "tags": []
   },
   "outputs": [],
   "source": [
    "# Preliminary Calculations in order to aid our analysis\n",
    "# Separating the data by class \n",
    "cammeo_sample <- filter(cleaned_rice_data, class == \"Cammeo\")\n",
    "osmancik_sample <- filter(cleaned_rice_data, class == \"Osmancik\")\n",
    "\n",
    "# Counting the number of observations in each sample\n",
    "n_cammeo <- nrow(cammeo_sample) \n",
    "n_osmancik <- nrow(osmancik_sample)"
   ]
  },
  {
   "cell_type": "markdown",
   "id": "4d176e8d-4662-4b5e-9a63-4c5b8aac1f6d",
   "metadata": {
    "tags": []
   },
   "source": [
    "#### 4.1.1 Bootstrapping Method: Hypothesis Testing \n",
    "##### Calculating the Test Statistic"
   ]
  },
  {
   "cell_type": "code",
   "execution_count": null,
   "id": "1c129234-5633-4524-b273-20d8847325d6",
   "metadata": {
    "tags": []
   },
   "outputs": [],
   "source": [
    "# Creating the test_statistic\n",
    "se_mean_perimeter <- sqrt(var(cammeo_sample$perimeter)/n_cammeo + var(osmancik_sample$perimeter)/n_osmancik) # Standard Error\n",
    "diff_mean_perimeter <- rice_estimates$mean_diff_perimeter[1] # Difference in perimeter means between Cammeo and Osmanik rice\n",
    "\n",
    "test_stat_mean_perimeter <- diff_mean_perimeter / se_mean_perimeter\n",
    "test_stat_mean_perimeter"
   ]
  },
  {
   "cell_type": "markdown",
   "id": "2167c87b-1954-4a15-bfdb-da86a434fe8c",
   "metadata": {},
   "source": [
    "##### Generating the Null-Distribution\n",
    "We will now use the infer package to generate the null-distribution and calculate the $p$-value for our test statistic. "
   ]
  },
  {
   "cell_type": "code",
   "execution_count": null,
   "id": "484c9815-5720-489c-b892-f09cfa11abb4",
   "metadata": {
    "tags": []
   },
   "outputs": [],
   "source": [
    "# hypothesis testing using bootstrapping\n",
    "set.seed(2023)\n",
    "\n",
    "# Generate the bootstrap distribution for difference in  means\n",
    "bootstrap_dist_perimeter <- cleaned_rice_data %>%\n",
    "    specify(formula = perimeter ~ class) %>%\n",
    "    hypothesize(null = \"independence\") %>%\n",
    "    generate(type = \"permute\", reps = 1000) %>%\n",
    "    calculate(stat = \"diff in means\", order = c(\"Cammeo\", \"Osmancik\"))"
   ]
  },
  {
   "cell_type": "code",
   "execution_count": null,
   "id": "4cb6a106-d40b-4dd3-8334-ad76b164e84e",
   "metadata": {
    "tags": []
   },
   "outputs": [],
   "source": [
    "# Calculate the p-value of the test statistic\n",
    "p_val_bootstrap_perimeter <- get_p_value(bootstrap_dist_perimeter, obs_stat = test_stat_mean_perimeter, direction = \"right\")\n",
    "p_val_bootstrap_perimeter$p_value[1]"
   ]
  },
  {
   "cell_type": "markdown",
   "id": "bc05206d-8f71-4511-ad34-cdf4e0f585c4",
   "metadata": {},
   "source": [
    "##### Results\n",
    "Observing the results above, we have obtained a $p$-value that is very close to zero, so we reject the null-hypothesis under a significance level of $\\alpha = 0.05$ since $p < 0.05$. This suggests that the true Cammeo perimeter mean is greater than the Osmancik perimeter mean. We can visualize the null-distribution with the test statistic to see where the test statistic lies on the distribution. \n",
    "\n",
    "##### Visualizing the Results"
   ]
  },
  {
   "cell_type": "code",
   "execution_count": null,
   "id": "07a2502d-1668-4a04-a477-d5151ccbdffa",
   "metadata": {
    "tags": []
   },
   "outputs": [],
   "source": [
    "options(repr.plot.width = 12, repr.plot.height = 5)\n",
    "\n",
    "# Visualize Bootstrap Distribution with and without calculated test statistic\n",
    "bootstrap_perimeter <- visualize(bootstrap_dist_perimeter)+\n",
    "    labs(caption = \"\\n Figure 4.1a\") +\n",
    "    theme(text = element_text(size = 10),\n",
    "          plot.title = element_text(hjust = 0.5),\n",
    "          plot.caption = element_text(size = 10, hjust = 0.5))\n",
    "\n",
    "\n",
    "bootstrap_perimeter_hist <- visualize(bootstrap_dist_perimeter) +\n",
    "    shade_p_value(test_stat_mean_perimeter, direction = \"right\")+\n",
    "    labs(caption = \"\\n Figure 4.1b\") +\n",
    "    theme(text = element_text(size = 15),\n",
    "          plot.title = element_text(hjust = 0.5),\n",
    "          plot.caption = element_text(size = 10, hjust = 0.5))\n",
    "\n",
    "grid.arrange(bootstrap_perimeter, bootstrap_perimeter_hist, nrow= 1)"
   ]
  },
  {
   "cell_type": "markdown",
   "id": "b5f8d667-7358-4c93-a076-a758139f7074",
   "metadata": {},
   "source": [
    "#### 4.1.2 Bootstrapping Method: Confidence Intervals\n",
    "In order to find the 95% confidence interval for the difference in perimeter means, We will generate a bootstrap distribution using 1000 bootstrap samples from each rice group and then calculate lower and upper bounds of the interval. "
   ]
  },
  {
   "cell_type": "code",
   "execution_count": 65,
   "id": "fc237d5a-5135-489b-8f8c-39be9688f2fc",
   "metadata": {
    "tags": []
   },
   "outputs": [
    {
     "data": {
      "text/html": [
       "<table class=\"dataframe\">\n",
       "<caption>A tibble: 1 × 2</caption>\n",
       "<thead>\n",
       "\t<tr><th scope=col>lower_ci</th><th scope=col>upper_ci</th></tr>\n",
       "\t<tr><th scope=col>&lt;dbl&gt;</th><th scope=col>&lt;dbl&gt;</th></tr>\n",
       "</thead>\n",
       "<tbody>\n",
       "\t<tr><td>56.71958</td><td>59.28769</td></tr>\n",
       "</tbody>\n",
       "</table>\n"
      ],
      "text/latex": [
       "A tibble: 1 × 2\n",
       "\\begin{tabular}{ll}\n",
       " lower\\_ci & upper\\_ci\\\\\n",
       " <dbl> & <dbl>\\\\\n",
       "\\hline\n",
       "\t 56.71958 & 59.28769\\\\\n",
       "\\end{tabular}\n"
      ],
      "text/markdown": [
       "\n",
       "A tibble: 1 × 2\n",
       "\n",
       "| lower_ci &lt;dbl&gt; | upper_ci &lt;dbl&gt; |\n",
       "|---|---|\n",
       "| 56.71958 | 59.28769 |\n",
       "\n"
      ],
      "text/plain": [
       "  lower_ci upper_ci\n",
       "1 56.71958 59.28769"
      ]
     },
     "metadata": {},
     "output_type": "display_data"
    }
   ],
   "source": [
    "# Generate bootstrap distribution for difference in perimeter means\n",
    "bootstrap_perimeter_dist <- cleaned_rice_data %>%\n",
    "    specify(formula = perimeter ~ class) %>%\n",
    "    # Generate 1000 bootstrap samples\n",
    "    generate(type = \"bootstrap\", reps = 1000) %>% \n",
    "    # Calculate the difference in sample means\n",
    "    calculate(stat = \"diff in means\", order = c(\"Cammeo\", \"Osmancik\"))\n",
    "\n",
    "# Calculate the 95% confidence interval for the difference in perimeter means\n",
    "bootstrap_perimeter_ci <- get_ci(bootstrap_perimeter_dist, level = 0.95)\n",
    "bootstrap_perimeter_ci"
   ]
  },
  {
   "cell_type": "code",
   "execution_count": null,
   "id": "cf442bf9-f9c9-4cec-9f21-2f7537c28e5b",
   "metadata": {
    "tags": []
   },
   "outputs": [],
   "source": [
    "options(repr.plot.width = 8, repr.plot.height = 5)\n",
    "\n",
    "# Visualize the bootstrap distribution and confidence interval\n",
    "bootstrap_perimeter_dist_ci <- visualize(bootstrap_perimeter_dist) +\n",
    "    shade_ci(bootstrap_perimeter_ci) +\n",
    "    labs(x = \"Perimeter\", \n",
    "         title = \"Bootstrap Distribution of Difference in Perimeter Means of Cammeo and Osmancik Rice\", \n",
    "         caption = \"\\n Figure 4.1c\") +\n",
    "    theme(text = element_text(size = 10),\n",
    "          plot.title = element_text(hjust = 0.5),\n",
    "          plot.caption = element_text(size = 10, hjust = 0.5))\n",
    "\n",
    "bootstrap_perimeter_dist_ci"
   ]
  },
  {
   "cell_type": "markdown",
   "id": "a1cc042f-2801-4a31-8d58-76f04375fc57",
   "metadata": {},
   "source": [
    "#### 4.1.3 Central Limit Theorem (CLT) Method: Hypothesis Testing Using Two Sample $t$-test"
   ]
  },
  {
   "cell_type": "markdown",
   "id": "04f581f6-0909-41bb-811e-d297dfc85fa3",
   "metadata": {},
   "source": [
    "As Normality condition is met, a two sample t-test can be performed to test whether Cammeo has a larger mean perimeter than Osmancik.\n",
    "##### Conduct $t$-test"
   ]
  },
  {
   "cell_type": "code",
   "execution_count": null,
   "id": "98e2d50a-583b-46d4-9a4c-9e30d5ac0a05",
   "metadata": {
    "tags": []
   },
   "outputs": [],
   "source": [
    "#two sample t-test for difference in mean perimeter\n",
    "t_test_perimeter <- broom::tidy(t.test(x = cammeo_sample$perimeter,\n",
    "       y = osmancik_sample$perimeter,\n",
    "       alternative = \"greater\")) %>%\n",
    "       rename(diff_perimeter_means = estimate, \n",
    "              cammeo_mean = estimate1,\n",
    "              osmancik_mean = estimate2)\n",
    "t_test_perimeter"
   ]
  },
  {
   "cell_type": "markdown",
   "id": "2e68631c-f378-4f88-985a-b4fa7dcb151e",
   "metadata": {},
   "source": [
    "##### Results\n",
    "As our test statistic falls quite deep in the right tail, our p-value for the t-test is quite small such that the   `broom::tidy` function rounds it up to 0. This suggests that the null is rejected and we must conclude that the mean perimeter for Cammeo is indeed larger than the mean perimeter for Osmancik Rice. \n",
    "##### Visualize Null Distribution"
   ]
  },
  {
   "cell_type": "code",
   "execution_count": null,
   "id": "301e9363-04ef-4485-8727-00c0af271a83",
   "metadata": {
    "tags": []
   },
   "outputs": [],
   "source": [
    "options(repr.plot.width = 7, repr.plot.height = 5)\n",
    "\n",
    "#Pulling test statistic\n",
    "test_stat_clt_perim <- t_test_perimeter %>%\n",
    "pull(statistic)\n",
    "\n",
    "\n",
    "#Visualizing t-distribution according to null hypothesis\n",
    "\n",
    "t_null_dist <- cleaned_rice_data |>\n",
    "        specify(formula = perimeter ~ class) |>\n",
    "        assume(distribution = \"t\")\n",
    "\n",
    "t_null_visual<- visualize(t_null_dist) + shade_p_value(test_stat_clt_perim, direction = \"right\") +\n",
    "                labs(caption = \"\\n Figure 4.1d\") +\n",
    "                theme(text = element_text(size = 15),\n",
    "                      plot.title = element_text(hjust = 0.5),\n",
    "                      plot.caption = element_text(size = 10, hjust = 0.5))\n",
    "\n",
    "t_null_visual"
   ]
  },
  {
   "cell_type": "markdown",
   "id": "e804a1cc-98eb-4806-bb31-2b7373795ee1",
   "metadata": {},
   "source": [
    "Figure 4.2d illustrates how our test statistic calculated for the perimeter variable, based on the assumption of CLT, is positioned at the extreme tail of the $t$-distribution, explaining the very small $p$ value that we obtained which is approximately zero ($p < 0.05$). Such a result indicates that if our null hypothesis is true, that there is no difference in the mean perimeter of the two rice classes, our observed data set is highly unlikely. "
   ]
  },
  {
   "cell_type": "markdown",
   "id": "620bfd65-b071-4547-9d63-067b1d939135",
   "metadata": {},
   "source": [
    "#### 4.1.4 Central Limit Theorem (CLT) Method: Confidence Intervals"
   ]
  },
  {
   "cell_type": "markdown",
   "id": "b11b96e0-ede7-4ff7-b02c-6aa5087f7180",
   "metadata": {},
   "source": [
    "We can use the difference of mean distribution presented above to construct a CI, and compare it with the CI produced with bootstrapping for further analysis. For continuity purposes, we will construct a 95% Confidence Interval.\n"
   ]
  },
  {
   "cell_type": "code",
   "execution_count": null,
   "id": "96a79819-216f-490f-94de-35f56e578a4b",
   "metadata": {
    "tags": []
   },
   "outputs": [],
   "source": [
    "# 95% confidence interval for difference in mean perimeter between Cammeo and Osmancik using CLT\n",
    "perimeter_diff_means_ci <- \n",
    "    tibble(\n",
    "        perimeter_lower_ci = mean(cammeo_sample$perimeter) - mean(osmancik_sample$perimeter) - \n",
    "                             qnorm(1-(0.05/2)) *\n",
    "                             sqrt(var(cammeo_sample$perimeter)/length(cammeo_sample$perimeter) + var(osmancik_sample$perimeter)/length(osmancik_sample$perimeter)),\n",
    "        perimeter_upper_ci = mean(cammeo_sample$perimeter) - mean(osmancik_sample$perimeter) + \n",
    "                             qnorm(1-(0.05/2)) * \n",
    "                             sqrt(var(cammeo_sample$perimeter)/length(cammeo_sample$perimeter) + var(osmancik_sample$perimeter)/length(osmancik_sample$perimeter))\n",
    "    )\n",
    "\n",
    "perimeter_diff_means_ci"
   ]
  },
  {
   "cell_type": "markdown",
   "id": "d5666801-3fb6-4719-8a35-41fa1ba60596",
   "metadata": {
    "tags": []
   },
   "source": [
    "### 4.2 Difference in Means for `major_axis_length`"
   ]
  },
  {
   "cell_type": "markdown",
   "id": "6250b7af-67f3-4c98-b4ea-e39713355fe3",
   "metadata": {},
   "source": [
    "In this section, we will test the **difference in means** of `major_axis_length` between the two classes (**Cammeo** & **Osmancik**) where our hypotheses are as follows:\n",
    "\n",
    "$$H_0: \\mu_1 - \\mu_2 = 0$$\n",
    "$$H_1: \\mu_1 - \\mu_2 \\gt 0 $$\n",
    "where $\\mu_1$ is the major axis length mean of Cammeo rice and $\\mu_2$ is the major axis length mean of Osmancik rice"
   ]
  },
  {
   "cell_type": "markdown",
   "id": "a642a0ac-38dc-47a6-91bd-a85d5c81c180",
   "metadata": {
    "tags": []
   },
   "source": [
    "#### 4.2.1 Bootstrapping Method: Hypothesis Testing "
   ]
  },
  {
   "cell_type": "code",
   "execution_count": null,
   "id": "c66645fb-6776-4e05-a836-7775bc36c7f3",
   "metadata": {
    "tags": []
   },
   "outputs": [],
   "source": [
    "#Using infer workflow to generate study H_0 of diff in means (major_axis_length) for both types of rice\n",
    "\n",
    "bootstrap_dist_mal <- cleaned_rice_data |>\n",
    "    specify(formula = major_axis_length ~ class) |>\n",
    "    hypothesize(null = \"independence\") |>\n",
    "    generate(type = \"permute\", reps = 1500) |>\n",
    "    calculate(stat = \"diff in means\", order = c(\"Cammeo\", \"Osmancik\"))"
   ]
  },
  {
   "cell_type": "markdown",
   "id": "8b079404-a274-450f-b96f-e50c76d766a8",
   "metadata": {
    "tags": []
   },
   "source": [
    "##### Calculating Test Statistic "
   ]
  },
  {
   "cell_type": "code",
   "execution_count": null,
   "id": "489d08cd-256a-4dfc-9afd-4ea6e8058b2f",
   "metadata": {
    "tags": []
   },
   "outputs": [],
   "source": [
    "#Calculating corresponding test statistic\n",
    "se_mal <- sqrt(((summary_rice$sd_mal[1])^2/ n_cammeo) + ((summary_rice$sd_mal[2])^2/ n_osmancik))\n",
    "test_stat_mal <- ((summary_rice$mean_mal[1] - summary_rice$mean_mal[2])/ se_mal)\n",
    "\n",
    "test_stat_mal"
   ]
  },
  {
   "cell_type": "markdown",
   "id": "b64de641-7802-4c66-9d3c-10aa1a0730da",
   "metadata": {},
   "source": [
    "Using this t-statistic we can now generate our p-value to determine whether or not we should reject $H_0$\n",
    "\n",
    "##### Obtaining p-value"
   ]
  },
  {
   "cell_type": "code",
   "execution_count": null,
   "id": "e93feee0-a692-4d60-94d3-3c75079e94a4",
   "metadata": {
    "tags": []
   },
   "outputs": [],
   "source": [
    "get_p_value(bootstrap_dist_mal, test_stat_mal, direction = 'right')"
   ]
  },
  {
   "cell_type": "markdown",
   "id": "3cd0bbb5-d011-4f66-814e-b2c0dcdfc5fb",
   "metadata": {
    "tags": []
   },
   "source": [
    "We can observe our p-value is being reported to be 0 by the `get_p_value()` function, this indicates that it is near zero but not actually zero."
   ]
  },
  {
   "cell_type": "markdown",
   "id": "1e6dc967-57fb-404f-aef9-1bffcede477d",
   "metadata": {
    "tags": []
   },
   "source": [
    "##### Visualizing Bootstrap Results"
   ]
  },
  {
   "cell_type": "code",
   "execution_count": null,
   "id": "ba66128b-5f86-463e-bcc9-7265c0fe7f02",
   "metadata": {
    "tags": []
   },
   "outputs": [],
   "source": [
    "options(repr.plot.width = 12, repr.plot.height = 5)\n",
    "\n",
    "#Rendering Bootstrap distribution with and without calculated test statistic v-line\n",
    "bootstrap_mal <- visualize(bootstrap_dist_mal) +\n",
    "    labs(caption = \"\\n Figure 4.2a\") +\n",
    "    theme(text = element_text(size = 10),\n",
    "          plot.title = element_text(hjust = 0.5),\n",
    "          plot.caption = element_text(size = 10, hjust = 0.5))\n",
    "\n",
    "bootstrap_mal_t <- visualize(bootstrap_dist_mal) +\n",
    "    shade_p_value(test_stat_mal, direction = \"right\") +\n",
    "    labs(caption = \"\\n Figure 4.2b\") +\n",
    "    theme(text = element_text(size = 10),\n",
    "          plot.title = element_text(hjust = 0.5),\n",
    "          plot.caption = element_text(size = 10, hjust = 0.5))\n",
    "\n",
    "\n",
    "grid.arrange(bootstrap_mal, bootstrap_mal_t, nrow = 1)"
   ]
  },
  {
   "cell_type": "markdown",
   "id": "1af13de7-a9e9-4b21-bcf9-104752774f05",
   "metadata": {},
   "source": [
    "##### Results\n",
    "We can now observe that our p-value is very close to zero. According to our significance value of 5% or $\\alpha = 0.05$, we can now reject the Null Hypothesis of $H_0 : \\mu_1 - \\mu_2 = 0$. This indicates that the Cammeo `major_axis_length` mean is greater than that of `Osmancik`."
   ]
  },
  {
   "cell_type": "markdown",
   "id": "da1a76e5-a853-4ed0-9ac6-4aa58d6ea1f7",
   "metadata": {},
   "source": [
    "#### 4.2.2 Bootstrapping Method: Confidence Intervals\n",
    "##### Generating bootstrap distribution"
   ]
  },
  {
   "cell_type": "code",
   "execution_count": null,
   "id": "fb8e1edc-f5a3-408b-9db8-a97816d63f5e",
   "metadata": {
    "tags": []
   },
   "outputs": [],
   "source": [
    "#Constructing Bootstrap Distribution at 1500 reps\n",
    "mal_bootstrap_ci <- cleaned_rice_data |>\n",
    "    specify(formula = major_axis_length ~ class) |>\n",
    "    generate(type = \"bootstrap\", reps = 1500) |>\n",
    "    calculate(stat = \"diff in means\", order = c(\"Cammeo\", \"Osmancik\"))"
   ]
  },
  {
   "cell_type": "markdown",
   "id": "00992a0d-8cde-44bd-82b9-70b1172491fb",
   "metadata": {},
   "source": [
    "##### Calculating the Confidence Interval"
   ]
  },
  {
   "cell_type": "code",
   "execution_count": 61,
   "id": "2a110b95-f6bd-47da-9312-2c8300029bde",
   "metadata": {
    "tags": []
   },
   "outputs": [
    {
     "data": {
      "text/html": [
       "<table class=\"dataframe\">\n",
       "<caption>A tibble: 1 × 2</caption>\n",
       "<thead>\n",
       "\t<tr><th scope=col>lower_ci</th><th scope=col>upper_ci</th></tr>\n",
       "\t<tr><th scope=col>&lt;dbl&gt;</th><th scope=col>&lt;dbl&gt;</th></tr>\n",
       "</thead>\n",
       "<tbody>\n",
       "\t<tr><td>28.52621</td><td>29.84611</td></tr>\n",
       "</tbody>\n",
       "</table>\n"
      ],
      "text/latex": [
       "A tibble: 1 × 2\n",
       "\\begin{tabular}{ll}\n",
       " lower\\_ci & upper\\_ci\\\\\n",
       " <dbl> & <dbl>\\\\\n",
       "\\hline\n",
       "\t 28.52621 & 29.84611\\\\\n",
       "\\end{tabular}\n"
      ],
      "text/markdown": [
       "\n",
       "A tibble: 1 × 2\n",
       "\n",
       "| lower_ci &lt;dbl&gt; | upper_ci &lt;dbl&gt; |\n",
       "|---|---|\n",
       "| 28.52621 | 29.84611 |\n",
       "\n"
      ],
      "text/plain": [
       "  lower_ci upper_ci\n",
       "1 28.52621 29.84611"
      ]
     },
     "metadata": {},
     "output_type": "display_data"
    }
   ],
   "source": [
    "#Obtaining Bootstrap Confidence Intervals at a 95% confidence level\n",
    "mal_ci <- mal_bootstrap_ci |>\n",
    "    get_ci(type= 'percentile', level= 0.95)\n",
    "\n",
    "mal_ci"
   ]
  },
  {
   "cell_type": "markdown",
   "id": "b7b690d3-f807-4899-94c3-2c07d99d2652",
   "metadata": {},
   "source": [
    "##### Visualizing the Confidence Interval"
   ]
  },
  {
   "cell_type": "code",
   "execution_count": 60,
   "id": "80c4fe5c-f723-418f-b4de-ccb0ab70a4a7",
   "metadata": {
    "tags": []
   },
   "outputs": [
    {
     "data": {
      "application/pdf": "[encoded data removed]",
      "image/jpeg": "[encoded data removed]",
      "image/png": "[encoded data removed]",
      "image/svg+xml": [
       "<?xml version=\"1.0\" encoding=\"UTF-8\"?>\n",
       "<svg xmlns=\"http://www.w3.org/2000/svg\" xmlns:xlink=\"http://www.w3.org/1999/xlink\" width=\"720\" height=\"360\" viewBox=\"0 0 720 360\">\n",
       "<defs>\n",
       "<g>\n",
       "<g id=\"glyph-0-0\">\n",
       "<path d=\"M 4.140625 -2.75 C 4.140625 -2.226562 4.085938 -1.785156 3.984375 -1.421875 C 3.890625 -1.054688 3.753906 -0.765625 3.578125 -0.546875 C 3.398438 -0.328125 3.191406 -0.164062 2.953125 -0.0625 C 2.722656 0.03125 2.476562 0.078125 2.21875 0.078125 C 1.945312 0.078125 1.695312 0.03125 1.46875 -0.0625 C 1.238281 -0.164062 1.035156 -0.328125 0.859375 -0.546875 C 0.691406 -0.765625 0.554688 -1.050781 0.453125 -1.40625 C 0.359375 -1.769531 0.3125 -2.21875 0.3125 -2.75 C 0.3125 -3.3125 0.359375 -3.769531 0.453125 -4.125 C 0.554688 -4.488281 0.691406 -4.78125 0.859375 -5 C 1.035156 -5.21875 1.238281 -5.367188 1.46875 -5.453125 C 1.707031 -5.546875 1.960938 -5.59375 2.234375 -5.59375 C 2.503906 -5.59375 2.753906 -5.546875 2.984375 -5.453125 C 3.210938 -5.367188 3.410156 -5.21875 3.578125 -5 C 3.753906 -4.78125 3.890625 -4.488281 3.984375 -4.125 C 4.085938 -3.769531 4.140625 -3.3125 4.140625 -2.75 Z M 3.421875 -2.75 C 3.421875 -3.1875 3.394531 -3.550781 3.34375 -3.84375 C 3.289062 -4.132812 3.210938 -4.363281 3.109375 -4.53125 C 3.015625 -4.707031 2.890625 -4.832031 2.734375 -4.90625 C 2.585938 -4.976562 2.421875 -5.015625 2.234375 -5.015625 C 2.035156 -5.015625 1.859375 -4.976562 1.703125 -4.90625 C 1.554688 -4.832031 1.429688 -4.707031 1.328125 -4.53125 C 1.234375 -4.363281 1.160156 -4.132812 1.109375 -3.84375 C 1.054688 -3.550781 1.03125 -3.1875 1.03125 -2.75 C 1.03125 -2.332031 1.054688 -1.976562 1.109375 -1.6875 C 1.160156 -1.394531 1.238281 -1.160156 1.34375 -0.984375 C 1.445312 -0.816406 1.570312 -0.691406 1.71875 -0.609375 C 1.863281 -0.535156 2.03125 -0.5 2.21875 -0.5 C 2.40625 -0.5 2.570312 -0.535156 2.71875 -0.609375 C 2.875 -0.691406 3 -0.816406 3.09375 -0.984375 C 3.195312 -1.160156 3.273438 -1.394531 3.328125 -1.6875 C 3.390625 -1.976562 3.421875 -2.332031 3.421875 -2.75 Z M 3.421875 -2.75 \"/>\n",
       "</g>\n",
       "<g id=\"glyph-0-1\">\n",
       "<path d=\"M 0.609375 0 L 0.609375 -0.59375 L 2.015625 -0.59375 L 2.015625 -4.828125 L 0.765625 -3.953125 L 0.765625 -4.609375 L 2.078125 -5.5 L 2.71875 -5.5 L 2.71875 -0.59375 L 4.0625 -0.59375 L 4.0625 0 Z M 0.609375 0 \"/>\n",
       "</g>\n",
       "<g id=\"glyph-0-2\">\n",
       "<path d=\"M 0.40625 0 L 0.40625 -0.5 C 0.539062 -0.800781 0.703125 -1.066406 0.890625 -1.296875 C 1.078125 -1.535156 1.273438 -1.75 1.484375 -1.9375 C 1.703125 -2.125 1.914062 -2.296875 2.125 -2.453125 C 2.332031 -2.617188 2.519531 -2.78125 2.6875 -2.9375 C 2.851562 -3.101562 2.984375 -3.273438 3.078125 -3.453125 C 3.179688 -3.628906 3.234375 -3.832031 3.234375 -4.0625 C 3.234375 -4.21875 3.207031 -4.351562 3.15625 -4.46875 C 3.113281 -4.582031 3.046875 -4.679688 2.953125 -4.765625 C 2.867188 -4.847656 2.765625 -4.910156 2.640625 -4.953125 C 2.523438 -4.992188 2.390625 -5.015625 2.234375 -5.015625 C 2.097656 -5.015625 1.96875 -4.992188 1.84375 -4.953125 C 1.71875 -4.910156 1.601562 -4.847656 1.5 -4.765625 C 1.40625 -4.691406 1.328125 -4.597656 1.265625 -4.484375 C 1.210938 -4.367188 1.175781 -4.234375 1.15625 -4.078125 L 0.4375 -4.140625 C 0.457031 -4.335938 0.507812 -4.523438 0.59375 -4.703125 C 0.6875 -4.878906 0.804688 -5.03125 0.953125 -5.15625 C 1.109375 -5.289062 1.289062 -5.394531 1.5 -5.46875 C 1.707031 -5.550781 1.953125 -5.59375 2.234375 -5.59375 C 2.503906 -5.59375 2.742188 -5.554688 2.953125 -5.484375 C 3.171875 -5.421875 3.351562 -5.328125 3.5 -5.203125 C 3.65625 -5.078125 3.769531 -4.921875 3.84375 -4.734375 C 3.925781 -4.546875 3.96875 -4.328125 3.96875 -4.078125 C 3.96875 -3.890625 3.929688 -3.710938 3.859375 -3.546875 C 3.796875 -3.378906 3.707031 -3.21875 3.59375 -3.0625 C 3.488281 -2.914062 3.363281 -2.769531 3.21875 -2.625 C 3.070312 -2.488281 2.914062 -2.351562 2.75 -2.21875 C 2.59375 -2.09375 2.429688 -1.960938 2.265625 -1.828125 C 2.109375 -1.691406 1.957031 -1.554688 1.8125 -1.421875 C 1.675781 -1.296875 1.550781 -1.164062 1.4375 -1.03125 C 1.320312 -0.894531 1.234375 -0.75 1.171875 -0.59375 L 4.046875 -0.59375 L 4.046875 0 Z M 0.40625 0 \"/>\n",
       "</g>\n",
       "<g id=\"glyph-0-3\">\n",
       "<path d=\"M 4.109375 -1.53125 C 4.109375 -1.300781 4.066406 -1.085938 3.984375 -0.890625 C 3.910156 -0.691406 3.796875 -0.519531 3.640625 -0.375 C 3.492188 -0.238281 3.300781 -0.128906 3.0625 -0.046875 C 2.832031 0.0351562 2.554688 0.078125 2.234375 0.078125 C 1.910156 0.078125 1.628906 0.0351562 1.390625 -0.046875 C 1.148438 -0.128906 0.953125 -0.238281 0.796875 -0.375 C 0.648438 -0.519531 0.535156 -0.691406 0.453125 -0.890625 C 0.378906 -1.085938 0.34375 -1.300781 0.34375 -1.53125 C 0.34375 -1.726562 0.375 -1.90625 0.4375 -2.0625 C 0.5 -2.21875 0.582031 -2.351562 0.6875 -2.46875 C 0.789062 -2.582031 0.90625 -2.671875 1.03125 -2.734375 C 1.164062 -2.804688 1.304688 -2.851562 1.453125 -2.875 L 1.453125 -2.890625 C 1.296875 -2.929688 1.15625 -2.988281 1.03125 -3.0625 C 0.914062 -3.144531 0.816406 -3.242188 0.734375 -3.359375 C 0.648438 -3.472656 0.585938 -3.597656 0.546875 -3.734375 C 0.503906 -3.878906 0.484375 -4.023438 0.484375 -4.171875 C 0.484375 -4.367188 0.519531 -4.550781 0.59375 -4.71875 C 0.664062 -4.894531 0.773438 -5.046875 0.921875 -5.171875 C 1.066406 -5.296875 1.242188 -5.394531 1.453125 -5.46875 C 1.671875 -5.550781 1.925781 -5.59375 2.21875 -5.59375 C 2.507812 -5.59375 2.765625 -5.550781 2.984375 -5.46875 C 3.210938 -5.394531 3.394531 -5.289062 3.53125 -5.15625 C 3.675781 -5.03125 3.785156 -4.878906 3.859375 -4.703125 C 3.929688 -4.535156 3.96875 -4.359375 3.96875 -4.171875 C 3.96875 -4.015625 3.945312 -3.867188 3.90625 -3.734375 C 3.863281 -3.597656 3.800781 -3.472656 3.71875 -3.359375 C 3.632812 -3.242188 3.53125 -3.144531 3.40625 -3.0625 C 3.289062 -2.988281 3.148438 -2.9375 2.984375 -2.90625 L 2.984375 -2.890625 C 3.148438 -2.859375 3.300781 -2.804688 3.4375 -2.734375 C 3.570312 -2.671875 3.6875 -2.582031 3.78125 -2.46875 C 3.882812 -2.351562 3.960938 -2.21875 4.015625 -2.0625 C 4.078125 -1.90625 4.109375 -1.726562 4.109375 -1.53125 Z M 3.234375 -4.125 C 3.234375 -4.269531 3.210938 -4.398438 3.171875 -4.515625 C 3.140625 -4.628906 3.082031 -4.722656 3 -4.796875 C 2.925781 -4.878906 2.820312 -4.941406 2.6875 -4.984375 C 2.5625 -5.035156 2.40625 -5.0625 2.21875 -5.0625 C 2.03125 -5.0625 1.867188 -5.035156 1.734375 -4.984375 C 1.609375 -4.941406 1.503906 -4.878906 1.421875 -4.796875 C 1.347656 -4.722656 1.289062 -4.628906 1.25 -4.515625 C 1.21875 -4.398438 1.203125 -4.269531 1.203125 -4.125 C 1.203125 -4.019531 1.210938 -3.910156 1.234375 -3.796875 C 1.265625 -3.679688 1.316406 -3.578125 1.390625 -3.484375 C 1.472656 -3.390625 1.578125 -3.3125 1.703125 -3.25 C 1.835938 -3.1875 2.007812 -3.15625 2.21875 -3.15625 C 2.4375 -3.15625 2.613281 -3.1875 2.75 -3.25 C 2.882812 -3.3125 2.988281 -3.390625 3.0625 -3.484375 C 3.132812 -3.578125 3.179688 -3.679688 3.203125 -3.796875 C 3.222656 -3.910156 3.234375 -4.019531 3.234375 -4.125 Z M 3.375 -1.609375 C 3.375 -1.734375 3.351562 -1.859375 3.3125 -1.984375 C 3.28125 -2.109375 3.21875 -2.21875 3.125 -2.3125 C 3.039062 -2.40625 2.921875 -2.484375 2.765625 -2.546875 C 2.617188 -2.609375 2.4375 -2.640625 2.21875 -2.640625 C 2.007812 -2.640625 1.832031 -2.609375 1.6875 -2.546875 C 1.539062 -2.484375 1.421875 -2.40625 1.328125 -2.3125 C 1.242188 -2.21875 1.179688 -2.109375 1.140625 -1.984375 C 1.097656 -1.859375 1.078125 -1.726562 1.078125 -1.59375 C 1.078125 -1.414062 1.097656 -1.257812 1.140625 -1.125 C 1.179688 -0.988281 1.242188 -0.867188 1.328125 -0.765625 C 1.421875 -0.660156 1.539062 -0.582031 1.6875 -0.53125 C 1.84375 -0.476562 2.023438 -0.453125 2.234375 -0.453125 C 2.453125 -0.453125 2.632812 -0.476562 2.78125 -0.53125 C 2.925781 -0.582031 3.039062 -0.660156 3.125 -0.765625 C 3.21875 -0.867188 3.28125 -0.988281 3.3125 -1.125 C 3.351562 -1.269531 3.375 -1.429688 3.375 -1.609375 Z M 3.375 -1.609375 \"/>\n",
       "</g>\n",
       "<g id=\"glyph-0-4\">\n",
       "<path d=\"M 0.734375 0 L 0.734375 -0.859375 L 1.5 -0.859375 L 1.5 0 Z M 0.734375 0 \"/>\n",
       "</g>\n",
       "<g id=\"glyph-0-5\">\n",
       "<path d=\"M 4.109375 -1.796875 C 4.109375 -1.515625 4.066406 -1.257812 3.984375 -1.03125 C 3.898438 -0.800781 3.773438 -0.601562 3.609375 -0.4375 C 3.453125 -0.28125 3.25 -0.15625 3 -0.0625 C 2.757812 0.03125 2.476562 0.078125 2.15625 0.078125 C 1.875 0.078125 1.625 0.046875 1.40625 -0.015625 C 1.1875 -0.0859375 1.003906 -0.179688 0.859375 -0.296875 C 0.710938 -0.421875 0.59375 -0.5625 0.5 -0.71875 C 0.414062 -0.875 0.359375 -1.046875 0.328125 -1.234375 L 1.03125 -1.3125 C 1.0625 -1.207031 1.101562 -1.101562 1.15625 -1 C 1.207031 -0.90625 1.273438 -0.820312 1.359375 -0.75 C 1.453125 -0.675781 1.5625 -0.613281 1.6875 -0.5625 C 1.820312 -0.519531 1.984375 -0.5 2.171875 -0.5 C 2.359375 -0.5 2.523438 -0.523438 2.671875 -0.578125 C 2.816406 -0.640625 2.941406 -0.722656 3.046875 -0.828125 C 3.160156 -0.941406 3.242188 -1.078125 3.296875 -1.234375 C 3.359375 -1.390625 3.390625 -1.570312 3.390625 -1.78125 C 3.390625 -1.945312 3.359375 -2.097656 3.296875 -2.234375 C 3.242188 -2.378906 3.164062 -2.503906 3.0625 -2.609375 C 2.96875 -2.710938 2.84375 -2.789062 2.6875 -2.84375 C 2.539062 -2.90625 2.375 -2.9375 2.1875 -2.9375 C 2.070312 -2.9375 1.960938 -2.925781 1.859375 -2.90625 C 1.765625 -2.882812 1.675781 -2.851562 1.59375 -2.8125 C 1.507812 -2.78125 1.429688 -2.738281 1.359375 -2.6875 C 1.296875 -2.644531 1.234375 -2.597656 1.171875 -2.546875 L 0.484375 -2.546875 L 0.671875 -5.5 L 3.796875 -5.5 L 3.796875 -4.90625 L 1.3125 -4.90625 L 1.203125 -3.15625 C 1.328125 -3.257812 1.484375 -3.34375 1.671875 -3.40625 C 1.859375 -3.476562 2.082031 -3.515625 2.34375 -3.515625 C 2.613281 -3.515625 2.859375 -3.472656 3.078125 -3.390625 C 3.296875 -3.304688 3.476562 -3.1875 3.625 -3.03125 C 3.78125 -2.882812 3.898438 -2.703125 3.984375 -2.484375 C 4.066406 -2.273438 4.109375 -2.046875 4.109375 -1.796875 Z M 4.109375 -1.796875 \"/>\n",
       "</g>\n",
       "<g id=\"glyph-0-6\">\n",
       "<path d=\"M 4.078125 -2.859375 C 4.078125 -2.367188 4.03125 -1.941406 3.9375 -1.578125 C 3.84375 -1.210938 3.707031 -0.90625 3.53125 -0.65625 C 3.363281 -0.414062 3.15625 -0.234375 2.90625 -0.109375 C 2.664062 0.015625 2.390625 0.078125 2.078125 0.078125 C 1.867188 0.078125 1.675781 0.0546875 1.5 0.015625 C 1.332031 -0.0234375 1.179688 -0.09375 1.046875 -0.1875 C 0.921875 -0.28125 0.8125 -0.398438 0.71875 -0.546875 C 0.625 -0.691406 0.546875 -0.867188 0.484375 -1.078125 L 1.15625 -1.171875 C 1.226562 -0.941406 1.34375 -0.769531 1.5 -0.65625 C 1.65625 -0.539062 1.851562 -0.484375 2.09375 -0.484375 C 2.28125 -0.484375 2.453125 -0.53125 2.609375 -0.625 C 2.765625 -0.71875 2.898438 -0.851562 3.015625 -1.03125 C 3.128906 -1.207031 3.21875 -1.429688 3.28125 -1.703125 C 3.34375 -1.972656 3.375 -2.289062 3.375 -2.65625 C 3.320312 -2.53125 3.25 -2.421875 3.15625 -2.328125 C 3.0625 -2.234375 2.953125 -2.148438 2.828125 -2.078125 C 2.703125 -2.015625 2.566406 -1.960938 2.421875 -1.921875 C 2.285156 -1.890625 2.148438 -1.875 2.015625 -1.875 C 1.765625 -1.875 1.535156 -1.921875 1.328125 -2.015625 C 1.128906 -2.109375 0.957031 -2.234375 0.8125 -2.390625 C 0.675781 -2.554688 0.566406 -2.75 0.484375 -2.96875 C 0.410156 -3.195312 0.375 -3.453125 0.375 -3.734375 C 0.375 -4.015625 0.414062 -4.269531 0.5 -4.5 C 0.582031 -4.726562 0.703125 -4.921875 0.859375 -5.078125 C 1.015625 -5.242188 1.207031 -5.367188 1.4375 -5.453125 C 1.664062 -5.546875 1.921875 -5.59375 2.203125 -5.59375 C 2.816406 -5.59375 3.28125 -5.363281 3.59375 -4.90625 C 3.914062 -4.457031 4.078125 -3.773438 4.078125 -2.859375 Z M 3.3125 -3.546875 C 3.3125 -3.742188 3.285156 -3.929688 3.234375 -4.109375 C 3.179688 -4.296875 3.109375 -4.453125 3.015625 -4.578125 C 2.921875 -4.710938 2.800781 -4.816406 2.65625 -4.890625 C 2.519531 -4.972656 2.363281 -5.015625 2.1875 -5.015625 C 2.019531 -5.015625 1.867188 -4.984375 1.734375 -4.921875 C 1.597656 -4.867188 1.484375 -4.785156 1.390625 -4.671875 C 1.296875 -4.554688 1.222656 -4.421875 1.171875 -4.265625 C 1.117188 -4.109375 1.09375 -3.929688 1.09375 -3.734375 C 1.09375 -3.546875 1.113281 -3.375 1.15625 -3.21875 C 1.207031 -3.0625 1.273438 -2.925781 1.359375 -2.8125 C 1.453125 -2.695312 1.566406 -2.601562 1.703125 -2.53125 C 1.835938 -2.46875 1.992188 -2.4375 2.171875 -2.4375 C 2.304688 -2.4375 2.441406 -2.457031 2.578125 -2.5 C 2.710938 -2.539062 2.832031 -2.609375 2.9375 -2.703125 C 3.039062 -2.796875 3.128906 -2.910156 3.203125 -3.046875 C 3.273438 -3.191406 3.3125 -3.359375 3.3125 -3.546875 Z M 3.3125 -3.546875 \"/>\n",
       "</g>\n",
       "<g id=\"glyph-0-7\">\n",
       "<path d=\"M 4.09375 -1.515625 C 4.09375 -1.265625 4.050781 -1.039062 3.96875 -0.84375 C 3.894531 -0.644531 3.773438 -0.476562 3.609375 -0.34375 C 3.453125 -0.207031 3.257812 -0.101562 3.03125 -0.03125 C 2.800781 0.0390625 2.535156 0.078125 2.234375 0.078125 C 1.890625 0.078125 1.597656 0.0351562 1.359375 -0.046875 C 1.128906 -0.128906 0.9375 -0.238281 0.78125 -0.375 C 0.632812 -0.519531 0.523438 -0.679688 0.453125 -0.859375 C 0.378906 -1.035156 0.332031 -1.222656 0.3125 -1.421875 L 1.03125 -1.484375 C 1.050781 -1.335938 1.085938 -1.203125 1.140625 -1.078125 C 1.203125 -0.960938 1.28125 -0.859375 1.375 -0.765625 C 1.46875 -0.679688 1.582031 -0.613281 1.71875 -0.5625 C 1.863281 -0.519531 2.035156 -0.5 2.234375 -0.5 C 2.585938 -0.5 2.863281 -0.585938 3.0625 -0.765625 C 3.269531 -0.941406 3.375 -1.203125 3.375 -1.546875 C 3.375 -1.742188 3.328125 -1.90625 3.234375 -2.03125 C 3.140625 -2.15625 3.023438 -2.25 2.890625 -2.3125 C 2.765625 -2.382812 2.617188 -2.429688 2.453125 -2.453125 C 2.296875 -2.484375 2.15625 -2.5 2.03125 -2.5 L 1.625 -2.5 L 1.625 -3.109375 L 2.015625 -3.109375 C 2.140625 -3.109375 2.273438 -3.117188 2.421875 -3.140625 C 2.566406 -3.171875 2.695312 -3.222656 2.8125 -3.296875 C 2.9375 -3.367188 3.035156 -3.460938 3.109375 -3.578125 C 3.179688 -3.703125 3.21875 -3.863281 3.21875 -4.0625 C 3.21875 -4.351562 3.128906 -4.582031 2.953125 -4.75 C 2.785156 -4.925781 2.53125 -5.015625 2.1875 -5.015625 C 1.882812 -5.015625 1.632812 -4.929688 1.4375 -4.765625 C 1.25 -4.609375 1.140625 -4.382812 1.109375 -4.09375 L 0.40625 -4.15625 C 0.425781 -4.394531 0.488281 -4.601562 0.59375 -4.78125 C 0.695312 -4.96875 0.828125 -5.117188 0.984375 -5.234375 C 1.148438 -5.347656 1.335938 -5.4375 1.546875 -5.5 C 1.753906 -5.5625 1.972656 -5.59375 2.203125 -5.59375 C 2.503906 -5.59375 2.765625 -5.550781 2.984375 -5.46875 C 3.210938 -5.394531 3.394531 -5.289062 3.53125 -5.15625 C 3.675781 -5.03125 3.78125 -4.878906 3.84375 -4.703125 C 3.914062 -4.523438 3.953125 -4.332031 3.953125 -4.125 C 3.953125 -3.96875 3.925781 -3.816406 3.875 -3.671875 C 3.832031 -3.535156 3.765625 -3.410156 3.671875 -3.296875 C 3.578125 -3.179688 3.457031 -3.082031 3.3125 -3 C 3.164062 -2.925781 2.992188 -2.867188 2.796875 -2.828125 L 2.796875 -2.8125 C 3.015625 -2.789062 3.207031 -2.738281 3.375 -2.65625 C 3.539062 -2.582031 3.675781 -2.488281 3.78125 -2.375 C 3.882812 -2.257812 3.960938 -2.128906 4.015625 -1.984375 C 4.066406 -1.835938 4.09375 -1.679688 4.09375 -1.515625 Z M 4.09375 -1.515625 \"/>\n",
       "</g>\n",
       "<g id=\"glyph-1-0\">\n",
       "<path d=\"M 6.75 -3.515625 C 6.75 -2.941406 6.660156 -2.4375 6.484375 -2 C 6.304688 -1.5625 6.066406 -1.191406 5.765625 -0.890625 C 5.472656 -0.597656 5.125 -0.375 4.71875 -0.21875 C 4.3125 -0.0703125 3.867188 0 3.390625 0 L 0.828125 0 L 0.828125 -6.875 L 3.09375 -6.875 C 3.625 -6.875 4.113281 -6.804688 4.5625 -6.671875 C 5.007812 -6.546875 5.394531 -6.34375 5.71875 -6.0625 C 6.039062 -5.789062 6.289062 -5.441406 6.46875 -5.015625 C 6.65625 -4.597656 6.75 -4.097656 6.75 -3.515625 Z M 5.8125 -3.515625 C 5.8125 -3.972656 5.742188 -4.367188 5.609375 -4.703125 C 5.472656 -5.035156 5.285156 -5.304688 5.046875 -5.515625 C 4.804688 -5.722656 4.515625 -5.878906 4.171875 -5.984375 C 3.835938 -6.085938 3.472656 -6.140625 3.078125 -6.140625 L 1.75 -6.140625 L 1.75 -0.75 L 3.28125 -0.75 C 3.644531 -0.75 3.976562 -0.804688 4.28125 -0.921875 C 4.59375 -1.035156 4.859375 -1.207031 5.078125 -1.4375 C 5.304688 -1.675781 5.484375 -1.96875 5.609375 -2.3125 C 5.742188 -2.65625 5.8125 -3.054688 5.8125 -3.515625 Z M 5.8125 -3.515625 \"/>\n",
       "</g>\n",
       "<g id=\"glyph-1-1\">\n",
       "<path d=\"M 1.34375 -2.453125 C 1.34375 -2.179688 1.367188 -1.925781 1.421875 -1.6875 C 1.484375 -1.457031 1.570312 -1.257812 1.6875 -1.09375 C 1.8125 -0.925781 1.96875 -0.796875 2.15625 -0.703125 C 2.34375 -0.609375 2.566406 -0.5625 2.828125 -0.5625 C 3.203125 -0.5625 3.503906 -0.632812 3.734375 -0.78125 C 3.960938 -0.9375 4.117188 -1.132812 4.203125 -1.375 L 4.96875 -1.15625 C 4.914062 -1.007812 4.835938 -0.859375 4.734375 -0.703125 C 4.640625 -0.554688 4.507812 -0.421875 4.34375 -0.296875 C 4.175781 -0.179688 3.96875 -0.0859375 3.71875 -0.015625 C 3.46875 0.0546875 3.171875 0.09375 2.828125 0.09375 C 2.046875 0.09375 1.445312 -0.132812 1.03125 -0.59375 C 0.625 -1.0625 0.421875 -1.753906 0.421875 -2.671875 C 0.421875 -3.171875 0.484375 -3.59375 0.609375 -3.9375 C 0.734375 -4.28125 0.898438 -4.554688 1.109375 -4.765625 C 1.328125 -4.984375 1.578125 -5.140625 1.859375 -5.234375 C 2.148438 -5.328125 2.457031 -5.375 2.78125 -5.375 C 3.226562 -5.375 3.597656 -5.300781 3.890625 -5.15625 C 4.191406 -5.019531 4.429688 -4.820312 4.609375 -4.5625 C 4.796875 -4.3125 4.925781 -4.015625 5 -3.671875 C 5.082031 -3.335938 5.125 -2.972656 5.125 -2.578125 L 5.125 -2.453125 Z M 4.203125 -3.125 C 4.160156 -3.6875 4.019531 -4.09375 3.78125 -4.34375 C 3.550781 -4.601562 3.21875 -4.734375 2.78125 -4.734375 C 2.625 -4.734375 2.46875 -4.707031 2.3125 -4.65625 C 2.15625 -4.613281 2.003906 -4.53125 1.859375 -4.40625 C 1.722656 -4.289062 1.609375 -4.128906 1.515625 -3.921875 C 1.421875 -3.710938 1.367188 -3.445312 1.359375 -3.125 Z M 4.203125 -3.125 \"/>\n",
       "</g>\n",
       "<g id=\"glyph-1-2\">\n",
       "<path d=\"M 0.671875 0 L 0.671875 -7.25 L 1.546875 -7.25 L 1.546875 0 Z M 0.671875 0 \"/>\n",
       "</g>\n",
       "<g id=\"glyph-1-3\">\n",
       "<path d=\"M 2.703125 -0.046875 C 2.566406 -0.00390625 2.429688 0.0234375 2.296875 0.046875 C 2.160156 0.0664062 2 0.078125 1.8125 0.078125 C 1.113281 0.078125 0.765625 -0.320312 0.765625 -1.125 L 0.765625 -4.640625 L 0.15625 -4.640625 L 0.15625 -5.28125 L 0.796875 -5.28125 L 1.0625 -6.46875 L 1.640625 -6.46875 L 1.640625 -5.28125 L 2.625 -5.28125 L 2.625 -4.640625 L 1.640625 -4.640625 L 1.640625 -1.3125 C 1.640625 -1.050781 1.679688 -0.867188 1.765625 -0.765625 C 1.847656 -0.671875 1.992188 -0.625 2.203125 -0.625 C 2.285156 -0.625 2.363281 -0.628906 2.4375 -0.640625 C 2.519531 -0.648438 2.609375 -0.664062 2.703125 -0.6875 Z M 2.703125 -0.046875 \"/>\n",
       "</g>\n",
       "<g id=\"glyph-1-4\">\n",
       "<path d=\"M 2.015625 0.09375 C 1.484375 0.09375 1.082031 -0.046875 0.8125 -0.328125 C 0.550781 -0.609375 0.421875 -0.988281 0.421875 -1.46875 C 0.421875 -1.820312 0.488281 -2.109375 0.625 -2.328125 C 0.757812 -2.554688 0.929688 -2.734375 1.140625 -2.859375 C 1.347656 -2.984375 1.585938 -3.066406 1.859375 -3.109375 C 2.140625 -3.160156 2.421875 -3.191406 2.703125 -3.203125 L 3.890625 -3.21875 L 3.890625 -3.515625 C 3.890625 -3.734375 3.863281 -3.914062 3.8125 -4.0625 C 3.769531 -4.21875 3.703125 -4.34375 3.609375 -4.4375 C 3.515625 -4.53125 3.394531 -4.597656 3.25 -4.640625 C 3.113281 -4.691406 2.953125 -4.71875 2.765625 -4.71875 C 2.585938 -4.71875 2.429688 -4.703125 2.296875 -4.671875 C 2.160156 -4.648438 2.039062 -4.609375 1.9375 -4.546875 C 1.84375 -4.484375 1.765625 -4.394531 1.703125 -4.28125 C 1.640625 -4.175781 1.597656 -4.039062 1.578125 -3.875 L 0.65625 -3.953125 C 0.6875 -4.160156 0.75 -4.351562 0.84375 -4.53125 C 0.9375 -4.707031 1.066406 -4.859375 1.234375 -4.984375 C 1.398438 -5.109375 1.609375 -5.203125 1.859375 -5.265625 C 2.109375 -5.335938 2.414062 -5.375 2.78125 -5.375 C 3.445312 -5.375 3.945312 -5.222656 4.28125 -4.921875 C 4.613281 -4.617188 4.78125 -4.179688 4.78125 -3.609375 L 4.78125 -1.328125 C 4.78125 -1.066406 4.8125 -0.867188 4.875 -0.734375 C 4.945312 -0.609375 5.082031 -0.546875 5.28125 -0.546875 C 5.320312 -0.546875 5.367188 -0.546875 5.421875 -0.546875 C 5.472656 -0.554688 5.519531 -0.566406 5.5625 -0.578125 L 5.5625 -0.03125 C 5.445312 0 5.332031 0.0195312 5.21875 0.03125 C 5.113281 0.0390625 5.003906 0.046875 4.890625 0.046875 C 4.722656 0.046875 4.578125 0.0234375 4.453125 -0.015625 C 4.335938 -0.0546875 4.238281 -0.125 4.15625 -0.21875 C 4.082031 -0.3125 4.023438 -0.421875 3.984375 -0.546875 C 3.953125 -0.679688 3.929688 -0.835938 3.921875 -1.015625 L 3.890625 -1.015625 C 3.796875 -0.835938 3.691406 -0.679688 3.578125 -0.546875 C 3.460938 -0.410156 3.332031 -0.296875 3.1875 -0.203125 C 3.039062 -0.109375 2.867188 -0.0351562 2.671875 0.015625 C 2.484375 0.0664062 2.265625 0.09375 2.015625 0.09375 Z M 2.21875 -0.5625 C 2.5 -0.5625 2.742188 -0.613281 2.953125 -0.71875 C 3.160156 -0.820312 3.332031 -0.953125 3.46875 -1.109375 C 3.613281 -1.265625 3.71875 -1.4375 3.78125 -1.625 C 3.851562 -1.820312 3.890625 -2.003906 3.890625 -2.171875 L 3.890625 -2.609375 L 2.9375 -2.59375 C 2.71875 -2.582031 2.507812 -2.5625 2.3125 -2.53125 C 2.125 -2.507812 1.957031 -2.457031 1.8125 -2.375 C 1.664062 -2.289062 1.546875 -2.175781 1.453125 -2.03125 C 1.367188 -1.882812 1.328125 -1.691406 1.328125 -1.453125 C 1.328125 -1.171875 1.40625 -0.953125 1.5625 -0.796875 C 1.71875 -0.640625 1.9375 -0.5625 2.21875 -0.5625 Z M 2.21875 -0.5625 \"/>\n",
       "</g>\n",
       "<g id=\"glyph-1-5\">\n",
       "</g>\n",
       "<g id=\"glyph-1-6\">\n",
       "<path d=\"M 6.671875 0 L 6.671875 -4.59375 C 6.671875 -4.757812 6.671875 -4.925781 6.671875 -5.09375 C 6.679688 -5.269531 6.6875 -5.429688 6.6875 -5.578125 C 6.695312 -5.742188 6.707031 -5.90625 6.71875 -6.0625 C 6.664062 -5.894531 6.617188 -5.726562 6.578125 -5.5625 C 6.535156 -5.425781 6.488281 -5.273438 6.4375 -5.109375 C 6.382812 -4.953125 6.332031 -4.8125 6.28125 -4.6875 L 4.5 0 L 3.859375 0 L 2.046875 -4.6875 C 2.023438 -4.738281 2.003906 -4.796875 1.984375 -4.859375 C 1.960938 -4.921875 1.941406 -4.988281 1.921875 -5.0625 C 1.898438 -5.132812 1.875 -5.207031 1.84375 -5.28125 C 1.820312 -5.363281 1.800781 -5.441406 1.78125 -5.515625 C 1.71875 -5.691406 1.660156 -5.875 1.609375 -6.0625 C 1.617188 -5.875 1.625 -5.691406 1.625 -5.515625 C 1.632812 -5.359375 1.640625 -5.195312 1.640625 -5.03125 C 1.648438 -4.863281 1.65625 -4.71875 1.65625 -4.59375 L 1.65625 0 L 0.828125 0 L 0.828125 -6.875 L 2.046875 -6.875 L 3.875 -2.109375 C 3.894531 -2.046875 3.921875 -1.960938 3.953125 -1.859375 C 3.992188 -1.753906 4.023438 -1.644531 4.046875 -1.53125 C 4.078125 -1.425781 4.101562 -1.328125 4.125 -1.234375 C 4.15625 -1.140625 4.175781 -1.066406 4.1875 -1.015625 C 4.195312 -1.066406 4.210938 -1.140625 4.234375 -1.234375 C 4.265625 -1.335938 4.296875 -1.441406 4.328125 -1.546875 C 4.359375 -1.648438 4.390625 -1.753906 4.421875 -1.859375 C 4.460938 -1.960938 4.492188 -2.046875 4.515625 -2.109375 L 6.3125 -6.875 L 7.515625 -6.875 L 7.515625 0 Z M 6.671875 0 \"/>\n",
       "</g>\n",
       "<g id=\"glyph-1-7\">\n",
       "<path d=\"M 0.671875 -6.40625 L 0.671875 -7.25 L 1.546875 -7.25 L 1.546875 -6.40625 Z M 1.546875 0.65625 C 1.546875 0.851562 1.53125 1.035156 1.5 1.203125 C 1.46875 1.378906 1.40625 1.53125 1.3125 1.65625 C 1.226562 1.789062 1.109375 1.894531 0.953125 1.96875 C 0.804688 2.039062 0.613281 2.078125 0.375 2.078125 C 0.257812 2.078125 0.148438 2.070312 0.046875 2.0625 C -0.0546875 2.0625 -0.15625 2.050781 -0.25 2.03125 L -0.25 1.359375 C -0.207031 1.359375 -0.15625 1.359375 -0.09375 1.359375 C -0.03125 1.367188 0.0195312 1.375 0.0625 1.375 C 0.1875 1.375 0.285156 1.359375 0.359375 1.328125 C 0.441406 1.296875 0.503906 1.242188 0.546875 1.171875 C 0.597656 1.109375 0.628906 1.019531 0.640625 0.90625 C 0.660156 0.800781 0.671875 0.671875 0.671875 0.515625 L 0.671875 -5.28125 L 1.546875 -5.28125 Z M 1.546875 0.65625 \"/>\n",
       "</g>\n",
       "<g id=\"glyph-1-8\">\n",
       "<path d=\"M 5.140625 -2.640625 C 5.140625 -1.722656 4.9375 -1.035156 4.53125 -0.578125 C 4.125 -0.128906 3.535156 0.09375 2.765625 0.09375 C 2.390625 0.09375 2.054688 0.0390625 1.765625 -0.0625 C 1.484375 -0.175781 1.238281 -0.347656 1.03125 -0.578125 C 0.832031 -0.804688 0.679688 -1.09375 0.578125 -1.4375 C 0.472656 -1.78125 0.421875 -2.179688 0.421875 -2.640625 C 0.421875 -4.460938 1.207031 -5.375 2.78125 -5.375 C 3.195312 -5.375 3.550781 -5.316406 3.84375 -5.203125 C 4.144531 -5.097656 4.390625 -4.929688 4.578125 -4.703125 C 4.773438 -4.472656 4.914062 -4.1875 5 -3.84375 C 5.09375 -3.5 5.140625 -3.097656 5.140625 -2.640625 Z M 4.21875 -2.640625 C 4.21875 -3.054688 4.1875 -3.394531 4.125 -3.65625 C 4.0625 -3.925781 3.96875 -4.140625 3.84375 -4.296875 C 3.71875 -4.460938 3.566406 -4.578125 3.390625 -4.640625 C 3.222656 -4.703125 3.023438 -4.734375 2.796875 -4.734375 C 2.578125 -4.734375 2.375 -4.695312 2.1875 -4.625 C 2.007812 -4.5625 1.859375 -4.445312 1.734375 -4.28125 C 1.609375 -4.125 1.507812 -3.910156 1.4375 -3.640625 C 1.375 -3.378906 1.34375 -3.046875 1.34375 -2.640625 C 1.34375 -2.234375 1.378906 -1.894531 1.453125 -1.625 C 1.523438 -1.351562 1.625 -1.140625 1.75 -0.984375 C 1.875 -0.828125 2.019531 -0.710938 2.1875 -0.640625 C 2.363281 -0.578125 2.550781 -0.546875 2.75 -0.546875 C 2.976562 -0.546875 3.179688 -0.578125 3.359375 -0.640625 C 3.546875 -0.710938 3.703125 -0.828125 3.828125 -0.984375 C 3.953125 -1.140625 4.046875 -1.351562 4.109375 -1.625 C 4.179688 -1.894531 4.21875 -2.234375 4.21875 -2.640625 Z M 4.21875 -2.640625 \"/>\n",
       "</g>\n",
       "<g id=\"glyph-1-9\">\n",
       "<path d=\"M 0.6875 0 L 0.6875 -4.046875 C 0.6875 -4.160156 0.6875 -4.273438 0.6875 -4.390625 C 0.6875 -4.503906 0.679688 -4.613281 0.671875 -4.71875 C 0.671875 -4.832031 0.671875 -4.9375 0.671875 -5.03125 C 0.671875 -5.125 0.671875 -5.207031 0.671875 -5.28125 L 1.5 -5.28125 C 1.5 -5.207031 1.5 -5.125 1.5 -5.03125 C 1.507812 -4.9375 1.515625 -4.835938 1.515625 -4.734375 C 1.523438 -4.628906 1.53125 -4.53125 1.53125 -4.4375 C 1.53125 -4.34375 1.53125 -4.265625 1.53125 -4.203125 L 1.546875 -4.203125 C 1.609375 -4.398438 1.675781 -4.570312 1.75 -4.71875 C 1.820312 -4.875 1.90625 -5 2 -5.09375 C 2.09375 -5.1875 2.203125 -5.253906 2.328125 -5.296875 C 2.460938 -5.347656 2.625 -5.375 2.8125 -5.375 C 2.882812 -5.375 2.953125 -5.367188 3.015625 -5.359375 C 3.078125 -5.347656 3.128906 -5.335938 3.171875 -5.328125 L 3.171875 -4.53125 C 3.109375 -4.539062 3.035156 -4.550781 2.953125 -4.5625 C 2.878906 -4.570312 2.796875 -4.578125 2.703125 -4.578125 C 2.492188 -4.578125 2.316406 -4.53125 2.171875 -4.4375 C 2.035156 -4.34375 1.921875 -4.210938 1.828125 -4.046875 C 1.742188 -3.890625 1.679688 -3.703125 1.640625 -3.484375 C 1.597656 -3.265625 1.578125 -3.019531 1.578125 -2.75 L 1.578125 0 Z M 0.6875 0 \"/>\n",
       "</g>\n",
       "<g id=\"glyph-1-10\">\n",
       "<path d=\"M 5.703125 0 L 4.90625 -2.015625 L 1.78125 -2.015625 L 0.984375 0 L 0.015625 0 L 2.828125 -6.875 L 3.890625 -6.875 L 6.65625 0 Z M 3.75 -5.015625 C 3.695312 -5.140625 3.644531 -5.269531 3.59375 -5.40625 C 3.550781 -5.539062 3.507812 -5.660156 3.46875 -5.765625 C 3.4375 -5.878906 3.40625 -5.972656 3.375 -6.046875 C 3.351562 -6.117188 3.34375 -6.160156 3.34375 -6.171875 C 3.332031 -6.160156 3.316406 -6.113281 3.296875 -6.03125 C 3.273438 -5.957031 3.242188 -5.863281 3.203125 -5.75 C 3.171875 -5.644531 3.128906 -5.523438 3.078125 -5.390625 C 3.035156 -5.265625 2.988281 -5.132812 2.9375 -5 L 2.0625 -2.734375 L 4.640625 -2.734375 Z M 3.75 -5.015625 \"/>\n",
       "</g>\n",
       "<g id=\"glyph-1-11\">\n",
       "<path d=\"M 3.90625 0 L 2.484375 -2.171875 L 1.0625 0 L 0.109375 0 L 2 -2.71875 L 0.203125 -5.28125 L 1.171875 -5.28125 L 2.484375 -3.234375 L 3.796875 -5.28125 L 4.78125 -5.28125 L 2.984375 -2.71875 L 4.890625 0 Z M 3.90625 0 \"/>\n",
       "</g>\n",
       "<g id=\"glyph-1-12\">\n",
       "<path d=\"M 0.671875 -6.40625 L 0.671875 -7.25 L 1.546875 -7.25 L 1.546875 -6.40625 Z M 0.671875 0 L 0.671875 -5.28125 L 1.546875 -5.28125 L 1.546875 0 Z M 0.671875 0 \"/>\n",
       "</g>\n",
       "<g id=\"glyph-1-13\">\n",
       "<path d=\"M 4.640625 -1.453125 C 4.640625 -1.210938 4.585938 -0.992188 4.484375 -0.796875 C 4.390625 -0.609375 4.25 -0.445312 4.0625 -0.3125 C 3.882812 -0.175781 3.664062 -0.0703125 3.40625 0 C 3.144531 0.0625 2.84375 0.09375 2.5 0.09375 C 2.1875 0.09375 1.90625 0.0664062 1.65625 0.015625 C 1.414062 -0.0234375 1.203125 -0.0976562 1.015625 -0.203125 C 0.835938 -0.304688 0.679688 -0.441406 0.546875 -0.609375 C 0.421875 -0.785156 0.332031 -0.992188 0.28125 -1.234375 L 1.0625 -1.390625 C 1.132812 -1.109375 1.285156 -0.898438 1.515625 -0.765625 C 1.753906 -0.640625 2.082031 -0.578125 2.5 -0.578125 C 2.6875 -0.578125 2.859375 -0.585938 3.015625 -0.609375 C 3.171875 -0.640625 3.304688 -0.6875 3.421875 -0.75 C 3.535156 -0.8125 3.625 -0.894531 3.6875 -1 C 3.75 -1.101562 3.78125 -1.234375 3.78125 -1.390625 C 3.78125 -1.546875 3.742188 -1.675781 3.671875 -1.78125 C 3.597656 -1.882812 3.492188 -1.96875 3.359375 -2.03125 C 3.222656 -2.101562 3.0625 -2.164062 2.875 -2.21875 C 2.6875 -2.269531 2.476562 -2.328125 2.25 -2.390625 C 2.03125 -2.441406 1.816406 -2.5 1.609375 -2.5625 C 1.398438 -2.632812 1.210938 -2.726562 1.046875 -2.84375 C 0.878906 -2.957031 0.742188 -3.097656 0.640625 -3.265625 C 0.535156 -3.429688 0.484375 -3.640625 0.484375 -3.890625 C 0.484375 -4.367188 0.65625 -4.734375 1 -4.984375 C 1.34375 -5.234375 1.84375 -5.359375 2.5 -5.359375 C 3.082031 -5.359375 3.546875 -5.253906 3.890625 -5.046875 C 4.234375 -4.847656 4.453125 -4.523438 4.546875 -4.078125 L 3.75 -3.96875 C 3.726562 -4.113281 3.675781 -4.226562 3.59375 -4.3125 C 3.519531 -4.40625 3.425781 -4.476562 3.3125 -4.53125 C 3.195312 -4.59375 3.070312 -4.632812 2.9375 -4.65625 C 2.800781 -4.6875 2.65625 -4.703125 2.5 -4.703125 C 2.101562 -4.703125 1.8125 -4.640625 1.625 -4.515625 C 1.4375 -4.398438 1.34375 -4.21875 1.34375 -3.96875 C 1.34375 -3.832031 1.375 -3.71875 1.4375 -3.625 C 1.507812 -3.53125 1.609375 -3.453125 1.734375 -3.390625 C 1.859375 -3.328125 2.007812 -3.269531 2.1875 -3.21875 C 2.363281 -3.175781 2.5625 -3.128906 2.78125 -3.078125 C 2.914062 -3.035156 3.054688 -2.992188 3.203125 -2.953125 C 3.347656 -2.910156 3.488281 -2.859375 3.625 -2.796875 C 3.769531 -2.742188 3.898438 -2.679688 4.015625 -2.609375 C 4.140625 -2.535156 4.25 -2.441406 4.34375 -2.328125 C 4.4375 -2.222656 4.507812 -2.097656 4.5625 -1.953125 C 4.613281 -1.816406 4.640625 -1.648438 4.640625 -1.453125 Z M 4.640625 -1.453125 \"/>\n",
       "</g>\n",
       "<g id=\"glyph-1-14\">\n",
       "<path d=\"M 0.828125 0 L 0.828125 -6.875 L 1.75 -6.875 L 1.75 -0.765625 L 5.234375 -0.765625 L 5.234375 0 Z M 0.828125 0 \"/>\n",
       "</g>\n",
       "<g id=\"glyph-1-15\">\n",
       "<path d=\"M 4.03125 0 L 4.03125 -3.34375 C 4.03125 -3.601562 4.007812 -3.816406 3.96875 -3.984375 C 3.9375 -4.160156 3.875 -4.300781 3.78125 -4.40625 C 3.695312 -4.519531 3.585938 -4.597656 3.453125 -4.640625 C 3.316406 -4.679688 3.144531 -4.703125 2.9375 -4.703125 C 2.726562 -4.703125 2.539062 -4.664062 2.375 -4.59375 C 2.207031 -4.519531 2.0625 -4.410156 1.9375 -4.265625 C 1.820312 -4.128906 1.734375 -3.957031 1.671875 -3.75 C 1.609375 -3.550781 1.578125 -3.320312 1.578125 -3.0625 L 1.578125 0 L 0.6875 0 L 0.6875 -4.15625 C 0.6875 -4.269531 0.6875 -4.382812 0.6875 -4.5 C 0.6875 -4.625 0.679688 -4.738281 0.671875 -4.84375 C 0.671875 -4.957031 0.671875 -5.050781 0.671875 -5.125 C 0.671875 -5.207031 0.671875 -5.257812 0.671875 -5.28125 L 1.5 -5.28125 C 1.5 -5.269531 1.5 -5.226562 1.5 -5.15625 C 1.507812 -5.082031 1.515625 -5 1.515625 -4.90625 C 1.523438 -4.8125 1.53125 -4.71875 1.53125 -4.625 C 1.53125 -4.53125 1.53125 -4.445312 1.53125 -4.375 L 1.546875 -4.375 C 1.628906 -4.53125 1.722656 -4.671875 1.828125 -4.796875 C 1.929688 -4.921875 2.046875 -5.023438 2.171875 -5.109375 C 2.304688 -5.191406 2.457031 -5.253906 2.625 -5.296875 C 2.800781 -5.347656 3.003906 -5.375 3.234375 -5.375 C 3.523438 -5.375 3.773438 -5.335938 3.984375 -5.265625 C 4.203125 -5.203125 4.378906 -5.09375 4.515625 -4.9375 C 4.648438 -4.789062 4.75 -4.597656 4.8125 -4.359375 C 4.875 -4.128906 4.90625 -3.847656 4.90625 -3.515625 L 4.90625 0 Z M 4.03125 0 \"/>\n",
       "</g>\n",
       "<g id=\"glyph-1-16\">\n",
       "<path d=\"M 2.671875 2.078125 C 2.367188 2.078125 2.097656 2.046875 1.859375 1.984375 C 1.628906 1.921875 1.429688 1.832031 1.265625 1.71875 C 1.097656 1.601562 0.960938 1.460938 0.859375 1.296875 C 0.753906 1.140625 0.679688 0.960938 0.640625 0.765625 L 1.53125 0.640625 C 1.582031 0.890625 1.707031 1.078125 1.90625 1.203125 C 2.113281 1.335938 2.378906 1.40625 2.703125 1.40625 C 2.898438 1.40625 3.078125 1.375 3.234375 1.3125 C 3.398438 1.257812 3.539062 1.171875 3.65625 1.046875 C 3.769531 0.929688 3.859375 0.773438 3.921875 0.578125 C 3.984375 0.378906 4.015625 0.144531 4.015625 -0.125 L 4.015625 -0.984375 L 4 -0.984375 C 3.9375 -0.847656 3.859375 -0.71875 3.765625 -0.59375 C 3.671875 -0.476562 3.550781 -0.367188 3.40625 -0.265625 C 3.269531 -0.171875 3.109375 -0.09375 2.921875 -0.03125 C 2.742188 0.0195312 2.539062 0.046875 2.3125 0.046875 C 1.96875 0.046875 1.675781 -0.0078125 1.4375 -0.125 C 1.195312 -0.238281 1 -0.40625 0.84375 -0.625 C 0.695312 -0.851562 0.585938 -1.132812 0.515625 -1.46875 C 0.453125 -1.800781 0.421875 -2.1875 0.421875 -2.625 C 0.421875 -3.050781 0.453125 -3.429688 0.515625 -3.765625 C 0.585938 -4.109375 0.703125 -4.394531 0.859375 -4.625 C 1.023438 -4.863281 1.234375 -5.046875 1.484375 -5.171875 C 1.734375 -5.296875 2.039062 -5.359375 2.40625 -5.359375 C 2.78125 -5.359375 3.101562 -5.273438 3.375 -5.109375 C 3.65625 -4.941406 3.867188 -4.695312 4.015625 -4.375 L 4.03125 -4.375 C 4.03125 -4.457031 4.03125 -4.550781 4.03125 -4.65625 C 4.03125 -4.757812 4.03125 -4.851562 4.03125 -4.9375 C 4.039062 -5.03125 4.050781 -5.109375 4.0625 -5.171875 C 4.070312 -5.234375 4.078125 -5.269531 4.078125 -5.28125 L 4.921875 -5.28125 C 4.910156 -5.25 4.90625 -5.195312 4.90625 -5.125 C 4.90625 -5.0625 4.898438 -4.976562 4.890625 -4.875 C 4.890625 -4.78125 4.890625 -4.671875 4.890625 -4.546875 C 4.890625 -4.429688 4.890625 -4.3125 4.890625 -4.1875 L 4.890625 -0.15625 C 4.890625 0.582031 4.707031 1.140625 4.34375 1.515625 C 3.976562 1.890625 3.421875 2.078125 2.671875 2.078125 Z M 4.015625 -2.640625 C 4.015625 -3.003906 3.972656 -3.316406 3.890625 -3.578125 C 3.816406 -3.847656 3.710938 -4.066406 3.578125 -4.234375 C 3.453125 -4.398438 3.300781 -4.519531 3.125 -4.59375 C 2.957031 -4.675781 2.789062 -4.71875 2.625 -4.71875 C 2.394531 -4.71875 2.195312 -4.675781 2.03125 -4.59375 C 1.875 -4.519531 1.742188 -4.394531 1.640625 -4.21875 C 1.535156 -4.050781 1.457031 -3.835938 1.40625 -3.578125 C 1.351562 -3.316406 1.328125 -3.003906 1.328125 -2.640625 C 1.328125 -2.265625 1.351562 -1.945312 1.40625 -1.6875 C 1.457031 -1.425781 1.535156 -1.210938 1.640625 -1.046875 C 1.742188 -0.890625 1.875 -0.773438 2.03125 -0.703125 C 2.1875 -0.640625 2.378906 -0.609375 2.609375 -0.609375 C 2.773438 -0.609375 2.941406 -0.644531 3.109375 -0.71875 C 3.285156 -0.789062 3.4375 -0.910156 3.5625 -1.078125 C 3.695312 -1.242188 3.804688 -1.453125 3.890625 -1.703125 C 3.972656 -1.960938 4.015625 -2.273438 4.015625 -2.640625 Z M 4.015625 -2.640625 \"/>\n",
       "</g>\n",
       "<g id=\"glyph-1-17\">\n",
       "<path d=\"M 1.546875 -4.375 C 1.640625 -4.5625 1.742188 -4.71875 1.859375 -4.84375 C 1.972656 -4.96875 2.097656 -5.066406 2.234375 -5.140625 C 2.378906 -5.222656 2.53125 -5.28125 2.6875 -5.3125 C 2.851562 -5.351562 3.035156 -5.375 3.234375 -5.375 C 3.578125 -5.375 3.851562 -5.328125 4.0625 -5.234375 C 4.28125 -5.148438 4.453125 -5.023438 4.578125 -4.859375 C 4.703125 -4.691406 4.785156 -4.492188 4.828125 -4.265625 C 4.878906 -4.046875 4.90625 -3.796875 4.90625 -3.515625 L 4.90625 0 L 4.03125 0 L 4.03125 -3.34375 C 4.03125 -3.570312 4.015625 -3.769531 3.984375 -3.9375 C 3.960938 -4.101562 3.910156 -4.242188 3.828125 -4.359375 C 3.753906 -4.472656 3.644531 -4.554688 3.5 -4.609375 C 3.351562 -4.671875 3.164062 -4.703125 2.9375 -4.703125 C 2.726562 -4.703125 2.539062 -4.664062 2.375 -4.59375 C 2.207031 -4.519531 2.0625 -4.410156 1.9375 -4.265625 C 1.820312 -4.128906 1.734375 -3.960938 1.671875 -3.765625 C 1.609375 -3.578125 1.578125 -3.359375 1.578125 -3.109375 L 1.578125 0 L 0.6875 0 L 0.6875 -7.25 L 1.578125 -7.25 L 1.578125 -5.359375 C 1.578125 -5.253906 1.570312 -5.144531 1.5625 -5.03125 C 1.5625 -4.925781 1.554688 -4.828125 1.546875 -4.734375 C 1.546875 -4.648438 1.539062 -4.578125 1.53125 -4.515625 C 1.53125 -4.453125 1.53125 -4.40625 1.53125 -4.375 Z M 1.546875 -4.375 \"/>\n",
       "</g>\n",
       "<g id=\"glyph-1-18\">\n",
       "<path d=\"M 1.75 -6.125 L 1.75 -3.5625 L 5.59375 -3.5625 L 5.59375 -2.78125 L 1.75 -2.78125 L 1.75 0 L 0.828125 0 L 0.828125 -6.875 L 5.703125 -6.875 L 5.703125 -6.125 Z M 1.75 -6.125 \"/>\n",
       "</g>\n",
       "<g id=\"glyph-1-19\">\n",
       "<path d=\"M 1.53125 -5.28125 L 1.53125 -1.9375 C 1.53125 -1.675781 1.546875 -1.457031 1.578125 -1.28125 C 1.617188 -1.113281 1.679688 -0.976562 1.765625 -0.875 C 1.859375 -0.769531 1.972656 -0.691406 2.109375 -0.640625 C 2.242188 -0.597656 2.414062 -0.578125 2.625 -0.578125 C 2.832031 -0.578125 3.019531 -0.613281 3.1875 -0.6875 C 3.351562 -0.757812 3.492188 -0.863281 3.609375 -1 C 3.734375 -1.144531 3.828125 -1.316406 3.890625 -1.515625 C 3.953125 -1.722656 3.984375 -1.957031 3.984375 -2.21875 L 3.984375 -5.28125 L 4.875 -5.28125 L 4.875 -1.125 C 4.875 -1.019531 4.875 -0.90625 4.875 -0.78125 C 4.875 -0.65625 4.875 -0.535156 4.875 -0.421875 C 4.882812 -0.316406 4.890625 -0.222656 4.890625 -0.140625 C 4.890625 -0.0664062 4.890625 -0.0195312 4.890625 0 L 4.0625 0 C 4.0625 -0.0195312 4.054688 -0.0625 4.046875 -0.125 C 4.046875 -0.195312 4.039062 -0.28125 4.03125 -0.375 C 4.03125 -0.46875 4.03125 -0.5625 4.03125 -0.65625 C 4.03125 -0.757812 4.03125 -0.84375 4.03125 -0.90625 L 4.015625 -0.90625 C 3.929688 -0.75 3.835938 -0.609375 3.734375 -0.484375 C 3.628906 -0.359375 3.507812 -0.253906 3.375 -0.171875 C 3.25 -0.0859375 3.097656 -0.0234375 2.921875 0.015625 C 2.753906 0.0664062 2.554688 0.09375 2.328125 0.09375 C 2.035156 0.09375 1.78125 0.0546875 1.5625 -0.015625 C 1.351562 -0.0859375 1.179688 -0.195312 1.046875 -0.34375 C 0.910156 -0.488281 0.8125 -0.675781 0.75 -0.90625 C 0.6875 -1.144531 0.65625 -1.429688 0.65625 -1.765625 L 0.65625 -5.28125 Z M 1.53125 -5.28125 \"/>\n",
       "</g>\n",
       "<g id=\"glyph-1-20\">\n",
       "<path d=\"M 4.296875 -1.5625 L 4.296875 0 L 3.46875 0 L 3.46875 -1.5625 L 0.234375 -1.5625 L 0.234375 -2.234375 L 3.375 -6.875 L 4.296875 -6.875 L 4.296875 -2.25 L 5.265625 -2.25 L 5.265625 -1.5625 Z M 3.46875 -5.890625 C 3.46875 -5.867188 3.453125 -5.832031 3.421875 -5.78125 C 3.398438 -5.738281 3.367188 -5.6875 3.328125 -5.625 C 3.296875 -5.570312 3.265625 -5.515625 3.234375 -5.453125 C 3.203125 -5.390625 3.171875 -5.34375 3.140625 -5.3125 L 1.375 -2.703125 C 1.363281 -2.679688 1.34375 -2.648438 1.3125 -2.609375 C 1.28125 -2.566406 1.25 -2.519531 1.21875 -2.46875 C 1.1875 -2.425781 1.148438 -2.382812 1.109375 -2.34375 C 1.078125 -2.300781 1.054688 -2.269531 1.046875 -2.25 L 3.46875 -2.25 Z M 3.46875 -5.890625 \"/>\n",
       "</g>\n",
       "<g id=\"glyph-1-21\">\n",
       "<path d=\"M 0.90625 0 L 0.90625 -1.0625 L 1.859375 -1.0625 L 1.859375 0 Z M 0.90625 0 \"/>\n",
       "</g>\n",
       "<g id=\"glyph-1-22\">\n",
       "<path d=\"M 0.5 0 L 0.5 -0.625 C 0.664062 -1 0.867188 -1.332031 1.109375 -1.625 C 1.347656 -1.914062 1.597656 -2.179688 1.859375 -2.421875 C 2.128906 -2.660156 2.390625 -2.878906 2.640625 -3.078125 C 2.898438 -3.273438 3.132812 -3.472656 3.34375 -3.671875 C 3.550781 -3.878906 3.71875 -4.09375 3.84375 -4.3125 C 3.976562 -4.539062 4.046875 -4.789062 4.046875 -5.0625 C 4.046875 -5.257812 4.015625 -5.429688 3.953125 -5.578125 C 3.898438 -5.734375 3.816406 -5.859375 3.703125 -5.953125 C 3.597656 -6.054688 3.46875 -6.132812 3.3125 -6.1875 C 3.15625 -6.238281 2.984375 -6.265625 2.796875 -6.265625 C 2.617188 -6.265625 2.453125 -6.238281 2.296875 -6.1875 C 2.140625 -6.132812 2 -6.0625 1.875 -5.96875 C 1.757812 -5.875 1.660156 -5.753906 1.578125 -5.609375 C 1.503906 -5.460938 1.457031 -5.289062 1.4375 -5.09375 L 0.546875 -5.1875 C 0.578125 -5.425781 0.644531 -5.65625 0.75 -5.875 C 0.851562 -6.09375 1 -6.285156 1.1875 -6.453125 C 1.375 -6.617188 1.597656 -6.75 1.859375 -6.84375 C 2.128906 -6.9375 2.441406 -6.984375 2.796875 -6.984375 C 3.140625 -6.984375 3.441406 -6.941406 3.703125 -6.859375 C 3.972656 -6.773438 4.195312 -6.65625 4.375 -6.5 C 4.5625 -6.34375 4.703125 -6.144531 4.796875 -5.90625 C 4.898438 -5.675781 4.953125 -5.40625 4.953125 -5.09375 C 4.953125 -4.863281 4.910156 -4.644531 4.828125 -4.4375 C 4.742188 -4.226562 4.628906 -4.03125 4.484375 -3.84375 C 4.347656 -3.65625 4.1875 -3.472656 4 -3.296875 C 3.820312 -3.117188 3.632812 -2.945312 3.4375 -2.78125 C 3.238281 -2.613281 3.039062 -2.445312 2.84375 -2.28125 C 2.644531 -2.113281 2.453125 -1.945312 2.265625 -1.78125 C 2.085938 -1.613281 1.929688 -1.445312 1.796875 -1.28125 C 1.660156 -1.113281 1.550781 -0.9375 1.46875 -0.75 L 5.0625 -0.75 L 5.0625 0 Z M 0.5 0 \"/>\n",
       "</g>\n",
       "<g id=\"glyph-1-23\">\n",
       "<path d=\"M 1.34375 -2.671875 C 1.34375 -2.367188 1.363281 -2.085938 1.40625 -1.828125 C 1.445312 -1.578125 1.519531 -1.359375 1.625 -1.171875 C 1.726562 -0.992188 1.863281 -0.851562 2.03125 -0.75 C 2.207031 -0.644531 2.421875 -0.59375 2.671875 -0.59375 C 2.984375 -0.59375 3.242188 -0.675781 3.453125 -0.84375 C 3.671875 -1.019531 3.800781 -1.28125 3.84375 -1.625 L 4.734375 -1.578125 C 4.703125 -1.359375 4.640625 -1.144531 4.546875 -0.9375 C 4.453125 -0.738281 4.316406 -0.5625 4.140625 -0.40625 C 3.972656 -0.257812 3.769531 -0.140625 3.53125 -0.046875 C 3.289062 0.046875 3.015625 0.09375 2.703125 0.09375 C 2.285156 0.09375 1.929688 0.0234375 1.640625 -0.109375 C 1.359375 -0.253906 1.125 -0.445312 0.9375 -0.6875 C 0.757812 -0.9375 0.628906 -1.226562 0.546875 -1.5625 C 0.460938 -1.894531 0.421875 -2.253906 0.421875 -2.640625 C 0.421875 -2.992188 0.445312 -3.304688 0.5 -3.578125 C 0.5625 -3.859375 0.644531 -4.097656 0.75 -4.296875 C 0.863281 -4.503906 0.988281 -4.675781 1.125 -4.8125 C 1.269531 -4.945312 1.425781 -5.054688 1.59375 -5.140625 C 1.757812 -5.222656 1.9375 -5.28125 2.125 -5.3125 C 2.3125 -5.351562 2.5 -5.375 2.6875 -5.375 C 2.988281 -5.375 3.253906 -5.332031 3.484375 -5.25 C 3.710938 -5.175781 3.910156 -5.066406 4.078125 -4.921875 C 4.242188 -4.785156 4.378906 -4.617188 4.484375 -4.421875 C 4.585938 -4.234375 4.660156 -4.023438 4.703125 -3.796875 L 3.796875 -3.734375 C 3.753906 -4.023438 3.640625 -4.253906 3.453125 -4.421875 C 3.265625 -4.597656 3.003906 -4.6875 2.671875 -4.6875 C 2.421875 -4.6875 2.207031 -4.644531 2.03125 -4.5625 C 1.863281 -4.476562 1.726562 -4.351562 1.625 -4.1875 C 1.519531 -4.019531 1.445312 -3.804688 1.40625 -3.546875 C 1.363281 -3.296875 1.34375 -3.003906 1.34375 -2.671875 Z M 1.34375 -2.671875 \"/>\n",
       "</g>\n",
       "<g id=\"glyph-2-0\">\n",
       "<path d=\"M -2.671875 -1.34375 C -2.367188 -1.34375 -2.085938 -1.363281 -1.828125 -1.40625 C -1.578125 -1.445312 -1.359375 -1.519531 -1.171875 -1.625 C -0.992188 -1.726562 -0.851562 -1.863281 -0.75 -2.03125 C -0.644531 -2.207031 -0.59375 -2.421875 -0.59375 -2.671875 C -0.59375 -2.984375 -0.675781 -3.242188 -0.84375 -3.453125 C -1.019531 -3.671875 -1.28125 -3.800781 -1.625 -3.84375 L -1.578125 -4.734375 C -1.359375 -4.703125 -1.144531 -4.640625 -0.9375 -4.546875 C -0.738281 -4.453125 -0.5625 -4.316406 -0.40625 -4.140625 C -0.257812 -3.972656 -0.140625 -3.769531 -0.046875 -3.53125 C 0.046875 -3.289062 0.09375 -3.015625 0.09375 -2.703125 C 0.09375 -2.285156 0.0234375 -1.929688 -0.109375 -1.640625 C -0.253906 -1.359375 -0.445312 -1.125 -0.6875 -0.9375 C -0.9375 -0.757812 -1.226562 -0.628906 -1.5625 -0.546875 C -1.894531 -0.460938 -2.253906 -0.421875 -2.640625 -0.421875 C -2.992188 -0.421875 -3.304688 -0.445312 -3.578125 -0.5 C -3.859375 -0.5625 -4.097656 -0.644531 -4.296875 -0.75 C -4.503906 -0.863281 -4.675781 -0.988281 -4.8125 -1.125 C -4.945312 -1.269531 -5.054688 -1.425781 -5.140625 -1.59375 C -5.222656 -1.757812 -5.28125 -1.9375 -5.3125 -2.125 C -5.351562 -2.3125 -5.375 -2.5 -5.375 -2.6875 C -5.375 -2.988281 -5.332031 -3.253906 -5.25 -3.484375 C -5.175781 -3.710938 -5.066406 -3.910156 -4.921875 -4.078125 C -4.785156 -4.242188 -4.617188 -4.378906 -4.421875 -4.484375 C -4.234375 -4.585938 -4.023438 -4.660156 -3.796875 -4.703125 L -3.734375 -3.796875 C -4.023438 -3.753906 -4.253906 -3.640625 -4.421875 -3.453125 C -4.597656 -3.265625 -4.6875 -3.003906 -4.6875 -2.671875 C -4.6875 -2.421875 -4.644531 -2.207031 -4.5625 -2.03125 C -4.476562 -1.863281 -4.351562 -1.726562 -4.1875 -1.625 C -4.019531 -1.519531 -3.804688 -1.445312 -3.546875 -1.40625 C -3.296875 -1.363281 -3.003906 -1.34375 -2.671875 -1.34375 Z M -2.671875 -1.34375 \"/>\n",
       "</g>\n",
       "<g id=\"glyph-2-1\">\n",
       "<path d=\"M -2.640625 -5.140625 C -1.722656 -5.140625 -1.035156 -4.9375 -0.578125 -4.53125 C -0.128906 -4.125 0.09375 -3.535156 0.09375 -2.765625 C 0.09375 -2.390625 0.0390625 -2.054688 -0.0625 -1.765625 C -0.175781 -1.484375 -0.347656 -1.238281 -0.578125 -1.03125 C -0.804688 -0.832031 -1.09375 -0.679688 -1.4375 -0.578125 C -1.78125 -0.472656 -2.179688 -0.421875 -2.640625 -0.421875 C -4.460938 -0.421875 -5.375 -1.207031 -5.375 -2.78125 C -5.375 -3.195312 -5.316406 -3.550781 -5.203125 -3.84375 C -5.097656 -4.144531 -4.929688 -4.390625 -4.703125 -4.578125 C -4.472656 -4.773438 -4.1875 -4.914062 -3.84375 -5 C -3.5 -5.09375 -3.097656 -5.140625 -2.640625 -5.140625 Z M -2.640625 -4.21875 C -3.054688 -4.21875 -3.394531 -4.1875 -3.65625 -4.125 C -3.925781 -4.0625 -4.140625 -3.96875 -4.296875 -3.84375 C -4.460938 -3.71875 -4.578125 -3.566406 -4.640625 -3.390625 C -4.703125 -3.222656 -4.734375 -3.023438 -4.734375 -2.796875 C -4.734375 -2.578125 -4.695312 -2.375 -4.625 -2.1875 C -4.5625 -2.007812 -4.445312 -1.859375 -4.28125 -1.734375 C -4.125 -1.609375 -3.910156 -1.507812 -3.640625 -1.4375 C -3.378906 -1.375 -3.046875 -1.34375 -2.640625 -1.34375 C -2.234375 -1.34375 -1.894531 -1.378906 -1.625 -1.453125 C -1.351562 -1.523438 -1.140625 -1.625 -0.984375 -1.75 C -0.828125 -1.875 -0.710938 -2.019531 -0.640625 -2.1875 C -0.578125 -2.363281 -0.546875 -2.550781 -0.546875 -2.75 C -0.546875 -2.976562 -0.578125 -3.179688 -0.640625 -3.359375 C -0.710938 -3.546875 -0.828125 -3.703125 -0.984375 -3.828125 C -1.140625 -3.953125 -1.351562 -4.046875 -1.625 -4.109375 C -1.894531 -4.179688 -2.234375 -4.21875 -2.640625 -4.21875 Z M -2.640625 -4.21875 \"/>\n",
       "</g>\n",
       "<g id=\"glyph-2-2\">\n",
       "<path d=\"M -5.28125 -1.53125 L -1.9375 -1.53125 C -1.675781 -1.53125 -1.457031 -1.546875 -1.28125 -1.578125 C -1.113281 -1.617188 -0.976562 -1.679688 -0.875 -1.765625 C -0.769531 -1.859375 -0.691406 -1.972656 -0.640625 -2.109375 C -0.597656 -2.242188 -0.578125 -2.414062 -0.578125 -2.625 C -0.578125 -2.832031 -0.613281 -3.019531 -0.6875 -3.1875 C -0.757812 -3.351562 -0.863281 -3.492188 -1 -3.609375 C -1.144531 -3.734375 -1.316406 -3.828125 -1.515625 -3.890625 C -1.722656 -3.953125 -1.957031 -3.984375 -2.21875 -3.984375 L -5.28125 -3.984375 L -5.28125 -4.875 L -1.125 -4.875 C -1.019531 -4.875 -0.90625 -4.875 -0.78125 -4.875 C -0.65625 -4.875 -0.535156 -4.875 -0.421875 -4.875 C -0.316406 -4.882812 -0.222656 -4.890625 -0.140625 -4.890625 C -0.0664062 -4.890625 -0.0195312 -4.890625 0 -4.890625 L 0 -4.0625 C -0.0195312 -4.0625 -0.0625 -4.054688 -0.125 -4.046875 C -0.195312 -4.046875 -0.28125 -4.039062 -0.375 -4.03125 C -0.46875 -4.03125 -0.5625 -4.03125 -0.65625 -4.03125 C -0.757812 -4.03125 -0.84375 -4.03125 -0.90625 -4.03125 L -0.90625 -4.015625 C -0.75 -3.929688 -0.609375 -3.835938 -0.484375 -3.734375 C -0.359375 -3.628906 -0.253906 -3.507812 -0.171875 -3.375 C -0.0859375 -3.25 -0.0234375 -3.097656 0.015625 -2.921875 C 0.0664062 -2.753906 0.09375 -2.554688 0.09375 -2.328125 C 0.09375 -2.035156 0.0546875 -1.78125 -0.015625 -1.5625 C -0.0859375 -1.351562 -0.195312 -1.179688 -0.34375 -1.046875 C -0.488281 -0.910156 -0.675781 -0.8125 -0.90625 -0.75 C -1.144531 -0.6875 -1.429688 -0.65625 -1.765625 -0.65625 L -5.28125 -0.65625 Z M -5.28125 -1.53125 \"/>\n",
       "</g>\n",
       "<g id=\"glyph-2-3\">\n",
       "<path d=\"M 0 -4.03125 L -3.34375 -4.03125 C -3.601562 -4.03125 -3.816406 -4.007812 -3.984375 -3.96875 C -4.160156 -3.9375 -4.300781 -3.875 -4.40625 -3.78125 C -4.519531 -3.695312 -4.597656 -3.585938 -4.640625 -3.453125 C -4.679688 -3.316406 -4.703125 -3.144531 -4.703125 -2.9375 C -4.703125 -2.726562 -4.664062 -2.539062 -4.59375 -2.375 C -4.519531 -2.207031 -4.410156 -2.0625 -4.265625 -1.9375 C -4.128906 -1.820312 -3.957031 -1.734375 -3.75 -1.671875 C -3.550781 -1.609375 -3.320312 -1.578125 -3.0625 -1.578125 L 0 -1.578125 L 0 -0.6875 L -4.15625 -0.6875 C -4.269531 -0.6875 -4.382812 -0.6875 -4.5 -0.6875 C -4.625 -0.6875 -4.738281 -0.679688 -4.84375 -0.671875 C -4.957031 -0.671875 -5.050781 -0.671875 -5.125 -0.671875 C -5.207031 -0.671875 -5.257812 -0.671875 -5.28125 -0.671875 L -5.28125 -1.5 C -5.269531 -1.5 -5.226562 -1.5 -5.15625 -1.5 C -5.082031 -1.507812 -5 -1.515625 -4.90625 -1.515625 C -4.8125 -1.523438 -4.71875 -1.53125 -4.625 -1.53125 C -4.53125 -1.53125 -4.445312 -1.53125 -4.375 -1.53125 L -4.375 -1.546875 C -4.53125 -1.628906 -4.671875 -1.722656 -4.796875 -1.828125 C -4.921875 -1.929688 -5.023438 -2.046875 -5.109375 -2.171875 C -5.191406 -2.304688 -5.253906 -2.457031 -5.296875 -2.625 C -5.347656 -2.800781 -5.375 -3.003906 -5.375 -3.234375 C -5.375 -3.523438 -5.335938 -3.773438 -5.265625 -3.984375 C -5.203125 -4.203125 -5.09375 -4.378906 -4.9375 -4.515625 C -4.789062 -4.648438 -4.597656 -4.75 -4.359375 -4.8125 C -4.128906 -4.875 -3.847656 -4.90625 -3.515625 -4.90625 L 0 -4.90625 Z M 0 -4.03125 \"/>\n",
       "</g>\n",
       "<g id=\"glyph-2-4\">\n",
       "<path d=\"M -0.046875 -2.703125 C -0.00390625 -2.566406 0.0234375 -2.429688 0.046875 -2.296875 C 0.0664062 -2.160156 0.078125 -2 0.078125 -1.8125 C 0.078125 -1.113281 -0.320312 -0.765625 -1.125 -0.765625 L -4.640625 -0.765625 L -4.640625 -0.15625 L -5.28125 -0.15625 L -5.28125 -0.796875 L -6.46875 -1.0625 L -6.46875 -1.640625 L -5.28125 -1.640625 L -5.28125 -2.625 L -4.640625 -2.625 L -4.640625 -1.640625 L -1.3125 -1.640625 C -1.050781 -1.640625 -0.867188 -1.679688 -0.765625 -1.765625 C -0.671875 -1.847656 -0.625 -1.992188 -0.625 -2.203125 C -0.625 -2.285156 -0.628906 -2.363281 -0.640625 -2.4375 C -0.648438 -2.519531 -0.664062 -2.609375 -0.6875 -2.703125 Z M -0.046875 -2.703125 \"/>\n",
       "</g>\n",
       "<g id=\"glyph-3-0\">\n",
       "<path d=\"M 7.375 -2.328125 C 7.375 -1.910156 7.289062 -1.550781 7.125 -1.25 C 6.957031 -0.957031 6.734375 -0.71875 6.453125 -0.53125 C 6.179688 -0.351562 5.863281 -0.21875 5.5 -0.125 C 5.132812 -0.0390625 4.75 0 4.34375 0 L 0.984375 0 L 0.984375 -8.25 L 3.984375 -8.25 C 4.441406 -8.25 4.847656 -8.210938 5.203125 -8.140625 C 5.566406 -8.066406 5.875 -7.945312 6.125 -7.78125 C 6.375 -7.613281 6.5625 -7.40625 6.6875 -7.15625 C 6.820312 -6.90625 6.890625 -6.601562 6.890625 -6.25 C 6.890625 -6.019531 6.859375 -5.800781 6.796875 -5.59375 C 6.734375 -5.394531 6.632812 -5.210938 6.5 -5.046875 C 6.375 -4.878906 6.210938 -4.734375 6.015625 -4.609375 C 5.816406 -4.492188 5.585938 -4.410156 5.328125 -4.359375 C 5.648438 -4.316406 5.941406 -4.238281 6.203125 -4.125 C 6.460938 -4.007812 6.675781 -3.863281 6.84375 -3.6875 C 7.019531 -3.507812 7.148438 -3.304688 7.234375 -3.078125 C 7.328125 -2.847656 7.375 -2.597656 7.375 -2.328125 Z M 5.765625 -6.125 C 5.765625 -6.5625 5.613281 -6.875 5.3125 -7.0625 C 5.007812 -7.257812 4.566406 -7.359375 3.984375 -7.359375 L 2.109375 -7.359375 L 2.109375 -4.75 L 3.984375 -4.75 C 4.316406 -4.75 4.59375 -4.78125 4.8125 -4.84375 C 5.039062 -4.90625 5.222656 -4.992188 5.359375 -5.109375 C 5.503906 -5.234375 5.609375 -5.378906 5.671875 -5.546875 C 5.734375 -5.710938 5.765625 -5.90625 5.765625 -6.125 Z M 6.234375 -2.421875 C 6.234375 -2.679688 6.1875 -2.898438 6.09375 -3.078125 C 6 -3.265625 5.863281 -3.414062 5.6875 -3.53125 C 5.507812 -3.644531 5.289062 -3.726562 5.03125 -3.78125 C 4.78125 -3.84375 4.5 -3.875 4.1875 -3.875 L 2.109375 -3.875 L 2.109375 -0.890625 L 4.28125 -0.890625 C 4.5625 -0.890625 4.820312 -0.910156 5.0625 -0.953125 C 5.300781 -1.003906 5.507812 -1.085938 5.6875 -1.203125 C 5.863281 -1.328125 6 -1.484375 6.09375 -1.671875 C 6.1875 -1.867188 6.234375 -2.117188 6.234375 -2.421875 Z M 6.234375 -2.421875 \"/>\n",
       "</g>\n",
       "<g id=\"glyph-3-1\">\n",
       "<path d=\"M 6.171875 -3.171875 C 6.171875 -2.066406 5.925781 -1.238281 5.4375 -0.6875 C 4.945312 -0.144531 4.238281 0.125 3.3125 0.125 C 2.875 0.125 2.476562 0.0546875 2.125 -0.078125 C 1.78125 -0.210938 1.488281 -0.414062 1.25 -0.6875 C 1.007812 -0.96875 0.820312 -1.3125 0.6875 -1.71875 C 0.5625 -2.132812 0.5 -2.617188 0.5 -3.171875 C 0.5 -5.359375 1.445312 -6.453125 3.34375 -6.453125 C 3.832031 -6.453125 4.253906 -6.382812 4.609375 -6.25 C 4.972656 -6.113281 5.269531 -5.910156 5.5 -5.640625 C 5.726562 -5.367188 5.894531 -5.023438 6 -4.609375 C 6.113281 -4.203125 6.171875 -3.722656 6.171875 -3.171875 Z M 5.0625 -3.171875 C 5.0625 -3.671875 5.019531 -4.078125 4.9375 -4.390625 C 4.863281 -4.710938 4.753906 -4.96875 4.609375 -5.15625 C 4.460938 -5.351562 4.285156 -5.488281 4.078125 -5.5625 C 3.867188 -5.632812 3.628906 -5.671875 3.359375 -5.671875 C 3.085938 -5.671875 2.84375 -5.628906 2.625 -5.546875 C 2.414062 -5.472656 2.234375 -5.335938 2.078125 -5.140625 C 1.929688 -4.953125 1.816406 -4.695312 1.734375 -4.375 C 1.648438 -4.050781 1.609375 -3.648438 1.609375 -3.171875 C 1.609375 -2.679688 1.648438 -2.273438 1.734375 -1.953125 C 1.828125 -1.628906 1.945312 -1.367188 2.09375 -1.171875 C 2.25 -0.984375 2.425781 -0.847656 2.625 -0.765625 C 2.832031 -0.691406 3.054688 -0.65625 3.296875 -0.65625 C 3.566406 -0.65625 3.8125 -0.691406 4.03125 -0.765625 C 4.25 -0.847656 4.429688 -0.984375 4.578125 -1.171875 C 4.734375 -1.367188 4.851562 -1.628906 4.9375 -1.953125 C 5.019531 -2.273438 5.0625 -2.679688 5.0625 -3.171875 Z M 5.0625 -3.171875 \"/>\n",
       "</g>\n",
       "<g id=\"glyph-3-2\">\n",
       "<path d=\"M 3.25 -0.046875 C 3.082031 -0.00390625 2.914062 0.0234375 2.75 0.046875 C 2.59375 0.078125 2.40625 0.09375 2.1875 0.09375 C 1.34375 0.09375 0.921875 -0.382812 0.921875 -1.34375 L 0.921875 -5.578125 L 0.1875 -5.578125 L 0.1875 -6.34375 L 0.953125 -6.34375 L 1.265625 -7.765625 L 1.96875 -7.765625 L 1.96875 -6.34375 L 3.140625 -6.34375 L 3.140625 -5.578125 L 1.96875 -5.578125 L 1.96875 -1.578125 C 1.96875 -1.265625 2.015625 -1.046875 2.109375 -0.921875 C 2.210938 -0.804688 2.390625 -0.75 2.640625 -0.75 C 2.742188 -0.75 2.84375 -0.753906 2.9375 -0.765625 C 3.03125 -0.785156 3.132812 -0.804688 3.25 -0.828125 Z M 3.25 -0.046875 \"/>\n",
       "</g>\n",
       "<g id=\"glyph-3-3\">\n",
       "<path d=\"M 5.5625 -1.75 C 5.5625 -1.457031 5.503906 -1.191406 5.390625 -0.953125 C 5.273438 -0.722656 5.109375 -0.53125 4.890625 -0.375 C 4.671875 -0.21875 4.398438 -0.09375 4.078125 0 C 3.765625 0.0820312 3.40625 0.125 3 0.125 C 2.625 0.125 2.289062 0.09375 2 0.03125 C 1.707031 -0.0195312 1.445312 -0.109375 1.21875 -0.234375 C 1 -0.359375 0.8125 -0.523438 0.65625 -0.734375 C 0.507812 -0.941406 0.398438 -1.191406 0.328125 -1.484375 L 1.265625 -1.671875 C 1.359375 -1.328125 1.546875 -1.078125 1.828125 -0.921875 C 2.109375 -0.765625 2.5 -0.6875 3 -0.6875 C 3.21875 -0.6875 3.421875 -0.703125 3.609375 -0.734375 C 3.804688 -0.765625 3.972656 -0.816406 4.109375 -0.890625 C 4.242188 -0.972656 4.347656 -1.078125 4.421875 -1.203125 C 4.503906 -1.328125 4.546875 -1.484375 4.546875 -1.671875 C 4.546875 -1.859375 4.5 -2.015625 4.40625 -2.140625 C 4.3125 -2.265625 4.1875 -2.367188 4.03125 -2.453125 C 3.875 -2.535156 3.679688 -2.601562 3.453125 -2.65625 C 3.222656 -2.71875 2.972656 -2.785156 2.703125 -2.859375 C 2.441406 -2.929688 2.1875 -3.007812 1.9375 -3.09375 C 1.6875 -3.175781 1.460938 -3.28125 1.265625 -3.40625 C 1.066406 -3.539062 0.90625 -3.707031 0.78125 -3.90625 C 0.65625 -4.113281 0.59375 -4.367188 0.59375 -4.671875 C 0.59375 -5.242188 0.796875 -5.679688 1.203125 -5.984375 C 1.617188 -6.285156 2.21875 -6.4375 3 -6.4375 C 3.707031 -6.4375 4.265625 -6.3125 4.671875 -6.0625 C 5.085938 -5.820312 5.347656 -5.429688 5.453125 -4.890625 L 4.5 -4.765625 C 4.46875 -4.929688 4.40625 -5.066406 4.3125 -5.171875 C 4.21875 -5.285156 4.101562 -5.378906 3.96875 -5.453125 C 3.84375 -5.523438 3.695312 -5.570312 3.53125 -5.59375 C 3.363281 -5.625 3.1875 -5.640625 3 -5.640625 C 2.53125 -5.640625 2.179688 -5.566406 1.953125 -5.421875 C 1.722656 -5.273438 1.609375 -5.054688 1.609375 -4.765625 C 1.609375 -4.597656 1.648438 -4.457031 1.734375 -4.34375 C 1.816406 -4.226562 1.929688 -4.132812 2.078125 -4.0625 C 2.234375 -3.988281 2.414062 -3.921875 2.625 -3.859375 C 2.84375 -3.804688 3.078125 -3.75 3.328125 -3.6875 C 3.492188 -3.644531 3.664062 -3.597656 3.84375 -3.546875 C 4.019531 -3.492188 4.191406 -3.429688 4.359375 -3.359375 C 4.523438 -3.296875 4.679688 -3.21875 4.828125 -3.125 C 4.972656 -3.039062 5.097656 -2.929688 5.203125 -2.796875 C 5.316406 -2.671875 5.40625 -2.519531 5.46875 -2.34375 C 5.53125 -2.175781 5.5625 -1.976562 5.5625 -1.75 Z M 5.5625 -1.75 \"/>\n",
       "</g>\n",
       "<g id=\"glyph-3-4\">\n",
       "<path d=\"M 0.828125 0 L 0.828125 -4.859375 C 0.828125 -4.992188 0.828125 -5.128906 0.828125 -5.265625 C 0.828125 -5.410156 0.820312 -5.546875 0.8125 -5.671875 C 0.8125 -5.796875 0.804688 -5.914062 0.796875 -6.03125 C 0.796875 -6.144531 0.796875 -6.25 0.796875 -6.34375 L 1.796875 -6.34375 C 1.796875 -6.25 1.796875 -6.144531 1.796875 -6.03125 C 1.804688 -5.914062 1.8125 -5.796875 1.8125 -5.671875 C 1.820312 -5.554688 1.828125 -5.441406 1.828125 -5.328125 C 1.835938 -5.210938 1.84375 -5.117188 1.84375 -5.046875 L 1.859375 -5.046875 C 1.929688 -5.285156 2.007812 -5.492188 2.09375 -5.671875 C 2.1875 -5.847656 2.285156 -5.992188 2.390625 -6.109375 C 2.503906 -6.222656 2.640625 -6.304688 2.796875 -6.359375 C 2.953125 -6.421875 3.144531 -6.453125 3.375 -6.453125 C 3.457031 -6.453125 3.535156 -6.445312 3.609375 -6.4375 C 3.691406 -6.425781 3.753906 -6.414062 3.796875 -6.40625 L 3.796875 -5.4375 C 3.722656 -5.457031 3.640625 -5.46875 3.546875 -5.46875 C 3.453125 -5.476562 3.347656 -5.484375 3.234375 -5.484375 C 2.992188 -5.484375 2.785156 -5.425781 2.609375 -5.3125 C 2.441406 -5.207031 2.304688 -5.054688 2.203125 -4.859375 C 2.097656 -4.671875 2.019531 -4.441406 1.96875 -4.171875 C 1.914062 -3.910156 1.890625 -3.625 1.890625 -3.3125 L 1.890625 0 Z M 0.828125 0 \"/>\n",
       "</g>\n",
       "<g id=\"glyph-3-5\">\n",
       "<path d=\"M 2.421875 0.125 C 1.785156 0.125 1.304688 -0.0390625 0.984375 -0.375 C 0.671875 -0.71875 0.515625 -1.179688 0.515625 -1.765625 C 0.515625 -2.179688 0.59375 -2.523438 0.75 -2.796875 C 0.90625 -3.066406 1.109375 -3.273438 1.359375 -3.421875 C 1.617188 -3.578125 1.910156 -3.679688 2.234375 -3.734375 C 2.566406 -3.796875 2.90625 -3.832031 3.25 -3.84375 L 4.671875 -3.875 L 4.671875 -4.21875 C 4.671875 -4.476562 4.640625 -4.695312 4.578125 -4.875 C 4.523438 -5.0625 4.441406 -5.210938 4.328125 -5.328125 C 4.222656 -5.441406 4.082031 -5.523438 3.90625 -5.578125 C 3.738281 -5.628906 3.539062 -5.65625 3.3125 -5.65625 C 3.101562 -5.65625 2.914062 -5.640625 2.75 -5.609375 C 2.59375 -5.578125 2.453125 -5.523438 2.328125 -5.453125 C 2.210938 -5.378906 2.113281 -5.273438 2.03125 -5.140625 C 1.957031 -5.015625 1.910156 -4.847656 1.890625 -4.640625 L 0.796875 -4.75 C 0.828125 -5 0.894531 -5.226562 1 -5.4375 C 1.113281 -5.644531 1.269531 -5.820312 1.46875 -5.96875 C 1.675781 -6.125 1.929688 -6.242188 2.234375 -6.328125 C 2.535156 -6.410156 2.898438 -6.453125 3.328125 -6.453125 C 4.128906 -6.453125 4.726562 -6.269531 5.125 -5.90625 C 5.53125 -5.539062 5.734375 -5.015625 5.734375 -4.328125 L 5.734375 -1.59375 C 5.734375 -1.28125 5.773438 -1.046875 5.859375 -0.890625 C 5.941406 -0.734375 6.097656 -0.65625 6.328125 -0.65625 C 6.390625 -0.65625 6.445312 -0.65625 6.5 -0.65625 C 6.5625 -0.664062 6.617188 -0.675781 6.671875 -0.6875 L 6.671875 -0.03125 C 6.535156 0 6.398438 0.0195312 6.265625 0.03125 C 6.140625 0.0507812 6.003906 0.0625 5.859375 0.0625 C 5.660156 0.0625 5.488281 0.0351562 5.34375 -0.015625 C 5.207031 -0.0664062 5.09375 -0.144531 5 -0.25 C 4.90625 -0.363281 4.832031 -0.5 4.78125 -0.65625 C 4.738281 -0.8125 4.710938 -1 4.703125 -1.21875 L 4.671875 -1.21875 C 4.554688 -1.007812 4.429688 -0.820312 4.296875 -0.65625 C 4.160156 -0.5 4.003906 -0.363281 3.828125 -0.25 C 3.648438 -0.132812 3.445312 -0.046875 3.21875 0.015625 C 2.988281 0.0859375 2.722656 0.125 2.421875 0.125 Z M 2.671875 -0.671875 C 3.003906 -0.671875 3.296875 -0.734375 3.546875 -0.859375 C 3.796875 -0.984375 4.003906 -1.140625 4.171875 -1.328125 C 4.335938 -1.523438 4.460938 -1.734375 4.546875 -1.953125 C 4.628906 -2.179688 4.671875 -2.398438 4.671875 -2.609375 L 4.671875 -3.125 L 3.515625 -3.109375 C 3.253906 -3.097656 3.007812 -3.078125 2.78125 -3.046875 C 2.550781 -3.015625 2.347656 -2.945312 2.171875 -2.84375 C 1.992188 -2.75 1.851562 -2.613281 1.75 -2.4375 C 1.644531 -2.269531 1.59375 -2.039062 1.59375 -1.75 C 1.59375 -1.40625 1.6875 -1.140625 1.875 -0.953125 C 2.0625 -0.765625 2.328125 -0.671875 2.671875 -0.671875 Z M 2.671875 -0.671875 \"/>\n",
       "</g>\n",
       "<g id=\"glyph-3-6\">\n",
       "<path d=\"M 6.171875 -3.203125 C 6.171875 -2.722656 6.128906 -2.28125 6.046875 -1.875 C 5.972656 -1.46875 5.84375 -1.113281 5.65625 -0.8125 C 5.476562 -0.519531 5.238281 -0.289062 4.9375 -0.125 C 4.644531 0.0390625 4.28125 0.125 3.84375 0.125 C 3.382812 0.125 2.984375 0.0351562 2.640625 -0.140625 C 2.304688 -0.316406 2.050781 -0.597656 1.875 -0.984375 L 1.84375 -0.984375 C 1.84375 -0.972656 1.84375 -0.9375 1.84375 -0.875 C 1.851562 -0.8125 1.859375 -0.734375 1.859375 -0.640625 C 1.859375 -0.546875 1.859375 -0.441406 1.859375 -0.328125 C 1.859375 -0.210938 1.859375 -0.0976562 1.859375 0.015625 L 1.859375 2.484375 L 0.8125 2.484375 L 0.8125 -5.046875 C 0.8125 -5.203125 0.804688 -5.347656 0.796875 -5.484375 C 0.796875 -5.628906 0.796875 -5.757812 0.796875 -5.875 C 0.796875 -5.988281 0.789062 -6.082031 0.78125 -6.15625 C 0.78125 -6.238281 0.78125 -6.300781 0.78125 -6.34375 L 1.796875 -6.34375 C 1.796875 -6.332031 1.796875 -6.289062 1.796875 -6.21875 C 1.804688 -6.144531 1.8125 -6.054688 1.8125 -5.953125 C 1.820312 -5.859375 1.832031 -5.753906 1.84375 -5.640625 C 1.851562 -5.523438 1.859375 -5.421875 1.859375 -5.328125 L 1.875 -5.328125 C 1.96875 -5.523438 2.078125 -5.691406 2.203125 -5.828125 C 2.328125 -5.972656 2.46875 -6.09375 2.625 -6.1875 C 2.789062 -6.28125 2.972656 -6.347656 3.171875 -6.390625 C 3.367188 -6.429688 3.59375 -6.453125 3.84375 -6.453125 C 4.28125 -6.453125 4.644531 -6.375 4.9375 -6.21875 C 5.238281 -6.0625 5.476562 -5.84375 5.65625 -5.5625 C 5.84375 -5.28125 5.972656 -4.9375 6.046875 -4.53125 C 6.128906 -4.132812 6.171875 -3.691406 6.171875 -3.203125 Z M 5.0625 -3.171875 C 5.0625 -3.566406 5.035156 -3.914062 4.984375 -4.21875 C 4.941406 -4.519531 4.863281 -4.773438 4.75 -4.984375 C 4.632812 -5.203125 4.476562 -5.363281 4.28125 -5.46875 C 4.09375 -5.582031 3.851562 -5.640625 3.5625 -5.640625 C 3.332031 -5.640625 3.113281 -5.601562 2.90625 -5.53125 C 2.695312 -5.46875 2.515625 -5.34375 2.359375 -5.15625 C 2.210938 -4.96875 2.09375 -4.707031 2 -4.375 C 1.90625 -4.050781 1.859375 -3.625 1.859375 -3.09375 C 1.859375 -2.644531 1.894531 -2.265625 1.96875 -1.953125 C 2.050781 -1.640625 2.160156 -1.390625 2.296875 -1.203125 C 2.441406 -1.015625 2.617188 -0.875 2.828125 -0.78125 C 3.035156 -0.695312 3.28125 -0.65625 3.5625 -0.65625 C 3.851562 -0.65625 4.09375 -0.710938 4.28125 -0.828125 C 4.476562 -0.941406 4.632812 -1.101562 4.75 -1.3125 C 4.863281 -1.53125 4.941406 -1.796875 4.984375 -2.109375 C 5.035156 -2.421875 5.0625 -2.773438 5.0625 -3.171875 Z M 5.0625 -3.171875 \"/>\n",
       "</g>\n",
       "<g id=\"glyph-3-7\">\n",
       "</g>\n",
       "<g id=\"glyph-3-8\">\n",
       "<path d=\"M 8.09375 -4.21875 C 8.09375 -3.53125 7.988281 -2.921875 7.78125 -2.390625 C 7.570312 -1.867188 7.285156 -1.429688 6.921875 -1.078125 C 6.566406 -0.722656 6.144531 -0.453125 5.65625 -0.265625 C 5.164062 -0.0859375 4.640625 0 4.078125 0 L 0.984375 0 L 0.984375 -8.25 L 3.71875 -8.25 C 4.351562 -8.25 4.9375 -8.171875 5.46875 -8.015625 C 6.007812 -7.859375 6.472656 -7.613281 6.859375 -7.28125 C 7.242188 -6.957031 7.546875 -6.539062 7.765625 -6.03125 C 7.984375 -5.519531 8.09375 -4.914062 8.09375 -4.21875 Z M 6.96875 -4.21875 C 6.96875 -4.769531 6.882812 -5.242188 6.71875 -5.640625 C 6.5625 -6.035156 6.335938 -6.359375 6.046875 -6.609375 C 5.765625 -6.867188 5.421875 -7.054688 5.015625 -7.171875 C 4.609375 -7.296875 4.164062 -7.359375 3.6875 -7.359375 L 2.109375 -7.359375 L 2.109375 -0.890625 L 3.9375 -0.890625 C 4.375 -0.890625 4.773438 -0.957031 5.140625 -1.09375 C 5.515625 -1.238281 5.835938 -1.453125 6.109375 -1.734375 C 6.378906 -2.015625 6.585938 -2.359375 6.734375 -2.765625 C 6.890625 -3.179688 6.96875 -3.664062 6.96875 -4.21875 Z M 6.96875 -4.21875 \"/>\n",
       "</g>\n",
       "<g id=\"glyph-3-9\">\n",
       "<path d=\"M 0.796875 -7.6875 L 0.796875 -8.703125 L 1.859375 -8.703125 L 1.859375 -7.6875 Z M 0.796875 0 L 0.796875 -6.34375 L 1.859375 -6.34375 L 1.859375 0 Z M 0.796875 0 \"/>\n",
       "</g>\n",
       "<g id=\"glyph-3-10\">\n",
       "<path d=\"M 6.171875 -3.203125 C 6.171875 -0.984375 5.394531 0.125 3.84375 0.125 C 3.363281 0.125 2.960938 0.0351562 2.640625 -0.140625 C 2.316406 -0.316406 2.054688 -0.597656 1.859375 -0.984375 C 1.859375 -0.878906 1.851562 -0.769531 1.84375 -0.65625 C 1.832031 -0.550781 1.820312 -0.453125 1.8125 -0.359375 C 1.8125 -0.265625 1.804688 -0.1875 1.796875 -0.125 C 1.796875 -0.0625 1.796875 -0.0195312 1.796875 0 L 0.78125 0 C 0.78125 -0.03125 0.78125 -0.0859375 0.78125 -0.171875 C 0.789062 -0.265625 0.796875 -0.367188 0.796875 -0.484375 C 0.796875 -0.597656 0.796875 -0.722656 0.796875 -0.859375 C 0.804688 -1.003906 0.8125 -1.15625 0.8125 -1.3125 L 0.8125 -8.703125 L 1.859375 -8.703125 L 1.859375 -6.21875 C 1.859375 -6.101562 1.859375 -5.988281 1.859375 -5.875 C 1.859375 -5.769531 1.859375 -5.675781 1.859375 -5.59375 C 1.847656 -5.5 1.84375 -5.410156 1.84375 -5.328125 L 1.859375 -5.328125 C 2.054688 -5.734375 2.316406 -6.019531 2.640625 -6.1875 C 2.960938 -6.363281 3.363281 -6.453125 3.84375 -6.453125 C 4.644531 -6.453125 5.234375 -6.179688 5.609375 -5.640625 C 5.984375 -5.109375 6.171875 -4.296875 6.171875 -3.203125 Z M 5.0625 -3.171875 C 5.0625 -3.609375 5.035156 -3.984375 4.984375 -4.296875 C 4.929688 -4.609375 4.84375 -4.863281 4.71875 -5.0625 C 4.59375 -5.257812 4.4375 -5.40625 4.25 -5.5 C 4.0625 -5.59375 3.832031 -5.640625 3.5625 -5.640625 C 3.289062 -5.640625 3.046875 -5.59375 2.828125 -5.5 C 2.617188 -5.414062 2.441406 -5.273438 2.296875 -5.078125 C 2.160156 -4.878906 2.050781 -4.613281 1.96875 -4.28125 C 1.894531 -3.957031 1.859375 -3.5625 1.859375 -3.09375 C 1.859375 -2.644531 1.894531 -2.265625 1.96875 -1.953125 C 2.050781 -1.648438 2.160156 -1.398438 2.296875 -1.203125 C 2.441406 -1.015625 2.617188 -0.875 2.828125 -0.78125 C 3.035156 -0.695312 3.28125 -0.65625 3.5625 -0.65625 C 3.8125 -0.65625 4.03125 -0.703125 4.21875 -0.796875 C 4.40625 -0.890625 4.5625 -1.035156 4.6875 -1.234375 C 4.8125 -1.429688 4.90625 -1.6875 4.96875 -2 C 5.03125 -2.320312 5.0625 -2.710938 5.0625 -3.171875 Z M 5.0625 -3.171875 \"/>\n",
       "</g>\n",
       "<g id=\"glyph-3-11\">\n",
       "<path d=\"M 1.84375 -6.34375 L 1.84375 -2.328125 C 1.84375 -2.015625 1.863281 -1.753906 1.90625 -1.546875 C 1.945312 -1.335938 2.019531 -1.171875 2.125 -1.046875 C 2.226562 -0.921875 2.363281 -0.832031 2.53125 -0.78125 C 2.695312 -0.726562 2.898438 -0.703125 3.140625 -0.703125 C 3.390625 -0.703125 3.613281 -0.742188 3.8125 -0.828125 C 4.019531 -0.921875 4.191406 -1.046875 4.328125 -1.203125 C 4.472656 -1.367188 4.582031 -1.570312 4.65625 -1.8125 C 4.738281 -2.0625 4.78125 -2.347656 4.78125 -2.671875 L 4.78125 -6.34375 L 5.84375 -6.34375 L 5.84375 -1.359375 C 5.84375 -1.222656 5.84375 -1.082031 5.84375 -0.9375 C 5.84375 -0.789062 5.84375 -0.648438 5.84375 -0.515625 C 5.851562 -0.390625 5.859375 -0.28125 5.859375 -0.1875 C 5.867188 -0.09375 5.875 -0.03125 5.875 0 L 4.875 0 C 4.875 -0.0195312 4.867188 -0.0703125 4.859375 -0.15625 C 4.859375 -0.238281 4.851562 -0.335938 4.84375 -0.453125 C 4.84375 -0.566406 4.835938 -0.679688 4.828125 -0.796875 C 4.828125 -0.910156 4.828125 -1.003906 4.828125 -1.078125 L 4.8125 -1.078125 C 4.71875 -0.898438 4.609375 -0.734375 4.484375 -0.578125 C 4.359375 -0.429688 4.21875 -0.304688 4.0625 -0.203125 C 3.90625 -0.0976562 3.722656 -0.0195312 3.515625 0.03125 C 3.304688 0.09375 3.066406 0.125 2.796875 0.125 C 2.441406 0.125 2.132812 0.0820312 1.875 0 C 1.625 -0.09375 1.414062 -0.226562 1.25 -0.40625 C 1.09375 -0.59375 0.972656 -0.828125 0.890625 -1.109375 C 0.816406 -1.390625 0.78125 -1.722656 0.78125 -2.109375 L 0.78125 -6.34375 Z M 1.84375 -6.34375 \"/>\n",
       "</g>\n",
       "<g id=\"glyph-3-12\">\n",
       "<path d=\"M 4.828125 0 L 4.828125 -4.015625 C 4.828125 -4.328125 4.804688 -4.585938 4.765625 -4.796875 C 4.722656 -5.003906 4.648438 -5.171875 4.546875 -5.296875 C 4.441406 -5.421875 4.304688 -5.507812 4.140625 -5.5625 C 3.972656 -5.613281 3.769531 -5.640625 3.53125 -5.640625 C 3.28125 -5.640625 3.050781 -5.59375 2.84375 -5.5 C 2.644531 -5.414062 2.472656 -5.289062 2.328125 -5.125 C 2.191406 -4.957031 2.082031 -4.753906 2 -4.515625 C 1.925781 -4.273438 1.890625 -3.992188 1.890625 -3.671875 L 1.890625 0 L 0.828125 0 L 0.828125 -4.984375 C 0.828125 -5.117188 0.828125 -5.257812 0.828125 -5.40625 C 0.828125 -5.550781 0.820312 -5.6875 0.8125 -5.8125 C 0.8125 -5.945312 0.804688 -6.0625 0.796875 -6.15625 C 0.796875 -6.25 0.796875 -6.3125 0.796875 -6.34375 L 1.796875 -6.34375 C 1.796875 -6.320312 1.796875 -6.265625 1.796875 -6.171875 C 1.804688 -6.085938 1.8125 -5.988281 1.8125 -5.875 C 1.820312 -5.769531 1.828125 -5.660156 1.828125 -5.546875 C 1.835938 -5.429688 1.84375 -5.332031 1.84375 -5.25 L 1.859375 -5.25 C 1.960938 -5.4375 2.070312 -5.601562 2.1875 -5.75 C 2.3125 -5.90625 2.453125 -6.03125 2.609375 -6.125 C 2.773438 -6.226562 2.957031 -6.304688 3.15625 -6.359375 C 3.363281 -6.421875 3.609375 -6.453125 3.890625 -6.453125 C 4.234375 -6.453125 4.53125 -6.410156 4.78125 -6.328125 C 5.039062 -6.242188 5.253906 -6.109375 5.421875 -5.921875 C 5.585938 -5.742188 5.707031 -5.515625 5.78125 -5.234375 C 5.851562 -4.953125 5.890625 -4.613281 5.890625 -4.21875 L 5.890625 0 Z M 4.828125 0 \"/>\n",
       "</g>\n",
       "<g id=\"glyph-3-13\">\n",
       "<path d=\"M 2.109375 -5.578125 L 2.109375 0 L 1.0625 0 L 1.0625 -5.578125 L 0.171875 -5.578125 L 0.171875 -6.34375 L 1.0625 -6.34375 L 1.0625 -7.0625 C 1.0625 -7.289062 1.082031 -7.503906 1.125 -7.703125 C 1.164062 -7.898438 1.242188 -8.070312 1.359375 -8.21875 C 1.472656 -8.363281 1.628906 -8.476562 1.828125 -8.5625 C 2.035156 -8.644531 2.296875 -8.6875 2.609375 -8.6875 C 2.734375 -8.6875 2.863281 -8.679688 3 -8.671875 C 3.132812 -8.660156 3.253906 -8.640625 3.359375 -8.609375 L 3.359375 -7.8125 C 3.285156 -7.820312 3.203125 -7.832031 3.109375 -7.84375 C 3.023438 -7.851562 2.953125 -7.859375 2.890625 -7.859375 C 2.734375 -7.859375 2.601562 -7.835938 2.5 -7.796875 C 2.394531 -7.753906 2.316406 -7.691406 2.265625 -7.609375 C 2.210938 -7.523438 2.171875 -7.425781 2.140625 -7.3125 C 2.117188 -7.195312 2.109375 -7.0625 2.109375 -6.90625 L 2.109375 -6.34375 L 3.359375 -6.34375 L 3.359375 -5.578125 Z M 2.109375 -5.578125 \"/>\n",
       "</g>\n",
       "<g id=\"glyph-3-14\">\n",
       "<path d=\"M 4.5 0 L 4.5 -4.015625 C 4.5 -4.328125 4.476562 -4.585938 4.4375 -4.796875 C 4.40625 -5.003906 4.34375 -5.171875 4.25 -5.296875 C 4.15625 -5.421875 4.03125 -5.507812 3.875 -5.5625 C 3.726562 -5.613281 3.550781 -5.640625 3.34375 -5.640625 C 3.113281 -5.640625 2.910156 -5.59375 2.734375 -5.5 C 2.554688 -5.414062 2.40625 -5.289062 2.28125 -5.125 C 2.15625 -4.957031 2.054688 -4.753906 1.984375 -4.515625 C 1.910156 -4.273438 1.875 -3.992188 1.875 -3.671875 L 1.875 0 L 0.828125 0 L 0.828125 -4.984375 C 0.828125 -5.117188 0.828125 -5.257812 0.828125 -5.40625 C 0.828125 -5.550781 0.820312 -5.6875 0.8125 -5.8125 C 0.8125 -5.945312 0.804688 -6.0625 0.796875 -6.15625 C 0.796875 -6.25 0.796875 -6.3125 0.796875 -6.34375 L 1.796875 -6.34375 C 1.796875 -6.320312 1.796875 -6.265625 1.796875 -6.171875 C 1.804688 -6.085938 1.8125 -5.988281 1.8125 -5.875 C 1.820312 -5.769531 1.828125 -5.660156 1.828125 -5.546875 C 1.835938 -5.429688 1.84375 -5.332031 1.84375 -5.25 L 1.859375 -5.25 C 1.953125 -5.4375 2.050781 -5.601562 2.15625 -5.75 C 2.269531 -5.90625 2.398438 -6.03125 2.546875 -6.125 C 2.691406 -6.226562 2.859375 -6.304688 3.046875 -6.359375 C 3.234375 -6.421875 3.453125 -6.453125 3.703125 -6.453125 C 4.191406 -6.453125 4.570312 -6.359375 4.84375 -6.171875 C 5.125 -5.984375 5.320312 -5.675781 5.4375 -5.25 L 5.453125 -5.25 C 5.546875 -5.4375 5.648438 -5.601562 5.765625 -5.75 C 5.878906 -5.90625 6.015625 -6.03125 6.171875 -6.125 C 6.328125 -6.226562 6.503906 -6.304688 6.703125 -6.359375 C 6.898438 -6.421875 7.125 -6.453125 7.375 -6.453125 C 7.695312 -6.453125 7.972656 -6.410156 8.203125 -6.328125 C 8.429688 -6.242188 8.617188 -6.109375 8.765625 -5.921875 C 8.921875 -5.742188 9.03125 -5.515625 9.09375 -5.234375 C 9.164062 -4.953125 9.203125 -4.613281 9.203125 -4.21875 L 9.203125 0 L 8.15625 0 L 8.15625 -4.015625 C 8.15625 -4.328125 8.132812 -4.585938 8.09375 -4.796875 C 8.0625 -5.003906 8 -5.171875 7.90625 -5.296875 C 7.8125 -5.421875 7.691406 -5.507812 7.546875 -5.5625 C 7.398438 -5.613281 7.21875 -5.640625 7 -5.640625 C 6.78125 -5.640625 6.578125 -5.597656 6.390625 -5.515625 C 6.210938 -5.429688 6.0625 -5.304688 5.9375 -5.140625 C 5.8125 -4.984375 5.710938 -4.78125 5.640625 -4.53125 C 5.578125 -4.28125 5.546875 -3.992188 5.546875 -3.671875 L 5.546875 0 Z M 4.5 0 \"/>\n",
       "</g>\n",
       "<g id=\"glyph-3-15\">\n",
       "<path d=\"M 0.796875 -7.6875 L 0.796875 -8.703125 L 1.859375 -8.703125 L 1.859375 -7.6875 Z M 1.859375 0.78125 C 1.859375 1.03125 1.835938 1.253906 1.796875 1.453125 C 1.753906 1.660156 1.679688 1.84375 1.578125 2 C 1.472656 2.15625 1.328125 2.273438 1.140625 2.359375 C 0.960938 2.441406 0.734375 2.484375 0.453125 2.484375 C 0.316406 2.484375 0.1875 2.476562 0.0625 2.46875 C -0.0625 2.46875 -0.179688 2.457031 -0.296875 2.4375 L -0.296875 1.625 C -0.242188 1.632812 -0.179688 1.640625 -0.109375 1.640625 C -0.0351562 1.648438 0.0234375 1.65625 0.078125 1.65625 C 0.222656 1.65625 0.34375 1.632812 0.4375 1.59375 C 0.53125 1.5625 0.601562 1.503906 0.65625 1.421875 C 0.71875 1.335938 0.753906 1.226562 0.765625 1.09375 C 0.785156 0.957031 0.796875 0.800781 0.796875 0.625 L 0.796875 -6.34375 L 1.859375 -6.34375 Z M 1.859375 0.78125 \"/>\n",
       "</g>\n",
       "<g id=\"glyph-3-16\">\n",
       "<path d=\"M -0.1875 2.390625 L -0.1875 1.625 L 6.8125 1.625 L 6.8125 2.390625 Z M -0.1875 2.390625 \"/>\n",
       "</g>\n",
       "<g id=\"glyph-3-17\">\n",
       "<path d=\"M 4.6875 0 L 2.984375 -2.609375 L 1.265625 0 L 0.140625 0 L 2.390625 -3.265625 L 0.234375 -6.34375 L 1.40625 -6.34375 L 2.984375 -3.875 L 4.5625 -6.34375 L 5.734375 -6.34375 L 3.59375 -3.265625 L 5.875 0 Z M 4.6875 0 \"/>\n",
       "</g>\n",
       "<g id=\"glyph-3-18\">\n",
       "<path d=\"M 0.8125 0 L 0.8125 -8.703125 L 1.859375 -8.703125 L 1.859375 0 Z M 0.8125 0 \"/>\n",
       "</g>\n",
       "<g id=\"glyph-3-19\">\n",
       "<path d=\"M 1.625 -2.953125 C 1.625 -2.617188 1.65625 -2.3125 1.71875 -2.03125 C 1.789062 -1.75 1.894531 -1.507812 2.03125 -1.3125 C 2.175781 -1.113281 2.359375 -0.957031 2.578125 -0.84375 C 2.804688 -0.726562 3.078125 -0.671875 3.390625 -0.671875 C 3.847656 -0.671875 4.210938 -0.757812 4.484375 -0.9375 C 4.765625 -1.125 4.953125 -1.359375 5.046875 -1.640625 L 5.96875 -1.390625 C 5.90625 -1.210938 5.8125 -1.035156 5.6875 -0.859375 C 5.570312 -0.679688 5.414062 -0.519531 5.21875 -0.375 C 5.019531 -0.226562 4.769531 -0.109375 4.46875 -0.015625 C 4.164062 0.078125 3.804688 0.125 3.390625 0.125 C 2.453125 0.125 1.738281 -0.15625 1.25 -0.71875 C 0.757812 -1.28125 0.515625 -2.113281 0.515625 -3.21875 C 0.515625 -3.8125 0.585938 -4.3125 0.734375 -4.71875 C 0.878906 -5.132812 1.082031 -5.46875 1.34375 -5.71875 C 1.601562 -5.976562 1.90625 -6.164062 2.25 -6.28125 C 2.59375 -6.394531 2.957031 -6.453125 3.34375 -6.453125 C 3.875 -6.453125 4.316406 -6.363281 4.671875 -6.1875 C 5.035156 -6.019531 5.320312 -5.785156 5.53125 -5.484375 C 5.75 -5.179688 5.90625 -4.820312 6 -4.40625 C 6.09375 -4 6.140625 -3.5625 6.140625 -3.09375 L 6.140625 -2.953125 Z M 5.046875 -3.75 C 4.992188 -4.425781 4.828125 -4.914062 4.546875 -5.21875 C 4.265625 -5.519531 3.859375 -5.671875 3.328125 -5.671875 C 3.148438 -5.671875 2.960938 -5.644531 2.765625 -5.59375 C 2.578125 -5.539062 2.398438 -5.441406 2.234375 -5.296875 C 2.078125 -5.148438 1.941406 -4.953125 1.828125 -4.703125 C 1.710938 -4.453125 1.644531 -4.132812 1.625 -3.75 Z M 5.046875 -3.75 \"/>\n",
       "</g>\n",
       "<g id=\"glyph-3-20\">\n",
       "<path d=\"M 3.21875 2.484375 C 2.851562 2.484375 2.53125 2.445312 2.25 2.375 C 1.96875 2.300781 1.722656 2.195312 1.515625 2.0625 C 1.316406 1.925781 1.15625 1.757812 1.03125 1.5625 C 0.90625 1.375 0.816406 1.160156 0.765625 0.921875 L 1.828125 0.78125 C 1.898438 1.070312 2.054688 1.296875 2.296875 1.453125 C 2.535156 1.609375 2.847656 1.6875 3.234375 1.6875 C 3.472656 1.6875 3.691406 1.648438 3.890625 1.578125 C 4.085938 1.515625 4.253906 1.410156 4.390625 1.265625 C 4.523438 1.117188 4.628906 0.925781 4.703125 0.6875 C 4.773438 0.457031 4.8125 0.175781 4.8125 -0.15625 L 4.8125 -1.171875 C 4.726562 -1.015625 4.628906 -0.863281 4.515625 -0.71875 C 4.398438 -0.570312 4.257812 -0.441406 4.09375 -0.328125 C 3.925781 -0.210938 3.734375 -0.117188 3.515625 -0.046875 C 3.296875 0.015625 3.046875 0.046875 2.765625 0.046875 C 2.359375 0.046875 2.007812 -0.0195312 1.71875 -0.15625 C 1.4375 -0.289062 1.203125 -0.492188 1.015625 -0.765625 C 0.835938 -1.035156 0.707031 -1.367188 0.625 -1.765625 C 0.539062 -2.171875 0.5 -2.632812 0.5 -3.15625 C 0.5 -3.664062 0.539062 -4.125 0.625 -4.53125 C 0.707031 -4.9375 0.84375 -5.28125 1.03125 -5.5625 C 1.226562 -5.84375 1.476562 -6.054688 1.78125 -6.203125 C 2.082031 -6.359375 2.453125 -6.4375 2.890625 -6.4375 C 3.335938 -6.4375 3.722656 -6.332031 4.046875 -6.125 C 4.378906 -5.925781 4.632812 -5.632812 4.8125 -5.25 L 4.828125 -5.25 C 4.828125 -5.351562 4.828125 -5.460938 4.828125 -5.578125 C 4.835938 -5.703125 4.84375 -5.816406 4.84375 -5.921875 C 4.851562 -6.035156 4.863281 -6.128906 4.875 -6.203125 C 4.882812 -6.285156 4.894531 -6.332031 4.90625 -6.34375 L 5.90625 -6.34375 C 5.894531 -6.300781 5.890625 -6.238281 5.890625 -6.15625 C 5.890625 -6.070312 5.882812 -5.972656 5.875 -5.859375 C 5.875 -5.742188 5.867188 -5.613281 5.859375 -5.46875 C 5.859375 -5.320312 5.859375 -5.175781 5.859375 -5.03125 L 5.859375 -0.1875 C 5.859375 0.707031 5.640625 1.375 5.203125 1.8125 C 4.773438 2.257812 4.113281 2.484375 3.21875 2.484375 Z M 4.8125 -3.171875 C 4.8125 -3.609375 4.765625 -3.984375 4.671875 -4.296875 C 4.578125 -4.617188 4.453125 -4.878906 4.296875 -5.078125 C 4.140625 -5.273438 3.957031 -5.421875 3.75 -5.515625 C 3.550781 -5.609375 3.347656 -5.65625 3.140625 -5.65625 C 2.867188 -5.65625 2.632812 -5.609375 2.4375 -5.515625 C 2.25 -5.421875 2.09375 -5.269531 1.96875 -5.0625 C 1.84375 -4.863281 1.75 -4.609375 1.6875 -4.296875 C 1.625 -3.984375 1.59375 -3.609375 1.59375 -3.171875 C 1.59375 -2.710938 1.625 -2.328125 1.6875 -2.015625 C 1.75 -1.703125 1.84375 -1.453125 1.96875 -1.265625 C 2.09375 -1.078125 2.25 -0.941406 2.4375 -0.859375 C 2.625 -0.773438 2.851562 -0.734375 3.125 -0.734375 C 3.332031 -0.734375 3.535156 -0.773438 3.734375 -0.859375 C 3.941406 -0.953125 4.125 -1.097656 4.28125 -1.296875 C 4.445312 -1.492188 4.578125 -1.742188 4.671875 -2.046875 C 4.765625 -2.359375 4.8125 -2.734375 4.8125 -3.171875 Z M 4.8125 -3.171875 \"/>\n",
       "</g>\n",
       "<g id=\"glyph-3-21\">\n",
       "<path d=\"M 1.859375 -5.25 C 1.972656 -5.46875 2.097656 -5.648438 2.234375 -5.796875 C 2.367188 -5.953125 2.519531 -6.078125 2.6875 -6.171875 C 2.851562 -6.273438 3.03125 -6.347656 3.21875 -6.390625 C 3.414062 -6.429688 3.640625 -6.453125 3.890625 -6.453125 C 4.296875 -6.453125 4.628906 -6.394531 4.890625 -6.28125 C 5.148438 -6.175781 5.351562 -6.023438 5.5 -5.828125 C 5.644531 -5.628906 5.742188 -5.394531 5.796875 -5.125 C 5.859375 -4.851562 5.890625 -4.550781 5.890625 -4.21875 L 5.890625 0 L 4.828125 0 L 4.828125 -4.015625 C 4.828125 -4.285156 4.8125 -4.519531 4.78125 -4.71875 C 4.75 -4.925781 4.6875 -5.097656 4.59375 -5.234375 C 4.5 -5.367188 4.363281 -5.46875 4.1875 -5.53125 C 4.019531 -5.601562 3.800781 -5.640625 3.53125 -5.640625 C 3.28125 -5.640625 3.050781 -5.59375 2.84375 -5.5 C 2.644531 -5.414062 2.472656 -5.289062 2.328125 -5.125 C 2.191406 -4.957031 2.082031 -4.753906 2 -4.515625 C 1.925781 -4.285156 1.890625 -4.023438 1.890625 -3.734375 L 1.890625 0 L 0.828125 0 L 0.828125 -8.703125 L 1.890625 -8.703125 L 1.890625 -6.4375 C 1.890625 -6.300781 1.882812 -6.171875 1.875 -6.046875 C 1.875 -5.921875 1.867188 -5.800781 1.859375 -5.6875 C 1.859375 -5.582031 1.851562 -5.488281 1.84375 -5.40625 C 1.84375 -5.332031 1.84375 -5.28125 1.84375 -5.25 Z M 1.859375 -5.25 \"/>\n",
       "</g>\n",
       "<g id=\"glyph-3-22\">\n",
       "<path d=\"M 8 0 L 8 -5.515625 C 8 -5.710938 8 -5.910156 8 -6.109375 C 8.007812 -6.316406 8.019531 -6.507812 8.03125 -6.6875 C 8.039062 -6.882812 8.050781 -7.078125 8.0625 -7.265625 C 8 -7.066406 7.941406 -6.867188 7.890625 -6.671875 C 7.835938 -6.503906 7.78125 -6.328125 7.71875 -6.140625 C 7.65625 -5.953125 7.597656 -5.78125 7.546875 -5.625 L 5.40625 0 L 4.625 0 L 2.46875 -5.625 C 2.4375 -5.6875 2.40625 -5.753906 2.375 -5.828125 C 2.351562 -5.910156 2.328125 -5.992188 2.296875 -6.078125 C 2.273438 -6.171875 2.25 -6.257812 2.21875 -6.34375 C 2.1875 -6.4375 2.160156 -6.53125 2.140625 -6.625 C 2.066406 -6.832031 2 -7.046875 1.9375 -7.265625 C 1.945312 -7.046875 1.953125 -6.828125 1.953125 -6.609375 C 1.960938 -6.429688 1.96875 -6.238281 1.96875 -6.03125 C 1.976562 -5.832031 1.984375 -5.660156 1.984375 -5.515625 L 1.984375 0 L 0.984375 0 L 0.984375 -8.25 L 2.453125 -8.25 L 4.65625 -2.53125 C 4.675781 -2.457031 4.707031 -2.359375 4.75 -2.234375 C 4.789062 -2.109375 4.828125 -1.976562 4.859375 -1.84375 C 4.898438 -1.71875 4.929688 -1.597656 4.953125 -1.484375 C 4.984375 -1.367188 5.003906 -1.28125 5.015625 -1.21875 C 5.035156 -1.28125 5.0625 -1.367188 5.09375 -1.484375 C 5.125 -1.609375 5.15625 -1.734375 5.1875 -1.859375 C 5.226562 -1.984375 5.269531 -2.109375 5.3125 -2.234375 C 5.351562 -2.359375 5.390625 -2.457031 5.421875 -2.53125 L 7.578125 -8.25 L 9.015625 -8.25 L 9.015625 0 Z M 8 0 \"/>\n",
       "</g>\n",
       "<g id=\"glyph-3-23\">\n",
       "<path d=\"M 0.75 -3.125 C 0.75 -3.664062 0.785156 -4.179688 0.859375 -4.671875 C 0.941406 -5.171875 1.070312 -5.648438 1.25 -6.109375 C 1.425781 -6.566406 1.648438 -7.007812 1.921875 -7.4375 C 2.203125 -7.863281 2.53125 -8.285156 2.90625 -8.703125 L 3.921875 -8.703125 C 3.554688 -8.285156 3.238281 -7.859375 2.96875 -7.421875 C 2.707031 -6.992188 2.488281 -6.550781 2.3125 -6.09375 C 2.144531 -5.632812 2.019531 -5.15625 1.9375 -4.65625 C 1.851562 -4.164062 1.8125 -3.648438 1.8125 -3.109375 C 1.8125 -2.566406 1.851562 -2.046875 1.9375 -1.546875 C 2.019531 -1.046875 2.144531 -0.566406 2.3125 -0.109375 C 2.488281 0.347656 2.707031 0.789062 2.96875 1.21875 C 3.238281 1.65625 3.554688 2.078125 3.921875 2.484375 L 2.90625 2.484375 C 2.53125 2.078125 2.203125 1.65625 1.921875 1.21875 C 1.648438 0.789062 1.425781 0.347656 1.25 -0.109375 C 1.070312 -0.566406 0.941406 -1.039062 0.859375 -1.53125 C 0.785156 -2.03125 0.75 -2.550781 0.75 -3.09375 Z M 0.75 -3.125 \"/>\n",
       "</g>\n",
       "<g id=\"glyph-3-24\">\n",
       "<path d=\"M 6.828125 0 L 4.671875 -3.421875 L 2.109375 -3.421875 L 2.109375 0 L 0.984375 0 L 0.984375 -8.25 L 4.875 -8.25 C 5.34375 -8.25 5.753906 -8.195312 6.109375 -8.09375 C 6.472656 -7.988281 6.773438 -7.832031 7.015625 -7.625 C 7.265625 -7.425781 7.453125 -7.179688 7.578125 -6.890625 C 7.710938 -6.597656 7.78125 -6.265625 7.78125 -5.890625 C 7.78125 -5.628906 7.738281 -5.367188 7.65625 -5.109375 C 7.582031 -4.859375 7.460938 -4.628906 7.296875 -4.421875 C 7.140625 -4.210938 6.929688 -4.03125 6.671875 -3.875 C 6.421875 -3.726562 6.117188 -3.625 5.765625 -3.5625 L 8.109375 0 Z M 6.65625 -5.890625 C 6.65625 -6.140625 6.613281 -6.351562 6.53125 -6.53125 C 6.445312 -6.71875 6.320312 -6.867188 6.15625 -6.984375 C 5.988281 -7.109375 5.785156 -7.203125 5.546875 -7.265625 C 5.316406 -7.328125 5.054688 -7.359375 4.765625 -7.359375 L 2.109375 -7.359375 L 2.109375 -4.3125 L 4.8125 -4.3125 C 5.125 -4.3125 5.394531 -4.347656 5.625 -4.421875 C 5.863281 -4.503906 6.054688 -4.613281 6.203125 -4.75 C 6.359375 -4.894531 6.472656 -5.0625 6.546875 -5.25 C 6.617188 -5.445312 6.65625 -5.660156 6.65625 -5.890625 Z M 6.65625 -5.890625 \"/>\n",
       "</g>\n",
       "<g id=\"glyph-3-25\">\n",
       "<path d=\"M 1.609375 -3.203125 C 1.609375 -2.835938 1.632812 -2.5 1.6875 -2.1875 C 1.738281 -1.882812 1.828125 -1.625 1.953125 -1.40625 C 2.078125 -1.1875 2.242188 -1.015625 2.453125 -0.890625 C 2.660156 -0.773438 2.914062 -0.71875 3.21875 -0.71875 C 3.59375 -0.71875 3.90625 -0.816406 4.15625 -1.015625 C 4.40625 -1.222656 4.5625 -1.535156 4.625 -1.953125 L 5.6875 -1.890625 C 5.644531 -1.628906 5.566406 -1.375 5.453125 -1.125 C 5.335938 -0.882812 5.175781 -0.671875 4.96875 -0.484375 C 4.769531 -0.304688 4.523438 -0.160156 4.234375 -0.046875 C 3.953125 0.0664062 3.617188 0.125 3.234375 0.125 C 2.742188 0.125 2.320312 0.0390625 1.96875 -0.125 C 1.625 -0.300781 1.34375 -0.535156 1.125 -0.828125 C 0.90625 -1.117188 0.75 -1.460938 0.65625 -1.859375 C 0.5625 -2.265625 0.515625 -2.703125 0.515625 -3.171875 C 0.515625 -3.597656 0.546875 -3.972656 0.609375 -4.296875 C 0.679688 -4.628906 0.78125 -4.914062 0.90625 -5.15625 C 1.039062 -5.40625 1.191406 -5.613281 1.359375 -5.78125 C 1.535156 -5.945312 1.722656 -6.078125 1.921875 -6.171875 C 2.117188 -6.273438 2.328125 -6.347656 2.546875 -6.390625 C 2.773438 -6.429688 3.003906 -6.453125 3.234375 -6.453125 C 3.585938 -6.453125 3.898438 -6.40625 4.171875 -6.3125 C 4.453125 -6.21875 4.691406 -6.082031 4.890625 -5.90625 C 5.097656 -5.738281 5.265625 -5.539062 5.390625 -5.3125 C 5.515625 -5.082031 5.601562 -4.832031 5.65625 -4.5625 L 4.5625 -4.484375 C 4.507812 -4.835938 4.367188 -5.113281 4.140625 -5.3125 C 3.921875 -5.519531 3.609375 -5.625 3.203125 -5.625 C 2.898438 -5.625 2.644531 -5.570312 2.4375 -5.46875 C 2.238281 -5.375 2.078125 -5.226562 1.953125 -5.03125 C 1.828125 -4.832031 1.738281 -4.578125 1.6875 -4.265625 C 1.632812 -3.960938 1.609375 -3.609375 1.609375 -3.203125 Z M 1.609375 -3.203125 \"/>\n",
       "</g>\n",
       "<g id=\"glyph-3-26\">\n",
       "<path d=\"M 4.640625 -7.46875 C 4.171875 -7.46875 3.753906 -7.390625 3.390625 -7.234375 C 3.035156 -7.078125 2.734375 -6.851562 2.484375 -6.5625 C 2.242188 -6.269531 2.0625 -5.921875 1.9375 -5.515625 C 1.8125 -5.109375 1.75 -4.660156 1.75 -4.171875 C 1.75 -3.671875 1.816406 -3.210938 1.953125 -2.796875 C 2.085938 -2.390625 2.28125 -2.035156 2.53125 -1.734375 C 2.78125 -1.441406 3.085938 -1.210938 3.453125 -1.046875 C 3.816406 -0.878906 4.226562 -0.796875 4.6875 -0.796875 C 5.007812 -0.796875 5.300781 -0.835938 5.5625 -0.921875 C 5.820312 -1.015625 6.054688 -1.132812 6.265625 -1.28125 C 6.484375 -1.4375 6.675781 -1.617188 6.84375 -1.828125 C 7.019531 -2.035156 7.171875 -2.265625 7.296875 -2.515625 L 8.203125 -2.0625 C 8.054688 -1.75 7.875 -1.457031 7.65625 -1.1875 C 7.4375 -0.925781 7.179688 -0.695312 6.890625 -0.5 C 6.597656 -0.3125 6.265625 -0.160156 5.890625 -0.046875 C 5.515625 0.0664062 5.097656 0.125 4.640625 0.125 C 3.972656 0.125 3.382812 0.0195312 2.875 -0.1875 C 2.375 -0.40625 1.953125 -0.707031 1.609375 -1.09375 C 1.273438 -1.476562 1.023438 -1.929688 0.859375 -2.453125 C 0.691406 -2.972656 0.609375 -3.546875 0.609375 -4.171875 C 0.609375 -4.816406 0.695312 -5.394531 0.875 -5.90625 C 1.050781 -6.425781 1.3125 -6.867188 1.65625 -7.234375 C 2 -7.597656 2.421875 -7.878906 2.921875 -8.078125 C 3.421875 -8.273438 3.988281 -8.375 4.625 -8.375 C 5.507812 -8.375 6.242188 -8.203125 6.828125 -7.859375 C 7.421875 -7.515625 7.859375 -7.003906 8.140625 -6.328125 L 7.078125 -5.984375 C 6.992188 -6.179688 6.882812 -6.367188 6.75 -6.546875 C 6.625 -6.722656 6.457031 -6.878906 6.25 -7.015625 C 6.050781 -7.148438 5.816406 -7.257812 5.546875 -7.34375 C 5.285156 -7.425781 4.984375 -7.46875 4.640625 -7.46875 Z M 4.640625 -7.46875 \"/>\n",
       "</g>\n",
       "<g id=\"glyph-3-27\">\n",
       "<path d=\"M 3.25 -3.09375 C 3.25 -2.550781 3.207031 -2.03125 3.125 -1.53125 C 3.039062 -1.039062 2.910156 -0.566406 2.734375 -0.109375 C 2.566406 0.347656 2.34375 0.789062 2.0625 1.21875 C 1.789062 1.65625 1.46875 2.078125 1.09375 2.484375 L 0.078125 2.484375 C 0.441406 2.078125 0.753906 1.65625 1.015625 1.21875 C 1.285156 0.789062 1.503906 0.347656 1.671875 -0.109375 C 1.847656 -0.566406 1.976562 -1.046875 2.0625 -1.546875 C 2.144531 -2.046875 2.1875 -2.566406 2.1875 -3.109375 C 2.1875 -3.648438 2.144531 -4.164062 2.0625 -4.65625 C 1.976562 -5.15625 1.847656 -5.632812 1.671875 -6.09375 C 1.503906 -6.550781 1.285156 -6.992188 1.015625 -7.421875 C 0.753906 -7.859375 0.441406 -8.285156 0.078125 -8.703125 L 1.09375 -8.703125 C 1.46875 -8.285156 1.789062 -7.863281 2.0625 -7.4375 C 2.34375 -7.007812 2.566406 -6.566406 2.734375 -6.109375 C 2.910156 -5.648438 3.039062 -5.171875 3.125 -4.671875 C 3.207031 -4.179688 3.25 -3.664062 3.25 -3.125 Z M 3.25 -3.09375 \"/>\n",
       "</g>\n",
       "</g>\n",
       "<clipPath id=\"clip-0\">\n",
       "<path clip-rule=\"nonzero\" d=\"M 34.152344 22.957031 L 714.523438 22.957031 L 714.523438 304.566406 L 34.152344 304.566406 Z M 34.152344 22.957031 \"/>\n",
       "</clipPath>\n",
       "<clipPath id=\"clip-1\">\n",
       "<path clip-rule=\"nonzero\" d=\"M 34.152344 243 L 714.523438 243 L 714.523438 245 L 34.152344 245 Z M 34.152344 243 \"/>\n",
       "</clipPath>\n",
       "<clipPath id=\"clip-2\">\n",
       "<path clip-rule=\"nonzero\" d=\"M 34.152344 147 L 714.523438 147 L 714.523438 149 L 34.152344 149 Z M 34.152344 147 \"/>\n",
       "</clipPath>\n",
       "<clipPath id=\"clip-3\">\n",
       "<path clip-rule=\"nonzero\" d=\"M 34.152344 51 L 714.523438 51 L 714.523438 53 L 34.152344 53 Z M 34.152344 51 \"/>\n",
       "</clipPath>\n",
       "<clipPath id=\"clip-4\">\n",
       "<path clip-rule=\"nonzero\" d=\"M 153 22.957031 L 155 22.957031 L 155 304.566406 L 153 304.566406 Z M 153 22.957031 \"/>\n",
       "</clipPath>\n",
       "<clipPath id=\"clip-5\">\n",
       "<path clip-rule=\"nonzero\" d=\"M 288 22.957031 L 289 22.957031 L 289 304.566406 L 288 304.566406 Z M 288 22.957031 \"/>\n",
       "</clipPath>\n",
       "<clipPath id=\"clip-6\">\n",
       "<path clip-rule=\"nonzero\" d=\"M 423 22.957031 L 424 22.957031 L 424 304.566406 L 423 304.566406 Z M 423 22.957031 \"/>\n",
       "</clipPath>\n",
       "<clipPath id=\"clip-7\">\n",
       "<path clip-rule=\"nonzero\" d=\"M 557 22.957031 L 559 22.957031 L 559 304.566406 L 557 304.566406 Z M 557 22.957031 \"/>\n",
       "</clipPath>\n",
       "<clipPath id=\"clip-8\">\n",
       "<path clip-rule=\"nonzero\" d=\"M 692 22.957031 L 694 22.957031 L 694 304.566406 L 692 304.566406 Z M 692 22.957031 \"/>\n",
       "</clipPath>\n",
       "<clipPath id=\"clip-9\">\n",
       "<path clip-rule=\"nonzero\" d=\"M 34.152344 291 L 714.523438 291 L 714.523438 293 L 34.152344 293 Z M 34.152344 291 \"/>\n",
       "</clipPath>\n",
       "<clipPath id=\"clip-10\">\n",
       "<path clip-rule=\"nonzero\" d=\"M 34.152344 195 L 714.523438 195 L 714.523438 197 L 34.152344 197 Z M 34.152344 195 \"/>\n",
       "</clipPath>\n",
       "<clipPath id=\"clip-11\">\n",
       "<path clip-rule=\"nonzero\" d=\"M 34.152344 99 L 714.523438 99 L 714.523438 101 L 34.152344 101 Z M 34.152344 99 \"/>\n",
       "</clipPath>\n",
       "<clipPath id=\"clip-12\">\n",
       "<path clip-rule=\"nonzero\" d=\"M 85 22.957031 L 88 22.957031 L 88 304.566406 L 85 304.566406 Z M 85 22.957031 \"/>\n",
       "</clipPath>\n",
       "<clipPath id=\"clip-13\">\n",
       "<path clip-rule=\"nonzero\" d=\"M 220 22.957031 L 222 22.957031 L 222 304.566406 L 220 304.566406 Z M 220 22.957031 \"/>\n",
       "</clipPath>\n",
       "<clipPath id=\"clip-14\">\n",
       "<path clip-rule=\"nonzero\" d=\"M 355 22.957031 L 357 22.957031 L 357 304.566406 L 355 304.566406 Z M 355 22.957031 \"/>\n",
       "</clipPath>\n",
       "<clipPath id=\"clip-15\">\n",
       "<path clip-rule=\"nonzero\" d=\"M 490 22.957031 L 492 22.957031 L 492 304.566406 L 490 304.566406 Z M 490 22.957031 \"/>\n",
       "</clipPath>\n",
       "<clipPath id=\"clip-16\">\n",
       "<path clip-rule=\"nonzero\" d=\"M 624 22.957031 L 627 22.957031 L 627 304.566406 L 624 304.566406 Z M 624 22.957031 \"/>\n",
       "</clipPath>\n",
       "<clipPath id=\"clip-17\">\n",
       "<path clip-rule=\"nonzero\" d=\"M 228 22.957031 L 585 22.957031 L 585 292 L 228 292 Z M 228 22.957031 \"/>\n",
       "</clipPath>\n",
       "<clipPath id=\"clip-18\">\n",
       "<path clip-rule=\"nonzero\" d=\"M 226 22.957031 L 231 22.957031 L 231 294 L 226 294 Z M 226 22.957031 \"/>\n",
       "</clipPath>\n",
       "<clipPath id=\"clip-19\">\n",
       "<path clip-rule=\"nonzero\" d=\"M 581 22.957031 L 587 22.957031 L 587 294 L 581 294 Z M 581 22.957031 \"/>\n",
       "</clipPath>\n",
       "</defs>\n",
       "<rect x=\"-72\" y=\"-36\" width=\"864\" height=\"432\" fill=\"rgb(100%, 100%, 100%)\" fill-opacity=\"1\"/>\n",
       "<rect x=\"-72\" y=\"-36\" width=\"864\" height=\"432\" fill=\"rgb(100%, 100%, 100%)\" fill-opacity=\"1\"/>\n",
       "<path fill=\"none\" stroke-width=\"1.066978\" stroke-linecap=\"round\" stroke-linejoin=\"round\" stroke=\"rgb(100%, 100%, 100%)\" stroke-opacity=\"1\" stroke-miterlimit=\"10\" d=\"M 0 360 L 720 360 L 720 0 L 0 0 Z M 0 360 \"/>\n",
       "<g clip-path=\"url(#clip-0)\">\n",
       "<path fill-rule=\"nonzero\" fill=\"rgb(92.156863%, 92.156863%, 92.156863%)\" fill-opacity=\"1\" d=\"M 34.152344 304.570312 L 714.523438 304.570312 L 714.523438 22.960938 L 34.152344 22.960938 Z M 34.152344 304.570312 \"/>\n",
       "</g>\n",
       "<g clip-path=\"url(#clip-1)\">\n",
       "<path fill=\"none\" stroke-width=\"0.533489\" stroke-linecap=\"butt\" stroke-linejoin=\"round\" stroke=\"rgb(100%, 100%, 100%)\" stroke-opacity=\"1\" stroke-miterlimit=\"10\" d=\"M 34.152344 243.828125 L 714.519531 243.828125 \"/>\n",
       "</g>\n",
       "<g clip-path=\"url(#clip-2)\">\n",
       "<path fill=\"none\" stroke-width=\"0.533489\" stroke-linecap=\"butt\" stroke-linejoin=\"round\" stroke=\"rgb(100%, 100%, 100%)\" stroke-opacity=\"1\" stroke-miterlimit=\"10\" d=\"M 34.152344 147.945312 L 714.519531 147.945312 \"/>\n",
       "</g>\n",
       "<g clip-path=\"url(#clip-3)\">\n",
       "<path fill=\"none\" stroke-width=\"0.533489\" stroke-linecap=\"butt\" stroke-linejoin=\"round\" stroke=\"rgb(100%, 100%, 100%)\" stroke-opacity=\"1\" stroke-miterlimit=\"10\" d=\"M 34.152344 52.058594 L 714.519531 52.058594 \"/>\n",
       "</g>\n",
       "<g clip-path=\"url(#clip-4)\">\n",
       "<path fill=\"none\" stroke-width=\"0.533489\" stroke-linecap=\"butt\" stroke-linejoin=\"round\" stroke=\"rgb(100%, 100%, 100%)\" stroke-opacity=\"1\" stroke-miterlimit=\"10\" d=\"M 153.863281 304.570312 L 153.863281 22.957031 \"/>\n",
       "</g>\n",
       "<g clip-path=\"url(#clip-5)\">\n",
       "<path fill=\"none\" stroke-width=\"0.533489\" stroke-linecap=\"butt\" stroke-linejoin=\"round\" stroke=\"rgb(100%, 100%, 100%)\" stroke-opacity=\"1\" stroke-miterlimit=\"10\" d=\"M 288.625 304.570312 L 288.625 22.957031 \"/>\n",
       "</g>\n",
       "<g clip-path=\"url(#clip-6)\">\n",
       "<path fill=\"none\" stroke-width=\"0.533489\" stroke-linecap=\"butt\" stroke-linejoin=\"round\" stroke=\"rgb(100%, 100%, 100%)\" stroke-opacity=\"1\" stroke-miterlimit=\"10\" d=\"M 423.386719 304.570312 L 423.386719 22.957031 \"/>\n",
       "</g>\n",
       "<g clip-path=\"url(#clip-7)\">\n",
       "<path fill=\"none\" stroke-width=\"0.533489\" stroke-linecap=\"butt\" stroke-linejoin=\"round\" stroke=\"rgb(100%, 100%, 100%)\" stroke-opacity=\"1\" stroke-miterlimit=\"10\" d=\"M 558.148438 304.570312 L 558.148438 22.957031 \"/>\n",
       "</g>\n",
       "<g clip-path=\"url(#clip-8)\">\n",
       "<path fill=\"none\" stroke-width=\"0.533489\" stroke-linecap=\"butt\" stroke-linejoin=\"round\" stroke=\"rgb(100%, 100%, 100%)\" stroke-opacity=\"1\" stroke-miterlimit=\"10\" d=\"M 692.914062 304.570312 L 692.914062 22.957031 \"/>\n",
       "</g>\n",
       "<g clip-path=\"url(#clip-9)\">\n",
       "<path fill=\"none\" stroke-width=\"1.066978\" stroke-linecap=\"butt\" stroke-linejoin=\"round\" stroke=\"rgb(100%, 100%, 100%)\" stroke-opacity=\"1\" stroke-miterlimit=\"10\" d=\"M 34.152344 291.769531 L 714.519531 291.769531 \"/>\n",
       "</g>\n",
       "<g clip-path=\"url(#clip-10)\">\n",
       "<path fill=\"none\" stroke-width=\"1.066978\" stroke-linecap=\"butt\" stroke-linejoin=\"round\" stroke=\"rgb(100%, 100%, 100%)\" stroke-opacity=\"1\" stroke-miterlimit=\"10\" d=\"M 34.152344 195.886719 L 714.519531 195.886719 \"/>\n",
       "</g>\n",
       "<g clip-path=\"url(#clip-11)\">\n",
       "<path fill=\"none\" stroke-width=\"1.066978\" stroke-linecap=\"butt\" stroke-linejoin=\"round\" stroke=\"rgb(100%, 100%, 100%)\" stroke-opacity=\"1\" stroke-miterlimit=\"10\" d=\"M 34.152344 100 L 714.519531 100 \"/>\n",
       "</g>\n",
       "<g clip-path=\"url(#clip-12)\">\n",
       "<path fill=\"none\" stroke-width=\"1.066978\" stroke-linecap=\"butt\" stroke-linejoin=\"round\" stroke=\"rgb(100%, 100%, 100%)\" stroke-opacity=\"1\" stroke-miterlimit=\"10\" d=\"M 86.480469 304.570312 L 86.480469 22.957031 \"/>\n",
       "</g>\n",
       "<g clip-path=\"url(#clip-13)\">\n",
       "<path fill=\"none\" stroke-width=\"1.066978\" stroke-linecap=\"butt\" stroke-linejoin=\"round\" stroke=\"rgb(100%, 100%, 100%)\" stroke-opacity=\"1\" stroke-miterlimit=\"10\" d=\"M 221.242188 304.570312 L 221.242188 22.957031 \"/>\n",
       "</g>\n",
       "<g clip-path=\"url(#clip-14)\">\n",
       "<path fill=\"none\" stroke-width=\"1.066978\" stroke-linecap=\"butt\" stroke-linejoin=\"round\" stroke=\"rgb(100%, 100%, 100%)\" stroke-opacity=\"1\" stroke-miterlimit=\"10\" d=\"M 356.003906 304.570312 L 356.003906 22.957031 \"/>\n",
       "</g>\n",
       "<g clip-path=\"url(#clip-15)\">\n",
       "<path fill=\"none\" stroke-width=\"1.066978\" stroke-linecap=\"butt\" stroke-linejoin=\"round\" stroke=\"rgb(100%, 100%, 100%)\" stroke-opacity=\"1\" stroke-miterlimit=\"10\" d=\"M 490.769531 304.570312 L 490.769531 22.957031 \"/>\n",
       "</g>\n",
       "<g clip-path=\"url(#clip-16)\">\n",
       "<path fill=\"none\" stroke-width=\"1.066978\" stroke-linecap=\"butt\" stroke-linejoin=\"round\" stroke=\"rgb(100%, 100%, 100%)\" stroke-opacity=\"1\" stroke-miterlimit=\"10\" d=\"M 625.53125 304.570312 L 625.53125 22.957031 \"/>\n",
       "</g>\n",
       "<path fill-rule=\"nonzero\" fill=\"rgb(34.901961%, 34.901961%, 34.901961%)\" fill-opacity=\"1\" stroke-width=\"1.066978\" stroke-linecap=\"butt\" stroke-linejoin=\"miter\" stroke=\"rgb(100%, 100%, 100%)\" stroke-opacity=\"1\" stroke-miterlimit=\"10\" d=\"M 65.078125 291.769531 L 106.3125 291.769531 L 106.3125 290.8125 L 65.078125 290.8125 Z M 65.078125 291.769531 \"/>\n",
       "<path fill-rule=\"nonzero\" fill=\"rgb(34.901961%, 34.901961%, 34.901961%)\" fill-opacity=\"1\" stroke-width=\"1.066978\" stroke-linecap=\"butt\" stroke-linejoin=\"miter\" stroke=\"rgb(100%, 100%, 100%)\" stroke-opacity=\"1\" stroke-miterlimit=\"10\" d=\"M 106.3125 291.769531 L 147.546875 291.769531 L 147.546875 286.976562 L 106.3125 286.976562 Z M 106.3125 291.769531 \"/>\n",
       "<path fill-rule=\"nonzero\" fill=\"rgb(34.901961%, 34.901961%, 34.901961%)\" fill-opacity=\"1\" stroke-width=\"1.066978\" stroke-linecap=\"butt\" stroke-linejoin=\"miter\" stroke=\"rgb(100%, 100%, 100%)\" stroke-opacity=\"1\" stroke-miterlimit=\"10\" d=\"M 147.546875 291.769531 L 188.78125 291.769531 L 188.78125 284.097656 L 147.546875 284.097656 Z M 147.546875 291.769531 \"/>\n",
       "<path fill-rule=\"nonzero\" fill=\"rgb(34.901961%, 34.901961%, 34.901961%)\" fill-opacity=\"1\" stroke-width=\"1.066978\" stroke-linecap=\"butt\" stroke-linejoin=\"miter\" stroke=\"rgb(100%, 100%, 100%)\" stroke-opacity=\"1\" stroke-miterlimit=\"10\" d=\"M 188.78125 291.769531 L 230.015625 291.769531 L 230.015625 267.796875 L 188.78125 267.796875 Z M 188.78125 291.769531 \"/>\n",
       "<path fill-rule=\"nonzero\" fill=\"rgb(34.901961%, 34.901961%, 34.901961%)\" fill-opacity=\"1\" stroke-width=\"1.066978\" stroke-linecap=\"butt\" stroke-linejoin=\"miter\" stroke=\"rgb(100%, 100%, 100%)\" stroke-opacity=\"1\" stroke-miterlimit=\"10\" d=\"M 230.015625 291.769531 L 271.25 291.769531 L 271.25 240.949219 L 230.015625 240.949219 Z M 230.015625 291.769531 \"/>\n",
       "<path fill-rule=\"nonzero\" fill=\"rgb(34.901961%, 34.901961%, 34.901961%)\" fill-opacity=\"1\" stroke-width=\"1.066978\" stroke-linecap=\"butt\" stroke-linejoin=\"miter\" stroke=\"rgb(100%, 100%, 100%)\" stroke-opacity=\"1\" stroke-miterlimit=\"10\" d=\"M 271.25 291.769531 L 312.484375 291.769531 L 312.484375 175.75 L 271.25 175.75 Z M 271.25 291.769531 \"/>\n",
       "<path fill-rule=\"nonzero\" fill=\"rgb(34.901961%, 34.901961%, 34.901961%)\" fill-opacity=\"1\" stroke-width=\"1.066978\" stroke-linecap=\"butt\" stroke-linejoin=\"miter\" stroke=\"rgb(100%, 100%, 100%)\" stroke-opacity=\"1\" stroke-miterlimit=\"10\" d=\"M 312.484375 291.769531 L 353.71875 291.769531 L 353.71875 115.34375 L 312.484375 115.34375 Z M 312.484375 291.769531 \"/>\n",
       "<path fill-rule=\"nonzero\" fill=\"rgb(34.901961%, 34.901961%, 34.901961%)\" fill-opacity=\"1\" stroke-width=\"1.066978\" stroke-linecap=\"butt\" stroke-linejoin=\"miter\" stroke=\"rgb(100%, 100%, 100%)\" stroke-opacity=\"1\" stroke-miterlimit=\"10\" d=\"M 353.71875 291.769531 L 394.953125 291.769531 L 394.953125 35.757812 L 353.71875 35.757812 Z M 353.71875 291.769531 \"/>\n",
       "<path fill-rule=\"nonzero\" fill=\"rgb(34.901961%, 34.901961%, 34.901961%)\" fill-opacity=\"1\" stroke-width=\"1.066978\" stroke-linecap=\"butt\" stroke-linejoin=\"miter\" stroke=\"rgb(100%, 100%, 100%)\" stroke-opacity=\"1\" stroke-miterlimit=\"10\" d=\"M 394.953125 291.769531 L 436.1875 291.769531 L 436.1875 35.757812 L 394.953125 35.757812 Z M 394.953125 291.769531 \"/>\n",
       "<path fill-rule=\"nonzero\" fill=\"rgb(34.901961%, 34.901961%, 34.901961%)\" fill-opacity=\"1\" stroke-width=\"1.066978\" stroke-linecap=\"butt\" stroke-linejoin=\"miter\" stroke=\"rgb(100%, 100%, 100%)\" stroke-opacity=\"1\" stroke-miterlimit=\"10\" d=\"M 436.1875 291.769531 L 477.421875 291.769531 L 477.421875 53.976562 L 436.1875 53.976562 Z M 436.1875 291.769531 \"/>\n",
       "<path fill-rule=\"nonzero\" fill=\"rgb(34.901961%, 34.901961%, 34.901961%)\" fill-opacity=\"1\" stroke-width=\"1.066978\" stroke-linecap=\"butt\" stroke-linejoin=\"miter\" stroke=\"rgb(100%, 100%, 100%)\" stroke-opacity=\"1\" stroke-miterlimit=\"10\" d=\"M 477.421875 291.769531 L 518.65625 291.769531 L 518.65625 140.273438 L 477.421875 140.273438 Z M 477.421875 291.769531 \"/>\n",
       "<path fill-rule=\"nonzero\" fill=\"rgb(34.901961%, 34.901961%, 34.901961%)\" fill-opacity=\"1\" stroke-width=\"1.066978\" stroke-linecap=\"butt\" stroke-linejoin=\"miter\" stroke=\"rgb(100%, 100%, 100%)\" stroke-opacity=\"1\" stroke-miterlimit=\"10\" d=\"M 518.65625 291.769531 L 559.890625 291.769531 L 559.890625 204.515625 L 518.65625 204.515625 Z M 518.65625 291.769531 \"/>\n",
       "<path fill-rule=\"nonzero\" fill=\"rgb(34.901961%, 34.901961%, 34.901961%)\" fill-opacity=\"1\" stroke-width=\"1.066978\" stroke-linecap=\"butt\" stroke-linejoin=\"miter\" stroke=\"rgb(100%, 100%, 100%)\" stroke-opacity=\"1\" stroke-miterlimit=\"10\" d=\"M 559.890625 291.769531 L 601.125 291.769531 L 601.125 247.664062 L 559.890625 247.664062 Z M 559.890625 291.769531 \"/>\n",
       "<path fill-rule=\"nonzero\" fill=\"rgb(34.901961%, 34.901961%, 34.901961%)\" fill-opacity=\"1\" stroke-width=\"1.066978\" stroke-linecap=\"butt\" stroke-linejoin=\"miter\" stroke=\"rgb(100%, 100%, 100%)\" stroke-opacity=\"1\" stroke-miterlimit=\"10\" d=\"M 601.125 291.769531 L 642.359375 291.769531 L 642.359375 273.550781 L 601.125 273.550781 Z M 601.125 291.769531 \"/>\n",
       "<path fill-rule=\"nonzero\" fill=\"rgb(34.901961%, 34.901961%, 34.901961%)\" fill-opacity=\"1\" stroke-width=\"1.066978\" stroke-linecap=\"butt\" stroke-linejoin=\"miter\" stroke=\"rgb(100%, 100%, 100%)\" stroke-opacity=\"1\" stroke-miterlimit=\"10\" d=\"M 642.359375 291.769531 L 683.59375 291.769531 L 683.59375 285.058594 L 642.359375 285.058594 Z M 642.359375 291.769531 \"/>\n",
       "<g clip-path=\"url(#clip-17)\">\n",
       "<path fill-rule=\"nonzero\" fill=\"rgb(25.098039%, 87.843137%, 81.568627%)\" fill-opacity=\"0.6\" d=\"M 228.308594 291.769531 L 584.054688 291.769531 L 584.054688 22.960938 L 228.308594 22.960938 Z M 228.308594 291.769531 \"/>\n",
       "</g>\n",
       "<g clip-path=\"url(#clip-18)\">\n",
       "<path fill=\"none\" stroke-width=\"4.267913\" stroke-linecap=\"butt\" stroke-linejoin=\"round\" stroke=\"rgb(40%, 80.392157%, 66.666667%)\" stroke-opacity=\"1\" stroke-miterlimit=\"10\" d=\"M 228.308594 291.769531 L 228.308594 22.957031 \"/>\n",
       "</g>\n",
       "<g clip-path=\"url(#clip-19)\">\n",
       "<path fill=\"none\" stroke-width=\"4.267913\" stroke-linecap=\"butt\" stroke-linejoin=\"round\" stroke=\"rgb(40%, 80.392157%, 66.666667%)\" stroke-opacity=\"1\" stroke-miterlimit=\"10\" d=\"M 584.054688 291.769531 L 584.054688 22.957031 \"/>\n",
       "</g>\n",
       "<g fill=\"rgb(30.196078%, 30.196078%, 30.196078%)\" fill-opacity=\"1\">\n",
       "<use xlink:href=\"#glyph-0-0\" x=\"25.21875\" y=\"294.011719\"/>\n",
       "</g>\n",
       "<g fill=\"rgb(30.196078%, 30.196078%, 30.196078%)\" fill-opacity=\"1\">\n",
       "<use xlink:href=\"#glyph-0-1\" x=\"17.21875\" y=\"198.128906\"/>\n",
       "<use xlink:href=\"#glyph-0-0\" x=\"21.21875\" y=\"198.128906\"/>\n",
       "<use xlink:href=\"#glyph-0-0\" x=\"25.21875\" y=\"198.128906\"/>\n",
       "</g>\n",
       "<g fill=\"rgb(30.196078%, 30.196078%, 30.196078%)\" fill-opacity=\"1\">\n",
       "<use xlink:href=\"#glyph-0-2\" x=\"17.21875\" y=\"102.242188\"/>\n",
       "<use xlink:href=\"#glyph-0-0\" x=\"21.21875\" y=\"102.242188\"/>\n",
       "<use xlink:href=\"#glyph-0-0\" x=\"25.21875\" y=\"102.242188\"/>\n",
       "</g>\n",
       "<path fill=\"none\" stroke-width=\"1.066978\" stroke-linecap=\"butt\" stroke-linejoin=\"round\" stroke=\"rgb(20%, 20%, 20%)\" stroke-opacity=\"1\" stroke-miterlimit=\"10\" d=\"M 31.410156 291.769531 L 34.152344 291.769531 \"/>\n",
       "<path fill=\"none\" stroke-width=\"1.066978\" stroke-linecap=\"butt\" stroke-linejoin=\"round\" stroke=\"rgb(20%, 20%, 20%)\" stroke-opacity=\"1\" stroke-miterlimit=\"10\" d=\"M 31.410156 195.886719 L 34.152344 195.886719 \"/>\n",
       "<path fill=\"none\" stroke-width=\"1.066978\" stroke-linecap=\"butt\" stroke-linejoin=\"round\" stroke=\"rgb(20%, 20%, 20%)\" stroke-opacity=\"1\" stroke-miterlimit=\"10\" d=\"M 31.410156 100 L 34.152344 100 \"/>\n",
       "<path fill=\"none\" stroke-width=\"1.066978\" stroke-linecap=\"butt\" stroke-linejoin=\"round\" stroke=\"rgb(20%, 20%, 20%)\" stroke-opacity=\"1\" stroke-miterlimit=\"10\" d=\"M 86.480469 307.308594 L 86.480469 304.570312 \"/>\n",
       "<path fill=\"none\" stroke-width=\"1.066978\" stroke-linecap=\"butt\" stroke-linejoin=\"round\" stroke=\"rgb(20%, 20%, 20%)\" stroke-opacity=\"1\" stroke-miterlimit=\"10\" d=\"M 221.242188 307.308594 L 221.242188 304.570312 \"/>\n",
       "<path fill=\"none\" stroke-width=\"1.066978\" stroke-linecap=\"butt\" stroke-linejoin=\"round\" stroke=\"rgb(20%, 20%, 20%)\" stroke-opacity=\"1\" stroke-miterlimit=\"10\" d=\"M 356.003906 307.308594 L 356.003906 304.570312 \"/>\n",
       "<path fill=\"none\" stroke-width=\"1.066978\" stroke-linecap=\"butt\" stroke-linejoin=\"round\" stroke=\"rgb(20%, 20%, 20%)\" stroke-opacity=\"1\" stroke-miterlimit=\"10\" d=\"M 490.769531 307.308594 L 490.769531 304.570312 \"/>\n",
       "<path fill=\"none\" stroke-width=\"1.066978\" stroke-linecap=\"butt\" stroke-linejoin=\"round\" stroke=\"rgb(20%, 20%, 20%)\" stroke-opacity=\"1\" stroke-miterlimit=\"10\" d=\"M 625.53125 307.308594 L 625.53125 304.570312 \"/>\n",
       "<g fill=\"rgb(30.196078%, 30.196078%, 30.196078%)\" fill-opacity=\"1\">\n",
       "<use xlink:href=\"#glyph-0-2\" x=\"79.480469\" y=\"314.742188\"/>\n",
       "<use xlink:href=\"#glyph-0-3\" x=\"83.480469\" y=\"314.742188\"/>\n",
       "<use xlink:href=\"#glyph-0-4\" x=\"87.480469\" y=\"314.742188\"/>\n",
       "<use xlink:href=\"#glyph-0-0\" x=\"89.480469\" y=\"314.742188\"/>\n",
       "</g>\n",
       "<g fill=\"rgb(30.196078%, 30.196078%, 30.196078%)\" fill-opacity=\"1\">\n",
       "<use xlink:href=\"#glyph-0-2\" x=\"214.242188\" y=\"314.742188\"/>\n",
       "<use xlink:href=\"#glyph-0-3\" x=\"218.242188\" y=\"314.742188\"/>\n",
       "<use xlink:href=\"#glyph-0-4\" x=\"222.242188\" y=\"314.742188\"/>\n",
       "<use xlink:href=\"#glyph-0-5\" x=\"224.242188\" y=\"314.742188\"/>\n",
       "</g>\n",
       "<g fill=\"rgb(30.196078%, 30.196078%, 30.196078%)\" fill-opacity=\"1\">\n",
       "<use xlink:href=\"#glyph-0-2\" x=\"349.003906\" y=\"314.742188\"/>\n",
       "<use xlink:href=\"#glyph-0-6\" x=\"353.003906\" y=\"314.742188\"/>\n",
       "<use xlink:href=\"#glyph-0-4\" x=\"357.003906\" y=\"314.742188\"/>\n",
       "<use xlink:href=\"#glyph-0-0\" x=\"359.003906\" y=\"314.742188\"/>\n",
       "</g>\n",
       "<g fill=\"rgb(30.196078%, 30.196078%, 30.196078%)\" fill-opacity=\"1\">\n",
       "<use xlink:href=\"#glyph-0-2\" x=\"483.769531\" y=\"314.742188\"/>\n",
       "<use xlink:href=\"#glyph-0-6\" x=\"487.769531\" y=\"314.742188\"/>\n",
       "<use xlink:href=\"#glyph-0-4\" x=\"491.769531\" y=\"314.742188\"/>\n",
       "<use xlink:href=\"#glyph-0-5\" x=\"493.769531\" y=\"314.742188\"/>\n",
       "</g>\n",
       "<g fill=\"rgb(30.196078%, 30.196078%, 30.196078%)\" fill-opacity=\"1\">\n",
       "<use xlink:href=\"#glyph-0-7\" x=\"618.53125\" y=\"314.742188\"/>\n",
       "<use xlink:href=\"#glyph-0-0\" x=\"622.53125\" y=\"314.742188\"/>\n",
       "<use xlink:href=\"#glyph-0-4\" x=\"626.53125\" y=\"314.742188\"/>\n",
       "<use xlink:href=\"#glyph-0-0\" x=\"628.53125\" y=\"314.742188\"/>\n",
       "</g>\n",
       "<g fill=\"rgb(0%, 0%, 0%)\" fill-opacity=\"1\">\n",
       "<use xlink:href=\"#glyph-1-0\" x=\"319.835938\" y=\"326.294922\"/>\n",
       "<use xlink:href=\"#glyph-1-1\" x=\"326.835938\" y=\"326.294922\"/>\n",
       "<use xlink:href=\"#glyph-1-2\" x=\"332.835938\" y=\"326.294922\"/>\n",
       "<use xlink:href=\"#glyph-1-3\" x=\"334.835938\" y=\"326.294922\"/>\n",
       "<use xlink:href=\"#glyph-1-4\" x=\"337.835938\" y=\"326.294922\"/>\n",
       "<use xlink:href=\"#glyph-1-5\" x=\"343.835938\" y=\"326.294922\"/>\n",
       "<use xlink:href=\"#glyph-1-6\" x=\"346.835938\" y=\"326.294922\"/>\n",
       "<use xlink:href=\"#glyph-1-4\" x=\"354.835938\" y=\"326.294922\"/>\n",
       "<use xlink:href=\"#glyph-1-7\" x=\"360.835938\" y=\"326.294922\"/>\n",
       "<use xlink:href=\"#glyph-1-8\" x=\"362.835938\" y=\"326.294922\"/>\n",
       "<use xlink:href=\"#glyph-1-9\" x=\"368.835938\" y=\"326.294922\"/>\n",
       "<use xlink:href=\"#glyph-1-5\" x=\"371.835938\" y=\"326.294922\"/>\n",
       "<use xlink:href=\"#glyph-1-10\" x=\"373.835938\" y=\"326.294922\"/>\n",
       "<use xlink:href=\"#glyph-1-11\" x=\"380.835938\" y=\"326.294922\"/>\n",
       "<use xlink:href=\"#glyph-1-12\" x=\"385.835938\" y=\"326.294922\"/>\n",
       "<use xlink:href=\"#glyph-1-13\" x=\"387.835938\" y=\"326.294922\"/>\n",
       "<use xlink:href=\"#glyph-1-5\" x=\"392.835938\" y=\"326.294922\"/>\n",
       "<use xlink:href=\"#glyph-1-14\" x=\"395.835938\" y=\"326.294922\"/>\n",
       "<use xlink:href=\"#glyph-1-1\" x=\"401.835938\" y=\"326.294922\"/>\n",
       "<use xlink:href=\"#glyph-1-15\" x=\"407.835938\" y=\"326.294922\"/>\n",
       "<use xlink:href=\"#glyph-1-16\" x=\"413.835938\" y=\"326.294922\"/>\n",
       "<use xlink:href=\"#glyph-1-3\" x=\"419.835938\" y=\"326.294922\"/>\n",
       "<use xlink:href=\"#glyph-1-17\" x=\"422.835938\" y=\"326.294922\"/>\n",
       "</g>\n",
       "<g fill=\"rgb(0%, 0%, 0%)\" fill-opacity=\"1\">\n",
       "<use xlink:href=\"#glyph-2-0\" x=\"11.533203\" y=\"176.765625\"/>\n",
       "<use xlink:href=\"#glyph-2-1\" x=\"11.533203\" y=\"171.765625\"/>\n",
       "<use xlink:href=\"#glyph-2-2\" x=\"11.533203\" y=\"165.765625\"/>\n",
       "<use xlink:href=\"#glyph-2-3\" x=\"11.533203\" y=\"159.765625\"/>\n",
       "<use xlink:href=\"#glyph-2-4\" x=\"11.533203\" y=\"153.765625\"/>\n",
       "</g>\n",
       "<g fill=\"rgb(0%, 0%, 0%)\" fill-opacity=\"1\">\n",
       "<use xlink:href=\"#glyph-3-0\" x=\"186.835938\" y=\"14.34375\"/>\n",
       "<use xlink:href=\"#glyph-3-1\" x=\"194.835938\" y=\"14.34375\"/>\n",
       "<use xlink:href=\"#glyph-3-1\" x=\"201.835938\" y=\"14.34375\"/>\n",
       "<use xlink:href=\"#glyph-3-2\" x=\"208.835938\" y=\"14.34375\"/>\n",
       "<use xlink:href=\"#glyph-3-3\" x=\"211.835938\" y=\"14.34375\"/>\n",
       "<use xlink:href=\"#glyph-3-4\" x=\"217.835938\" y=\"14.34375\"/>\n",
       "<use xlink:href=\"#glyph-3-5\" x=\"221.835938\" y=\"14.34375\"/>\n",
       "<use xlink:href=\"#glyph-3-6\" x=\"228.835938\" y=\"14.34375\"/>\n",
       "<use xlink:href=\"#glyph-3-7\" x=\"235.835938\" y=\"14.34375\"/>\n",
       "<use xlink:href=\"#glyph-3-8\" x=\"238.835938\" y=\"14.34375\"/>\n",
       "<use xlink:href=\"#glyph-3-9\" x=\"247.835938\" y=\"14.34375\"/>\n",
       "<use xlink:href=\"#glyph-3-3\" x=\"250.835938\" y=\"14.34375\"/>\n",
       "<use xlink:href=\"#glyph-3-2\" x=\"256.835938\" y=\"14.34375\"/>\n",
       "<use xlink:href=\"#glyph-3-4\" x=\"259.835938\" y=\"14.34375\"/>\n",
       "<use xlink:href=\"#glyph-3-9\" x=\"263.835938\" y=\"14.34375\"/>\n",
       "<use xlink:href=\"#glyph-3-10\" x=\"266.835938\" y=\"14.34375\"/>\n",
       "<use xlink:href=\"#glyph-3-11\" x=\"273.835938\" y=\"14.34375\"/>\n",
       "<use xlink:href=\"#glyph-3-2\" x=\"280.835938\" y=\"14.34375\"/>\n",
       "<use xlink:href=\"#glyph-3-9\" x=\"283.835938\" y=\"14.34375\"/>\n",
       "<use xlink:href=\"#glyph-3-1\" x=\"286.835938\" y=\"14.34375\"/>\n",
       "<use xlink:href=\"#glyph-3-12\" x=\"293.835938\" y=\"14.34375\"/>\n",
       "<use xlink:href=\"#glyph-3-7\" x=\"300.835938\" y=\"14.34375\"/>\n",
       "<use xlink:href=\"#glyph-3-1\" x=\"303.835938\" y=\"14.34375\"/>\n",
       "<use xlink:href=\"#glyph-3-13\" x=\"310.835938\" y=\"14.34375\"/>\n",
       "<use xlink:href=\"#glyph-3-7\" x=\"313.835938\" y=\"14.34375\"/>\n",
       "<use xlink:href=\"#glyph-3-14\" x=\"316.835938\" y=\"14.34375\"/>\n",
       "<use xlink:href=\"#glyph-3-5\" x=\"326.835938\" y=\"14.34375\"/>\n",
       "<use xlink:href=\"#glyph-3-15\" x=\"333.835938\" y=\"14.34375\"/>\n",
       "<use xlink:href=\"#glyph-3-1\" x=\"336.835938\" y=\"14.34375\"/>\n",
       "<use xlink:href=\"#glyph-3-4\" x=\"343.835938\" y=\"14.34375\"/>\n",
       "<use xlink:href=\"#glyph-3-16\" x=\"347.835938\" y=\"14.34375\"/>\n",
       "<use xlink:href=\"#glyph-3-5\" x=\"354.835938\" y=\"14.34375\"/>\n",
       "<use xlink:href=\"#glyph-3-17\" x=\"361.835938\" y=\"14.34375\"/>\n",
       "<use xlink:href=\"#glyph-3-9\" x=\"367.835938\" y=\"14.34375\"/>\n",
       "<use xlink:href=\"#glyph-3-3\" x=\"370.835938\" y=\"14.34375\"/>\n",
       "<use xlink:href=\"#glyph-3-16\" x=\"376.835938\" y=\"14.34375\"/>\n",
       "<use xlink:href=\"#glyph-3-18\" x=\"383.835938\" y=\"14.34375\"/>\n",
       "<use xlink:href=\"#glyph-3-19\" x=\"386.835938\" y=\"14.34375\"/>\n",
       "<use xlink:href=\"#glyph-3-12\" x=\"393.835938\" y=\"14.34375\"/>\n",
       "<use xlink:href=\"#glyph-3-20\" x=\"400.835938\" y=\"14.34375\"/>\n",
       "<use xlink:href=\"#glyph-3-2\" x=\"407.835938\" y=\"14.34375\"/>\n",
       "<use xlink:href=\"#glyph-3-21\" x=\"410.835938\" y=\"14.34375\"/>\n",
       "<use xlink:href=\"#glyph-3-7\" x=\"417.835938\" y=\"14.34375\"/>\n",
       "<use xlink:href=\"#glyph-3-8\" x=\"420.835938\" y=\"14.34375\"/>\n",
       "<use xlink:href=\"#glyph-3-9\" x=\"429.835938\" y=\"14.34375\"/>\n",
       "<use xlink:href=\"#glyph-3-13\" x=\"432.835938\" y=\"14.34375\"/>\n",
       "<use xlink:href=\"#glyph-3-13\" x=\"435.835938\" y=\"14.34375\"/>\n",
       "<use xlink:href=\"#glyph-3-7\" x=\"438.835938\" y=\"14.34375\"/>\n",
       "<use xlink:href=\"#glyph-3-9\" x=\"441.835938\" y=\"14.34375\"/>\n",
       "<use xlink:href=\"#glyph-3-12\" x=\"444.835938\" y=\"14.34375\"/>\n",
       "<use xlink:href=\"#glyph-3-7\" x=\"451.835938\" y=\"14.34375\"/>\n",
       "<use xlink:href=\"#glyph-3-22\" x=\"454.835938\" y=\"14.34375\"/>\n",
       "<use xlink:href=\"#glyph-3-19\" x=\"464.835938\" y=\"14.34375\"/>\n",
       "<use xlink:href=\"#glyph-3-5\" x=\"471.835938\" y=\"14.34375\"/>\n",
       "<use xlink:href=\"#glyph-3-12\" x=\"478.835938\" y=\"14.34375\"/>\n",
       "<use xlink:href=\"#glyph-3-3\" x=\"485.835938\" y=\"14.34375\"/>\n",
       "<use xlink:href=\"#glyph-3-7\" x=\"491.835938\" y=\"14.34375\"/>\n",
       "<use xlink:href=\"#glyph-3-23\" x=\"494.835938\" y=\"14.34375\"/>\n",
       "<use xlink:href=\"#glyph-3-24\" x=\"498.835938\" y=\"14.34375\"/>\n",
       "<use xlink:href=\"#glyph-3-9\" x=\"507.835938\" y=\"14.34375\"/>\n",
       "<use xlink:href=\"#glyph-3-25\" x=\"510.835938\" y=\"14.34375\"/>\n",
       "<use xlink:href=\"#glyph-3-19\" x=\"516.835938\" y=\"14.34375\"/>\n",
       "<use xlink:href=\"#glyph-3-7\" x=\"523.835938\" y=\"14.34375\"/>\n",
       "<use xlink:href=\"#glyph-3-26\" x=\"526.835938\" y=\"14.34375\"/>\n",
       "<use xlink:href=\"#glyph-3-18\" x=\"535.835938\" y=\"14.34375\"/>\n",
       "<use xlink:href=\"#glyph-3-5\" x=\"538.835938\" y=\"14.34375\"/>\n",
       "<use xlink:href=\"#glyph-3-3\" x=\"545.835938\" y=\"14.34375\"/>\n",
       "<use xlink:href=\"#glyph-3-3\" x=\"551.835938\" y=\"14.34375\"/>\n",
       "<use xlink:href=\"#glyph-3-27\" x=\"557.835938\" y=\"14.34375\"/>\n",
       "</g>\n",
       "<g fill=\"rgb(0%, 0%, 0%)\" fill-opacity=\"1\">\n",
       "<use xlink:href=\"#glyph-1-5\" x=\"346.835938\" y=\"351.572266\"/>\n",
       "<use xlink:href=\"#glyph-1-18\" x=\"349.835938\" y=\"351.572266\"/>\n",
       "<use xlink:href=\"#glyph-1-12\" x=\"355.835938\" y=\"351.572266\"/>\n",
       "<use xlink:href=\"#glyph-1-16\" x=\"357.835938\" y=\"351.572266\"/>\n",
       "<use xlink:href=\"#glyph-1-19\" x=\"363.835938\" y=\"351.572266\"/>\n",
       "<use xlink:href=\"#glyph-1-9\" x=\"369.835938\" y=\"351.572266\"/>\n",
       "<use xlink:href=\"#glyph-1-1\" x=\"372.835938\" y=\"351.572266\"/>\n",
       "<use xlink:href=\"#glyph-1-5\" x=\"378.835938\" y=\"351.572266\"/>\n",
       "<use xlink:href=\"#glyph-1-20\" x=\"381.835938\" y=\"351.572266\"/>\n",
       "<use xlink:href=\"#glyph-1-21\" x=\"387.835938\" y=\"351.572266\"/>\n",
       "<use xlink:href=\"#glyph-1-22\" x=\"390.835938\" y=\"351.572266\"/>\n",
       "<use xlink:href=\"#glyph-1-23\" x=\"396.835938\" y=\"351.572266\"/>\n",
       "</g>\n",
       "</svg>\n"
      ],
      "text/plain": [
       "plot without title"
      ]
     },
     "metadata": {
      "application/pdf": {
       "height": 300,
       "width": 600
      },
      "image/jpeg": {
       "height": 300,
       "width": 600
      },
      "image/png": {
       "height": 300,
       "width": 600
      },
      "image/svg+xml": {
       "height": 300,
       "isolated": true,
       "width": 600
      }
     },
     "output_type": "display_data"
    }
   ],
   "source": [
    "options(repr.plot.width = 10, repr.plot.height = 5)\n",
    "\n",
    "#Visualizing Bootrap Distribution w/ shaded Bootstrap CI's\n",
    "\n",
    "bt_dist_ci<- visualize(mal_bootstrap_ci) + \n",
    "        shade_confidence_interval(endpoints = mal_ci) +\n",
    "        labs(title= 'Bootsrap Distribution of major_axis_length Diff in Means (Rice Class)',\n",
    "             x= 'Delta Major Axis Length', caption= \"\\n Figure 4.2c\") +\n",
    "        theme(text = element_text(size = 10),\n",
    "              plot.title = element_text(hjust = 0.5),\n",
    "              plot.caption = element_text(size = 10, hjust = 0.5))\n",
    "\n",
    "bt_dist_ci"
   ]
  },
  {
   "cell_type": "markdown",
   "id": "83206c88-df56-4f13-a7b7-446656c8fe51",
   "metadata": {},
   "source": [
    "#### 4.2.3 Central Limit Theorem (CLT) Method: Hypothesis testing Using two sample t-test \n",
    "\n",
    "Figure 2b above shows that Cammeo rice has a longer major axis compared to Osmancik rice but our dataset only represents a sample of the rice species and not all Cammeo and Osmancik rice. Therefore, it is necessary to conduct hypothesis testing. Similar to the previous $t$-test, the normality condition is satisfied. \n",
    "\n",
    "##### Conducting the $t$-test"
   ]
  },
  {
   "cell_type": "code",
   "execution_count": 62,
   "id": "90d4e0a6-616c-4ddf-831c-9491e4f5b742",
   "metadata": {
    "tags": []
   },
   "outputs": [
    {
     "data": {
      "text/html": [
       "<table class=\"dataframe\">\n",
       "<caption>A tibble: 1 × 10</caption>\n",
       "<thead>\n",
       "\t<tr><th scope=col>diff_mal_means</th><th scope=col>cammeo_mal_mean</th><th scope=col>osmancik_mal_mean</th><th scope=col>statistic</th><th scope=col>p.value</th><th scope=col>parameter</th><th scope=col>conf.low</th><th scope=col>conf.high</th><th scope=col>method</th><th scope=col>alternative</th></tr>\n",
       "\t<tr><th scope=col>&lt;dbl&gt;</th><th scope=col>&lt;dbl&gt;</th><th scope=col>&lt;dbl&gt;</th><th scope=col>&lt;dbl&gt;</th><th scope=col>&lt;dbl&gt;</th><th scope=col>&lt;dbl&gt;</th><th scope=col>&lt;dbl&gt;</th><th scope=col>&lt;dbl&gt;</th><th scope=col>&lt;chr&gt;</th><th scope=col>&lt;chr&gt;</th></tr>\n",
       "</thead>\n",
       "<tbody>\n",
       "\t<tr><td>29.19083</td><td>205.4786</td><td>176.2878</td><td>89.77632</td><td>0</td><td>3310.051</td><td>28.65586</td><td>Inf</td><td>Welch Two Sample t-test</td><td>greater</td></tr>\n",
       "</tbody>\n",
       "</table>\n"
      ],
      "text/latex": [
       "A tibble: 1 × 10\n",
       "\\begin{tabular}{llllllllll}\n",
       " diff\\_mal\\_means & cammeo\\_mal\\_mean & osmancik\\_mal\\_mean & statistic & p.value & parameter & conf.low & conf.high & method & alternative\\\\\n",
       " <dbl> & <dbl> & <dbl> & <dbl> & <dbl> & <dbl> & <dbl> & <dbl> & <chr> & <chr>\\\\\n",
       "\\hline\n",
       "\t 29.19083 & 205.4786 & 176.2878 & 89.77632 & 0 & 3310.051 & 28.65586 & Inf & Welch Two Sample t-test & greater\\\\\n",
       "\\end{tabular}\n"
      ],
      "text/markdown": [
       "\n",
       "A tibble: 1 × 10\n",
       "\n",
       "| diff_mal_means &lt;dbl&gt; | cammeo_mal_mean &lt;dbl&gt; | osmancik_mal_mean &lt;dbl&gt; | statistic &lt;dbl&gt; | p.value &lt;dbl&gt; | parameter &lt;dbl&gt; | conf.low &lt;dbl&gt; | conf.high &lt;dbl&gt; | method &lt;chr&gt; | alternative &lt;chr&gt; |\n",
       "|---|---|---|---|---|---|---|---|---|---|\n",
       "| 29.19083 | 205.4786 | 176.2878 | 89.77632 | 0 | 3310.051 | 28.65586 | Inf | Welch Two Sample t-test | greater |\n",
       "\n"
      ],
      "text/plain": [
       "  diff_mal_means cammeo_mal_mean osmancik_mal_mean statistic p.value parameter\n",
       "1 29.19083       205.4786        176.2878          89.77632  0       3310.051 \n",
       "  conf.low conf.high method                  alternative\n",
       "1 28.65586 Inf       Welch Two Sample t-test greater    "
      ]
     },
     "metadata": {},
     "output_type": "display_data"
    }
   ],
   "source": [
    "#use t test to obtain test statistic and p value\n",
    "t_test_mal <- broom::tidy(\n",
    "    t.test(mu = 0, \n",
    "           x = cammeo_sample$major_axis_length, \n",
    "           y = osmancik_sample$major_axis_length,\n",
    "          alternative = 'greater')) %>%\n",
    "    rename(diff_mal_means = estimate, \n",
    "           cammeo_mal_mean = estimate1,\n",
    "           osmancik_mal_mean = estimate2)\n",
    "t_test_mal"
   ]
  },
  {
   "cell_type": "markdown",
   "id": "fa24c8e9-8bc3-4290-b70f-3cbc7a1b63ab",
   "metadata": {},
   "source": [
    "Since our test statistic is quite large with a value of 89.8, our p value is very small (approximately 0) which indicates that we should reject our null hypothesis at the 0.05 significance level. The results show that there is a significant difference between the mean major axis length of Cammeo rice and the mean major axis length of Osmancik rice, with Cammeo rice having a greater major axis length. \n",
    "##### Visualizing the Null Distribution"
   ]
  },
  {
   "cell_type": "code",
   "execution_count": null,
   "id": "6d805142-ab10-405f-a4e3-072b61d070a2",
   "metadata": {
    "tags": []
   },
   "outputs": [],
   "source": [
    "options(repr.plot.width = 7, repr.plot.height = 5)\n",
    "\n",
    "#Pulling test statistic\n",
    "test_stat_clt_mal <- t_test_mal %>%\n",
    "pull(statistic)\n",
    "\n",
    "\n",
    "#Visualizing t-distribution according to null hypothesis\n",
    "t_null_dist <- cleaned_rice_data |>\n",
    "        specify(formula = major_axis_length ~ class) |>\n",
    "        assume(distribution = \"t\")\n",
    "\n",
    "t_null_dist_vis <- visualize(t_null_dist) + shade_p_value(test_stat_clt_mal, direction = \"right\") +\n",
    "    labs(caption = \"\\n Figure 4.2d\") +\n",
    "    theme(text = element_text(size = 15),\n",
    "          plot.title = element_text(hjust = 0.5),\n",
    "          plot.caption = element_text(size = 10, hjust = 0.5))\n",
    "\n",
    "t_null_dist_vis"
   ]
  },
  {
   "cell_type": "markdown",
   "id": "7887d762-b378-4687-b377-8dd3a3e5f62f",
   "metadata": {},
   "source": [
    "##### Results\n",
    "Figure 4.2d illustrates how our test statistic calculated for the major axis length variable of our data set, based on the assumption of CLT, is positioned at the extreme tail of the t distribution, explaining the very small $p$ value that we obtained which is approximately zero ($p < 0.05$). Such a result indicates that if our null hypothesis is true, that there is no difference in the mean major axis length of the two rice classes, our observed data set is highly unlikely. "
   ]
  },
  {
   "cell_type": "markdown",
   "id": "b2b4f690-95e0-4eb8-b5ff-311b0cfd5063",
   "metadata": {
    "tags": []
   },
   "source": [
    "#### 4.2.4 Central Limit Theorem (CLT) Method: Confidence Intervals"
   ]
  },
  {
   "cell_type": "code",
   "execution_count": 63,
   "id": "c4e56f47-0829-480c-92f8-a6158cccd08b",
   "metadata": {
    "tags": []
   },
   "outputs": [
    {
     "data": {
      "text/html": [
       "<table class=\"dataframe\">\n",
       "<caption>A tibble: 1 × 2</caption>\n",
       "<thead>\n",
       "\t<tr><th scope=col>lower_ci</th><th scope=col>upper_ci</th></tr>\n",
       "\t<tr><th scope=col>&lt;dbl&gt;</th><th scope=col>&lt;dbl&gt;</th></tr>\n",
       "</thead>\n",
       "<tbody>\n",
       "\t<tr><td>28.65601</td><td>29.72566</td></tr>\n",
       "</tbody>\n",
       "</table>\n"
      ],
      "text/latex": [
       "A tibble: 1 × 2\n",
       "\\begin{tabular}{ll}\n",
       " lower\\_ci & upper\\_ci\\\\\n",
       " <dbl> & <dbl>\\\\\n",
       "\\hline\n",
       "\t 28.65601 & 29.72566\\\\\n",
       "\\end{tabular}\n"
      ],
      "text/markdown": [
       "\n",
       "A tibble: 1 × 2\n",
       "\n",
       "| lower_ci &lt;dbl&gt; | upper_ci &lt;dbl&gt; |\n",
       "|---|---|\n",
       "| 28.65601 | 29.72566 |\n",
       "\n"
      ],
      "text/plain": [
       "  lower_ci upper_ci\n",
       "1 28.65601 29.72566"
      ]
     },
     "metadata": {},
     "output_type": "display_data"
    }
   ],
   "source": [
    "#Calculating Mean and Standard error per rice class\n",
    "rice_summary <- cleaned_rice_data |>\n",
    "    group_by(class)|>\n",
    "    summarize(sample_mean= mean(major_axis_length), sample_std_error= sd(major_axis_length)/sqrt(n()))\n",
    "\n",
    "\n",
    "#Assigning previous values to variables \n",
    "cammeo_mean <- rice_summary$sample_mean[1]\n",
    "cammeo_var <- (rice_summary$sample_std_error[1])**2\n",
    "osmancik_mean <-  rice_summary$sample_mean[2]\n",
    "osmancik_var <- (rice_summary$sample_std_error[2])**2\n",
    "\n",
    "\n",
    "#Calculating CLT Confidence Intervals\n",
    "rice_clt_ci <- \n",
    "    tibble(lower_ci = qnorm(0.05, (cammeo_mean-osmancik_mean), sqrt(cammeo_var + osmancik_var)),\n",
    "        upper_ci = qnorm(0.95, (cammeo_mean-osmancik_mean), sqrt(cammeo_var + osmancik_var)))\n",
    "\n",
    "\n",
    "head(rice_clt_ci)"
   ]
  },
  {
   "cell_type": "markdown",
   "id": "8af219eb-e338-4267-b70c-017afc7a212a",
   "metadata": {},
   "source": [
    "### 4.4 Confidence Interval from CLT vs. Bootstrapping"
   ]
  },
  {
   "cell_type": "code",
   "execution_count": null,
   "id": "52ebd0ac-1c8a-4b2e-8bc8-bb78253f6369",
   "metadata": {
    "tags": []
   },
   "outputs": [],
   "source": [
    "# Bootstrapping VS CLT Confidence Intervals for difference in perimeter means\n",
    "perimeter_ci <- tibble(method = c(\"Bootstrap\", \"CLT\"),\n",
    "                       lower_per_ci = c(bootstrap_perimeter_ci$lower_ci, \n",
    "                                    perimeter_diff_means_ci$perimeter_lower_ci),\n",
    "                       upper_per_ci = c(bootstrap_perimeter_ci$upper_ci, \n",
    "                                    perimeter_diff_means_ci$perimeter_upper_ci))\n",
    "\n",
    "# Bootstrapping VS CLT Confidence Intervals for difference in major axis length means\n",
    "mal_ci1 <- tibble(method = c(\"Bootstrap\", \"CLT\"), \n",
    "                 lower_mal_ci = c(mal_ci$lower_ci, rice_clt_ci$lower_ci),\n",
    "                 upper_mal_ci = c(mal_ci$upper_ci, rice_clt_ci$upper_ci))\n",
    "\n",
    "margin_error_perimeter <- ((59.42114 - 56.63590) - (59.39286 - 56.65401)) / 2\n",
    "margin_error_mal <- ((29.84611 - 28.52621) - (29.72566 - 28.65601)) / 2\n",
    "\n",
    "perimeter_ci\n",
    "mal_ci1"
   ]
  },
  {
   "cell_type": "markdown",
   "id": "e94d78bd-7c2a-4242-9d6f-fbfc490ce35c",
   "metadata": {},
   "source": [
    "Due to our sample size being quite large, our confidence intervals predicted by both methods do not differ by much. The margin of error for difference in perimeter means is $\\pm 0.023$ more for Bootstrapping than CLT, leading to a wider CI. Similarly, the margin of error for the difference in major axis length means is $\\pm0.125$. \n",
    "This is because in our bootstrapping method, we are using the sample variance which leads to more uncertainty.  Although both methods have their own qualms, we prefer the CLT as it has more precision, which would have significantly demonstrated itself had the sample size been quite small. "
   ]
  },
  {
   "cell_type": "markdown",
   "id": "1f259adf-0f32-482b-8fcb-4d2ae8fa15d2",
   "metadata": {
    "tags": []
   },
   "source": [
    "## 5. Discussion "
   ]
  },
  {
   "cell_type": "markdown",
   "id": "0c64c0f0-70ed-479a-8fbe-6d1a264c901e",
   "metadata": {},
   "source": [
    "### 5.1 Findings Summary & Conclusions"
   ]
  },
  {
   "cell_type": "markdown",
   "id": "5264d061-92bc-49cc-9a47-0aeeeff0061d",
   "metadata": {},
   "source": [
    "#### 5.1.1 Summary for `perimeter`"
   ]
  },
  {
   "cell_type": "code",
   "execution_count": null,
   "id": "04926374-ccda-43fc-ad6f-91e995b10566",
   "metadata": {
    "tags": []
   },
   "outputs": [],
   "source": [
    "options(repr.plot.width = 12, repr.plot.height = 7)\n",
    "\n",
    "#Arranging all perimeter visualizations in a tidy manner\n",
    "grid.arrange(bootstrap_perimeter, bootstrap_perimeter_hist, bootstrap_perimeter_dist_ci, t_null_visual, ncol = 2)"
   ]
  },
  {
   "cell_type": "markdown",
   "id": "6a2a3e5f-bcc9-481e-875f-7250fa88606b",
   "metadata": {},
   "source": [
    "In figure 4.1a we can observe our Bootstrap Distribution obtained from the `infer` package. Alongside in figure 4.1b, we observe our test statistic with the bootstrap distribution, our test statistic allows us to calculate our $p$-value (refer to 4.1.1) and consequently reject our null hypothesis. \n",
    "\n",
    "As previously mentioned in our report, we consider the CLT method to have a higher precision. Due to our lower and upper quantiles (refer to table 1, 4.4), we are 95% confident that the true perimeter difference in means between Cammeo and Osmancik rice is between $56.65401$ and $59.39286$. "
   ]
  },
  {
   "cell_type": "markdown",
   "id": "60316ea7-57d6-43bb-89b8-871cfde5174f",
   "metadata": {},
   "source": [
    "#### 5.1.2 Summary for `major_axis_length` "
   ]
  },
  {
   "cell_type": "code",
   "execution_count": null,
   "id": "5a9181cf-40b4-4b59-b099-8a199c5f99a0",
   "metadata": {
    "tags": []
   },
   "outputs": [],
   "source": [
    "options(repr.plot.width = 12, repr.plot.height = 7)\n",
    "\n",
    "#Arranging all major_axis_length visualizations in a tidy manner\n",
    "grid.arrange(bootstrap_mal, bootstrap_mal_t, bt_dist_ci, t_null_dist_vis, ncol= 2)"
   ]
  },
  {
   "cell_type": "markdown",
   "id": "730f66fb-af1d-4dbe-8441-0fb1f689a449",
   "metadata": {},
   "source": [
    "In figure 4.2a we can observe our Bootstrap Distribution obtained from the `infer` package. Alongside in figure 4.1b, we observe our test statistic with the bootstrap distribution, our test statistic allows us to calculate our $p$-value (refer to 4.2.1) and consequently reject our null hypothesis. \n",
    "\n",
    "Due to our lower and upper quantiles (refer to table 1, 4.4), we are 95% confident that that the true Major Axis Length difference in means between Cammeo and Osmancik rice is between $28.65601$ and $29.72566$ (These Confidence Intervals are obtained from the CLT). "
   ]
  },
  {
   "cell_type": "markdown",
   "id": "79d4963f-7e2e-4570-b98a-1e7618eb4e3e",
   "metadata": {},
   "source": [
    "### 5.2 Results of Two-Sample $t$-Tests "
   ]
  },
  {
   "cell_type": "markdown",
   "id": "17a5bcae-323a-42eb-8982-e95a225c481c",
   "metadata": {},
   "source": [
    "For both of our $t$-tests done using the bootstrapping method and under the assumption of CLT respectively, all differences in mean tests conclude that Cammeo rice has a larger mean perimeter and mean major axis length than Osmancik Rice. From our hypothesis testing, we also found extremely low $p$-values suggesting statistical significance of our findings.  "
   ]
  },
  {
   "cell_type": "markdown",
   "id": "4774d216-fd24-472f-af9d-ce7e222d9026",
   "metadata": {
    "tags": []
   },
   "source": [
    "Overall our findings are statistically significant since our $p$-value was calculated to be smaller than our stated significance level. Even though our values were shockingly low, we did expect to find exceptionally significant data due to our high correlation between the chosen variables (refer to figure 1)."
   ]
  },
  {
   "cell_type": "markdown",
   "id": "fb68ed2d-df07-44a6-ab87-a60851ffe973",
   "metadata": {},
   "source": [
    "### 5.3 Impact of our findings"
   ]
  },
  {
   "cell_type": "markdown",
   "id": "072f4f1c-24ab-4dc5-9c46-2a774d61ffbf",
   "metadata": {},
   "source": [
    "These conclusions can mean that classification between Cammeo and Osmancik would be much easier given the two predictors we are interested in. What could be more interesting to explore the degree to which the difference varies for each variable `perimeter` and `major_axis_length`. For the aforementioned, we could perform more difference in means hypothesis tests but test a specific value that they differ by. Such tests could lead to further interesting revelations about each type of rice (Cammeo and Osmancik in our case).\n",
    "\n",
    "These findings could be important for business in the agricultural and farming sector. It is also within our interest to explore our variables, `perimeter` and `major_axis_length` further to see which farming techniques could optimize the rice growth and in turn increase profits."
   ]
  },
  {
   "cell_type": "markdown",
   "id": "2a5f9f28-1e6c-4237-a0bf-5974ca56197c",
   "metadata": {},
   "source": [
    "## References\n",
    "- Rice (Cammeo and Osmancik). (2019). UCI Machine Learning Repository. https://doi.org/10.24432/C5MW4Z.\n",
    "\n",
    "- [Koklu, M., Cinar, I., & Taspinar, Y. S. (2021). Classification of rice varieties with deep learning methods. Computers and Electronics in Agriculture, 187, 106285. https://doi.org/10.1016/j.compag.2021.106285](https://www.sciencedirect.com/science/article/pii/S0168169921003021)\n",
    "\n",
    "- [Tuğrul, B. (2022). Classification of five different rice seeds grown in Turkey with deep learning methods . Communications Faculty of Sciences University of Ankara Series A2-A3 Physical Sciences and Engineering , 64 (1) , 40-50 . DOI: 10.33769/aupse.1107590](https://dergipark.org.tr/en/pub/aupse/issue/68241/1107590)"
   ]
  }
 ],
 "metadata": {
  "kernelspec": {
   "display_name": "R",
   "language": "R",
   "name": "ir"
  },
  "language_info": {
   "codemirror_mode": "r",
   "file_extension": ".r",
   "mimetype": "text/x-r-source",
   "name": "R",
   "pygments_lexer": "r",
   "version": "4.2.3"
  }
 },
 "nbformat": 4,
 "nbformat_minor": 5
}
